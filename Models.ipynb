{
 "cells": [
  {
   "cell_type": "code",
   "execution_count": null,
   "metadata": {},
   "outputs": [],
   "source": [
    "# Import necessary libraries\n",
    "import matplotlib.pyplot as plt\n",
    "import numpy as np\n",
    "from scipy.stats import lognorm\n",
    "from scipy.integrate import quad"
   ]
  },
  {
   "cell_type": "code",
   "execution_count": null,
   "metadata": {},
   "outputs": [],
   "source": [
    "# \"IMPLICIT\" SEARCH FUNCTION\n",
    "\n",
    "def uij(ki,gammai,Vj,t,kj):\n",
    "    \"Utility patient i receives from doctor j\"\n",
    "\n",
    "    return Vj * ki - t + np.where(ki >= kj, gammai, 0)\n",
    "        \n",
    "def aij(u,λ):\n",
    "    \"Intermediate function to calculate sij\"\n",
    "\n",
    "    return np.where(u > 0, np.exp(λ*u), 0)\n",
    "                \n",
    "def sij(ki,gammai,Vj,t,kj,λ):    #It takes the J-sized vectors of all doctors' Vj and κj as arguments\n",
    "    \"Probability that patient i visits doctor j\"\n",
    "\n",
    "    u = uij(ki,gammai,Vj,t,kj)\n",
    "\n",
    "    return aij(u,λ)/np.sum(aij(u,λ))"
   ]
  },
  {
   "cell_type": "markdown",
   "metadata": {},
   "source": [
    "The function 'sij' gives us each patient's Si vector of strategies, and if broadcast correctly it can output all patients' strategies in a single array (given numerable patients in a MC simulation), where each column is each patient’s Si, each row could be added up to a doctor's Qi.\n",
    "\n",
    "We keep it as a callable function for cases where we want the sij of a particular set of patient x doctor parameters, namely when calculating the derivative of our FOC."
   ]
  },
  {
   "cell_type": "code",
   "execution_count": 4,
   "metadata": {},
   "outputs": [],
   "source": [
    "class SearchEq:\n",
    "    \n",
    "    def __init__(self,  I,  # Number of patients in the whole market\n",
    "                        F,  # Distribution of κi\n",
    "                        G,  # Distribution of γi\n",
    "                        t,  # Cost of visit\n",
    "                        λ,  # Logit parameter\n",
    "                        R,  # Revenue function Rj\n",
    "                        P,  # Punishment function Pj\n",
    "                        V):  # Given vector of Vj\n",
    "       \n",
    "        self.I, self.F, self.G, self.t, self.λ, self.R, self.P, self.V = I, F, G, t, λ, R, P, V     # Save parameters\n",
    "    \n",
    "    def Si(self, k0, s=123):\n",
    "        \"MC simulation of the set of patient strategies out of a given set κ0 of doctor thresholds, seed s\"\n",
    "\n",
    "        I, F, G, t, λ, V = self.I, self.F, self.G, self.t, self.λ, self.V    # Unpack parameters\n",
    "        \n",
    "        rng = np.default_rng(s)\n",
    "        ki = F.rvs(size=I, random_state=rng).reshape((1,-1))    # Sample of patients out of distribution\n",
    "        gammai = G.rvs(size=I, random_state=rng).reshape((1,-1))\n",
    "        \n",
    "        Vj = V.reshape((-1,1))      # Reshaping doctor parameters for proper broadcasting\n",
    "        kj = k0.reshape((-1,1))\n",
    "\n",
    "        return sij(ki,gammai,Vj,t,kj,λ), ki, gammai\n",
    "\n",
    "    def Qi_MC(self, k0, s=123):\n",
    "        \"Vector of expected patient demand by each doctor j out of an MC simulation of Si\"\n",
    "\n",
    "        S = self.Si(self, k0, s)\n",
    "\n",
    "        return np.sum(S, axis = 1)\n",
    "    \n",
    "    def Xi_MC(self, k0, s=123):\n",
    "        \"Vector of expected certificates granted by each doctor j out of an MC simulation of Si\"\n",
    "\n",
    "        S, ki = self.Si(self, k0, s)\n",
    "        ki_greater = np.array(ki.reshape((1,-1)) >= k0.reshape((-1,1))).astype(int) \n",
    "\n",
    "        return np.sum(S*ki_greater, axis = 1)\n",
    "    \n",
    "    def FOC_MC(self, k0, dR, dP, s=123):\n",
    "        \"Out of the previous MC results, it outputs the value of evaluated FOC\"\n",
    "\n",
    "        Q = self.Qi_MC(self, k0, s)\n",
    "        X = self.Xi_MC(self, k0, s)\n",
    "        \n",
    "\n",
    "\n",
    "\n"
   ]
  },
  {
   "cell_type": "code",
   "execution_count": null,
   "metadata": {},
   "outputs": [],
   "source": [
    "rng = np.default_rng(s)             # Set up number generator using seed\n",
    "V = H.rvs(size=J, random_state=rng)     # Create J-size vector of Vj values using H"
   ]
  }
 ],
 "metadata": {
  "kernelspec": {
   "display_name": "base",
   "language": "python",
   "name": "python3"
  },
  "language_info": {
   "codemirror_mode": {
    "name": "ipython",
    "version": 3
   },
   "file_extension": ".py",
   "mimetype": "text/x-python",
   "name": "python",
   "nbconvert_exporter": "python",
   "pygments_lexer": "ipython3",
   "version": "3.12.2"
  }
 },
 "nbformat": 4,
 "nbformat_minor": 2
}
