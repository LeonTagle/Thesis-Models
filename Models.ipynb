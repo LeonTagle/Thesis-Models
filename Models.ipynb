{
 "cells": [
  {
   "cell_type": "code",
   "execution_count": 145,
   "metadata": {},
   "outputs": [],
   "source": [
    "# Import necessary libraries\n",
    "import matplotlib.pyplot as plt\n",
    "import numpy as np\n",
    "import sympy as sp\n",
    "from scipy.stats import expon\n",
    "from scipy.stats import uniform\n",
    "from scipy.optimize import root\n",
    "from scipy.optimize import minimize\n",
    "from scipy.optimize import least_squares"
   ]
  },
  {
   "cell_type": "markdown",
   "metadata": {},
   "source": [
    "We start off by defining our patients' utility function standalone, to be used in the rest of the code.\n",
    "Note: Unlike in the paper, we use the letter 'k' rather than a greek 'κ' for ease of coding. We write out 'gamma' in the code itself, though in the comments we'll sometimes make use of 'γ' for spacing constraints."
   ]
  },
  {
   "cell_type": "code",
   "execution_count": 528,
   "metadata": {},
   "outputs": [],
   "source": [
    "def utility(ki,gammai,kj,Vj,t):\n",
    "    \"\"\"\n",
    "    Computes the J x I matrix of uij's, patient's i utility from patient j if a visit takes place\n",
    "\n",
    "    Arguments:\n",
    "        ki: 1 x I vector of patients' \"medical necesity\", κ_i parameter.\n",
    "        gammai: 1 x I vector of patients' \"taste for certificates\", γ_i parameter.\n",
    "        kj: J x 1 vector of doctors' chosen threshold, κ_j parameter.\n",
    "        Vj: J x 1 vector of doctors' \"service quality\", V_j parameter.\n",
    "        t: parametrized cost of visit.\n",
    "    \"\"\"\n",
    "\n",
    "    # Reshaping parameters to ensure proper broadcasting\n",
    "    ki = np.array(ki).reshape((1,-1))             # 1 x I\n",
    "    gammai = np.array(gammai).reshape((1,-1))     # 1 x I\n",
    "    kj = np.array(kj).reshape((-1,1))             # J x 1\n",
    "    Vj = np.array(Vj).reshape((-1,1))             # J x 1\n",
    "\n",
    "    return Vj * ki - t + np.where(ki >= kj, gammai, 0)\n",
    "                    # This way γ_i is summed if patient i's κ_i is above doctor j's threshold κ_j."
   ]
  },
  {
   "cell_type": "markdown",
   "metadata": {},
   "source": [
    "We will define search methods as classes, where their main attributes will be the I x J matrix of patients' strategies --containing each s_ij, i.e. the probability that patient i will visit doctor j--, and the I x J matrix of each d s_ij / d κ_j, i.e. the derivative of s_ij over doctor j's threshold κ_j."
   ]
  },
  {
   "cell_type": "code",
   "execution_count": 505,
   "metadata": {},
   "outputs": [],
   "source": [
    "def LogitSearch_derivative(n, J = 3):\n",
    "    # nth derivative\n",
    "    # J-sized vector (I go with 3 by default)\n",
    "\n",
    "    # Define prerequisite symbols\n",
    "    k = sp.Symbol('k')\n",
    "    λ = sp.Symbol('λ')\n",
    "    U = sp.Function('λ')(k)\n",
    "\n",
    "    # Collection of Vj's and U(i)j's\n",
    "    V_symbols = sp.symbols(f'V1:{J+1}')\n",
    "    U_functions = [sp.Function(f'U{j+1}')(k) for j in range(J)]\n",
    "\n",
    "    # For simplicity we forego the free disposal requirement\n",
    "    alpha_function = sp.exp(λ*U)\n",
    "\n",
    "    # We recreate the alpha(i)j matrix\n",
    "    alpha_matrix = sp.Matrix([alpha_function.subs(U,U_functions[j]) for j in range(J)])\n",
    "    alpha_total = sum(alpha_matrix)\n",
    "    # We recreate the Si vector of patient i's strategies over j\n",
    "    # By dividing the alpha matrix by its total\n",
    "    Si = alpha_matrix / alpha_total\n",
    "\n",
    "    # We take the first component as an example for the rest\n",
    "    example = sp.simplify(\n",
    "        sp.diff(Si,k,n).subs(\n",
    "        (sp.diff(U_functions[j],k),V_symbols[j]) for j in range(J)\n",
    "        ).subs(         # We impose that dUj/dk = Vj\n",
    "            (sp.diff(V_symbols[j],k),0) for j in range(J)\n",
    "            )[0]        # We impose that dVj/dk = 0, since it's a scalar\n",
    "    )\n",
    "\n",
    "    return example"
   ]
  },
  {
   "cell_type": "code",
   "execution_count": 431,
   "metadata": {},
   "outputs": [
    {
     "data": {
      "text/latex": [
       "$\\displaystyle \\frac{λ \\left(V_{1} \\left(e^{λ U_{1}{\\left(k \\right)}} + e^{λ U_{2}{\\left(k \\right)}} + e^{λ U_{3}{\\left(k \\right)}}\\right) - V_{1} e^{λ U_{1}{\\left(k \\right)}} - V_{2} e^{λ U_{2}{\\left(k \\right)}} - V_{3} e^{λ U_{3}{\\left(k \\right)}}\\right) e^{λ U_{1}{\\left(k \\right)}}}{\\left(e^{λ U_{1}{\\left(k \\right)}} + e^{λ U_{2}{\\left(k \\right)}} + e^{λ U_{3}{\\left(k \\right)}}\\right)^{2}}$"
      ],
      "text/plain": [
       "λ*(V1*(exp(λ*U1(k)) + exp(λ*U2(k)) + exp(λ*U3(k))) - V1*exp(λ*U1(k)) - V2*exp(λ*U2(k)) - V3*exp(λ*U3(k)))*exp(λ*U1(k))/(exp(λ*U1(k)) + exp(λ*U2(k)) + exp(λ*U3(k)))**2"
      ]
     },
     "execution_count": 431,
     "metadata": {},
     "output_type": "execute_result"
    }
   ],
   "source": [
    "LogitSearch_derivative(2)"
   ]
  },
  {
   "cell_type": "code",
   "execution_count": 428,
   "metadata": {},
   "outputs": [],
   "source": [
    "def X_derivative(n):\n",
    "    # Takes the (n + 1)th derivative, because n = 0 is already dX/dk_j \n",
    "\n",
    "    # Define prerequisite symbols\n",
    "    k = sp.Symbol('k')\n",
    "    gamma = sp.Symbol('gamma')\n",
    "    s = sp.Function('s')(k,gamma)\n",
    "    g = sp.Function('g')(gamma)\n",
    "    f = sp.Function('f')(k)\n",
    "\n",
    "    # We set up 'int s(k_j,gamma) dG(gamma) f(k_j)'\n",
    "    integrand = s*g\n",
    "    integral = sp.integrate(integrand,gamma)\n",
    "    expression = integral*f\n",
    "    \n",
    "    return sp.diff(expression,k,n)"
   ]
  },
  {
   "cell_type": "code",
   "execution_count": 562,
   "metadata": {},
   "outputs": [
    {
     "data": {
      "text/latex": [
       "$\\displaystyle f{\\left(k \\right)} \\int g{\\left(\\gamma \\right)} \\frac{\\partial}{\\partial k} s{\\left(k,\\gamma \\right)}\\, d\\gamma + \\frac{d}{d k} f{\\left(k \\right)} \\int g{\\left(\\gamma \\right)} s{\\left(k,\\gamma \\right)}\\, d\\gamma$"
      ],
      "text/plain": [
       "f(k)*Integral(g(gamma)*Derivative(s(k, gamma), k), gamma) + Derivative(f(k), k)*Integral(g(gamma)*s(k, gamma), gamma)"
      ]
     },
     "execution_count": 562,
     "metadata": {},
     "output_type": "execute_result"
    }
   ],
   "source": [
    "X_derivative(1)"
   ]
  },
  {
   "cell_type": "code",
   "execution_count": 557,
   "metadata": {},
   "outputs": [],
   "source": [
    "class LogitSearch:\n",
    "\n",
    "    def __init__(self, ki,  # 1 x I vector of patients' \"medical necesity\", κ_i parameter.\n",
    "                    gammai, # 1 x I vector of patients' \"taste for certificates\", γ_i parameter.\n",
    "                    kj,     # J x 1 vector of doctors' chosen threshold, κ_j parameter.\n",
    "                    Vj,     # J x 1 vector of doctors' \"service quality\", V_j parameter.\n",
    "                    t,      # Scalar. Parametrized cost of visit.\n",
    "                    λ):     # Scalar. Logit shape parameter.\n",
    "    \n",
    "        # Save parameters\n",
    "        self.ki, self.gammai, self.kj, self.Vj, self.t, self.λ = ki, gammai, kj, Vj, t, λ\n",
    "\n",
    "    def U(self):\n",
    "        \"\"\"\n",
    "        Computes the J x I matrix of uij's, patient's i utility from patient j if a visit takes place.\n",
    "        See definition above.\n",
    "        \"\"\"\n",
    "\n",
    "        # Unpack parameters\n",
    "        ki, gammai, kj, Vj, t = self.ki, self.gammai, self.kj, self.Vj, self.t\n",
    "\n",
    "        return utility(ki,gammai,kj,Vj,t)\n",
    "    \n",
    "    def alpha_matrix(self):\n",
    "        \"\"\"\n",
    "        Intermediate matrix used to compute S matrix of patients' sij's.\n",
    "        alpha_ij equals e^(λ*uij) if uij > 0, else 0 (free disposal requirement)\n",
    "        \"\"\"\n",
    "\n",
    "        λ = self.λ  # scalar\n",
    "        U = self.U()  # J x I matrix of uij's\n",
    "\n",
    "        return np.where(U > 0, np.exp(λ*U), 0)\n",
    "    \n",
    "    def S(self):\n",
    "        \"\"\"\n",
    "        J x I matrix 'S' of patients' strategy vectors S_i, where each component sij stands for\n",
    "        the probability that patient i visits doctor j.\n",
    "\n",
    "        (Implicit) arguments:\n",
    "            ki: 1 x I vector of patients' \"medical necesity\", κ_i parameter.\n",
    "            gammai: 1 x I vector of patients' \"taste for certificates\", γ_i parameter.\n",
    "            kj: J x 1 vector of doctors' chosen threshold, κ_j parameter.\n",
    "            Vj: J x 1 vector of doctors' \"service quality\", V_j parameter.\n",
    "            t: Scalar. Parametrized cost of visit.\n",
    "            λ: Scalar. Logit shape parameter.\n",
    "\n",
    "        Returns:\n",
    "            s_ij  =  alpha_ij / Σ_j=1^J (alpha_ij)       if      Σ_j=1^J (alpha_ij) > 0\n",
    "                  =  0                                   ~\n",
    "                where\n",
    "            alpha_ij  =  e^(λ*uij)        if      uij > 0\n",
    "                      =  0                 ~\n",
    "\n",
    "        Output form:\n",
    "            s_{i=1,j=1}   s_{i=2,j=1}   ...   s_{i=I,j=1}\n",
    "            s_{i=1,j=2}   ...                   ...\n",
    "            # ...                               ...\n",
    "            s_{i=1,j=J}   ...           ...   s_{i=I,j=J}\n",
    "\n",
    "        Note:\n",
    "            It's set up to handle the posibility that no doctors give a certain patient i positive\n",
    "            utility, in which case he visits none of them -- i.e. S_i = vector(0).\n",
    "            In all other cases the probability that i visits \"some\" doctor equals 1.\n",
    "        \"\"\"\n",
    "\n",
    "        # alpha_matrix is a J x I matrix where alpha_ij equals e^(λ*uij) if uij > 0, else 0\n",
    "        alpha_matrix = self.alpha_matrix()\n",
    "        # alphai_total outputs the column-wise sum of alpha_ij's, i.e. the total by patient\n",
    "        alphai_total = np.sum(alpha_matrix, axis = 0)\n",
    "\n",
    "        with np.errstate(divide='ignore', invalid='ignore'):\n",
    "            # To avoid pesky division by zero warning      \n",
    "            return np.where(alphai_total != 0, alpha_matrix/alphai_total, 0)\n",
    "        \n",
    "    def dS(self):\n",
    "        \"\"\"\n",
    "        J x I matrix 'S' of the derivative of each patient's s_ij over the respective patient i's\n",
    "        medical necesity κ_i, i.e. d s_ij / s κ_i.\n",
    "\n",
    "        Returns:\n",
    "            a_ij = λ Vj e^(λuij) (Σ_{j=1 to J} e^(λuij)) - e^(λuij) (Σ_{j=1 to J} λ Vj e^(λuij)) \n",
    "            b_ij = (Σ_{j=1 to J} e^(λuij))^2 \n",
    "            d s_ij / s κ_i = a_ij / b_ij\n",
    "\n",
    "        Output form:\n",
    "            d s_{i=1,j=1}   d s_{i=2,j=1}   ...   d s_{i=I,j=1}\n",
    "              d κ_{i=1}       d κ_{i=2}             d κ_{i=I}\n",
    "            \n",
    "            d s_{i=1,j=2}       ...                   ...\n",
    "              d κ_{i=1}\n",
    "            \n",
    "            # ...                                     ...\n",
    "\n",
    "            d s_{i=1,j=J}       ...         ...   d s_{i=I,j=J}\n",
    "              d κ_{i=1}                             d κ_{i=I}\n",
    "        \"\"\"\n",
    "\n",
    "        alpha_matrix  = self.alpha_matrix()  # J x I matrix of uij's, alpha_ij's resp.\n",
    "        Vj = self.Vj    # J x 1 vector of physicians' quality Vj\n",
    "        λ = self.λ  # Scalar. Logit shape parameter.\n",
    "        Vj = Vj.reshape(-1,1)\n",
    "        # alphai_total outputs the column-wise sum of alpha_ij's, i.e. the total by patient\n",
    "        alphai_total = np.sum(alpha_matrix, axis = 0)\n",
    "        result = np.divide(\n",
    "            λ*Vj*alpha_matrix*alphai_total \n",
    "            - alpha_matrix*np.sum(λ*Vj*alpha_matrix, axis = 0),\n",
    "            alphai_total**2\n",
    "            )\n",
    "        \n",
    "        return np.where(alphai_total != 0, result, 0)\n",
    "    \n",
    "    def d2S(self):\n",
    "        \"\"\"\n",
    "        J x I matrix 'S' of the second derivative of each patient's s_ij over the respective patient i's\n",
    "        medical necesity κ_i, i.e. d2 s_ij / s κ_i.\n",
    "\n",
    "        Returns:\n",
    "            Check out the LogitSearch_derivative() function with n = 2 to look at the syntax.\n",
    "\n",
    "        Output form:\n",
    "            d2 s_{i=1,j=1}   d2 s_{i=2,j=1}   ...   d2 s_{i=I,j=1}\n",
    "              d κ_{i=1}        d κ_{i=2}              d κ_{i=I}\n",
    "            \n",
    "            d2 s_{i=1,j=2}       ...                   ...\n",
    "              d κ_{i=1}\n",
    "            \n",
    "            # ...                                     ...\n",
    "\n",
    "            d2 s_{i=1,j=J}       ...         ...   d2 s_{i=I,j=J}\n",
    "              d κ_{i=1}                              d κ_{i=I}\n",
    "        \"\"\"\n",
    "\n",
    "        alpha_matrix = self.alpha_matrix()  # J x I matrix of uij's, alpha_ij's resp.\n",
    "        Vj = self.Vj    # J x 1 vector of physicians' quality Vj\n",
    "        λ = self.λ  # Scalar. Logit shape parameter.\n",
    "        Vj = Vj.reshape(-1,1)\n",
    "\n",
    "        sum_eU = np.sum(alpha_matrix, axis = 0)         # Σ e^(λU) (previously alphai_total)\n",
    "        sum_VeU = np.sum(Vj*alpha_matrix, axis = 0)     # Σ Ve^(λU)\n",
    "        sum_V2eU = np.sum((Vj**2)*alpha_matrix, axis = 0)    # Σ V^2 e^(λU)\n",
    "\n",
    "        result = np.divide(\n",
    "            (λ**2)*alpha_matrix*(\n",
    "                (Vj**2)*(sum_eU**2) + 2*(sum_VeU**2)\n",
    "                - sum_eU*(sum_V2eU + 2*Vj*sum_VeU)\n",
    "            ),\n",
    "            sum_eU**3\n",
    "        )\n",
    "\n",
    "        return result\n",
    "\n",
    "    def d3S(self):\n",
    "        \"\"\"\n",
    "        J x I matrix 'S' of the third derivative of each patient's s_ij over the respective\n",
    "        patient i's medical necesity κ_i, i.e. d3 s_ij / s κ_i.\n",
    "\n",
    "        Returns:\n",
    "            Check out the LogitSearch_derivative() function with n = 2 to look at the syntax.\n",
    "\n",
    "        Output form:\n",
    "            d3 s_{i=1,j=1}   d3 s_{i=2,j=1}   ...   d3 s_{i=I,j=1}\n",
    "              d κ_{i=1}        d κ_{i=2}              d κ_{i=I}\n",
    "            \n",
    "            d3 s_{i=1,j=2}       ...                   ...\n",
    "              d κ_{i=1}\n",
    "            \n",
    "            # ...                                     ...\n",
    "\n",
    "            d3 s_{i=1,j=J}       ...         ...   d3 s_{i=I,j=J}\n",
    "              d κ_{i=1}                              d κ_{i=I}\n",
    "        \"\"\"\n",
    "\n",
    "        alpha_matrix = self.alpha_matrix()  # J x I matrix of uij's, alpha_ij's resp.\n",
    "        Vj = self.Vj    # J x 1 vector of physicians' quality Vj\n",
    "        λ = self.λ  # Scalar. Logit shape parameter.\n",
    "        Vj = Vj.reshape(-1,1)\n",
    "\n",
    "        sum_eU = np.sum(alpha_matrix, axis = 0)         # Σ e^(λU) (previously alphai_total)\n",
    "        sum_VeU = np.sum(Vj*alpha_matrix, axis = 0)     # Σ Ve^(λU)\n",
    "        sum_V2eU = np.sum((Vj**2)*alpha_matrix, axis = 0)    # Σ V^2 e^(λU)\n",
    "        sum_V3eU = np.sum((Vj**3)*alpha_matrix, axis = 0)    # Σ V^3 e^(λU)\n",
    "\n",
    "        result = np.divide(\n",
    "            (λ**3)*alpha_matrix*(\n",
    "                (Vj**3)*(sum_eU**3) - 6*(sum_VeU**3)\n",
    "                + 6*sum_eU*sum_VeU*(sum_V2eU + Vj*sum_VeU)\n",
    "                - (sum_eU**2)*(sum_V3eU + 3*(Vj**2)*sum_VeU + 3*Vj*sum_V2eU)\n",
    "            ),\n",
    "            sum_eU**4\n",
    "        )\n",
    "\n",
    "        return result\n"
   ]
  },
  {
   "cell_type": "code",
   "execution_count": 518,
   "metadata": {},
   "outputs": [
    {
     "data": {
      "text/plain": [
       "array([0.23845443, 0.0674135 , 0.05145682, 0.16028674, 0.25421419,\n",
       "       0.11001951, 0.79019641, 0.23092845, 0.13114404, 0.09955474])"
      ]
     },
     "execution_count": 518,
     "metadata": {},
     "output_type": "execute_result"
    }
   ],
   "source": [
    "# Number of doctors and patients\n",
    "I = 10\n",
    "J = 5\n",
    "\n",
    "b = 5\n",
    "\n",
    "F = expon(scale=1/b)\n",
    "\n",
    "##CHECK THIS OUT\n",
    "#from scipy.stats import rv_continuous\n",
    "\n",
    "\n",
    "#class piecewise_dist(rv_continuous):\n",
    "    #def _pdf(self, x):\n",
    "        # Define PDF piecewise\n",
    "        #if 1 < x < 2:\n",
    "            #return np.log(x) / self.norm_const\n",
    "        #else:\n",
    "            #return 0\n",
    "    \n",
    "\n",
    "# Create an instance of the custom distribution\n",
    "#custom_dist = piecewise_dist(name='piecewise_dist')\n",
    "#custom_dist.cdf(3)\n",
    "\n",
    "\n",
    "\n",
    "G = uniform(scale = 1)\n",
    "H = uniform(scale = 2)\n",
    "\n",
    "f = lambda x: F.pdf(x)\n",
    "g = lambda x: G.pdf(x)\n",
    "\n",
    "rng = np.random.RandomState(seed=123)         # Set up number generator using seed\n",
    "V = H.rvs(size=J, random_state=rng)     # Create J-size vector of Vj values using H\n",
    "\n",
    "r = 1.5\n",
    "p = 1/100\n",
    "\n",
    "R = lambda x: r * x\n",
    "P = lambda x: p/2 * x**2\n",
    "\n",
    "dR = lambda x: r + x - x\n",
    "dP = lambda x: p * x\n",
    "\n",
    "d2R = lambda x: 0 + x - x\n",
    "d2P = lambda x: p + x - x\n",
    "\n",
    "df = lambda x: -b*f(x)\n",
    "\n",
    "k0 = np.zeros(J)\n",
    "\n",
    "\n",
    "\n",
    "λ = 5\n",
    "t = 0.1\n",
    "\n",
    "rng = np.random.RandomState(123)\n",
    "ki = F.rvs(size=I, random_state=rng)   # Sample of patients out of distribution\n",
    "gammai = G.rvs(size=I, random_state=rng)\n",
    "\n",
    "Vj = np.sort(V)    # Reshaping doctor parameters for proper broadcasting\n",
    "kj = k0\n",
    "\n",
    "(ki)"
   ]
  },
  {
   "cell_type": "markdown",
   "metadata": {},
   "source": [
    "The function 'sij' gives us each patient's Si vector of strategies, and if broadcast correctly it can output all patients' strategies in a single array (given numerable patients in a MC simulation), where each column is each patient’s Si, each row could be added up to a doctor's Qi.\n",
    "\n",
    "We keep it as a callable function for cases where we want the sij of a particular set of patient x doctor parameters, namely when calculating the derivative of our FOC."
   ]
  },
  {
   "cell_type": "markdown",
   "metadata": {},
   "source": [
    "Note on how we treat 'functions' inside our equilibrium class:\n",
    "\n",
    "We will define the distributions F, G and H as a classes such that its attributes mimick those of scipy distributions, such that one may simply input a scipy distribution instead of making a class from scratch (like we will).\n",
    "\n",
    "Our physicians' R( ) and P( ) functions will be defined such that they'll take on the same shape for each one, and either a single scalar or a 1 x J vector may be inputed for the parameter slots, and then the actual argument will be doctors' Qj and Xj respectively. We will also define R( ) and P( ) as classes where their evaluation is an attribute, other atttributes including first and second derivatives (in the manner of our search classes), but for flexibility we may initially input an actual function instead of a class as R( ) or P( ), where later attributes requiring derivatives will need them to be manually inputed."
   ]
  },
  {
   "cell_type": "code",
   "execution_count": 614,
   "metadata": {},
   "outputs": [],
   "source": [
    "####################################################################################################\n",
    "\n",
    "class SearchEq:\n",
    "    \n",
    "    def __init__(self,  I,  # Number of patients in the whole market\n",
    "                        F,  # Distribution of κi\n",
    "                        G,  # Distribution of γi\n",
    "                        t,  # Cost of visit\n",
    "                        λ,  # Logit parameter\n",
    "                        R,  # Revenue function Rj\n",
    "                        P,  # Punishment function Pj\n",
    "                        V,  # Given vector of Vj\n",
    "                        sij): # Search function\n",
    "       \n",
    "        self.I, self.F, self.G, self.t, self.λ = I, F, G, t, λ      # Save parameters\n",
    "        self.R, self.P, self.V, self.sij = R, P, V, sij         \n",
    "\n",
    "    \n",
    "    def S(self, k0, s=123):\n",
    "        \"\"\"MC simulation of the set of patient strategies out of a given set κ0 of doctor thresholds, seed s\"\"\"\n",
    "\n",
    "        I, F, G, t, λ, V, sij = self.I, self.F, self.G, self.t, self.λ, self.V, self.sij    # Unpack parameters\n",
    "        \n",
    "        rng = np.random.RandomState(s)\n",
    "        ki = F.rvs(size=I, random_state=rng).reshape((1,-1))    # Sample of patients out of distribution\n",
    "        gammai = G.rvs(size=I, random_state=rng).reshape((1,-1))\n",
    "        \n",
    "        Vj = V\n",
    "        kj = k0\n",
    "\n",
    "        return sij(ki,gammai,kj,Vj,t,λ).S()\n",
    "\n",
    "    def Q(self, k0, s=123):\n",
    "        \"\"\"Vector of expected patient demand by each doctor j out of an MC simulation of Si\"\"\"\n",
    "\n",
    "        S = self.S(k0, s)\n",
    "\n",
    "        return np.sum(S, axis = 1)\n",
    "    \n",
    "    def X(self, k0, s=123):\n",
    "        \"\"\"Vector of expected certificates granted by each doctor j out of an MC simulation of Si\"\"\"\n",
    "\n",
    "        S = self.Si(k0, s)\n",
    "        F, I = self.F, self.I\n",
    "        rng = np.random.RandomState(s)\n",
    "        ki = F.rvs(size=I, random_state=rng).reshape((1,-1))\n",
    "        # We recreate the ki vector with the same seed, so it's the same\n",
    "        \n",
    "        ki_greater = np.array(ki.reshape((1,-1)) >= k0.reshape((-1,1))).astype(int) \n",
    "\n",
    "        return np.sum(S*ki_greater, axis = 1)\n",
    "    \n",
    "    def aux_func(self, k0, func, method = 'at'):\n",
    "        \"\"\"\n",
    "        Vector of int func(k0,gamma) dG(gamma). It's a very useful middle step when defining\n",
    "        the various n-derivatives of Q and X over k.\n",
    "\n",
    "        Arguments:\n",
    "            k0: J x 1 vector of doctors' chosen threshold, κ_j parameter.\n",
    "            func: Search class function which will be integrated over gamma taking the k-values\n",
    "                of k0. Possible values: 'S', 'dS', 'd2S', 'd3S'.\n",
    "            method: Either 'at' (default) or 'over'. 'at' evaluates the integral when k_i is\n",
    "                right at the threshold, 'over' when the threshold is a bit over k_i.\n",
    "\n",
    "        Use:\n",
    "            dX/dk will make use of just the 'at' method, whereas dQ/dk uses both, as it considers\n",
    "            Si before and after being above the threshold, namely: func('over') - func('at').\n",
    "                   \n",
    "        Output form:\n",
    "            ∫_γ s_func(k1,γ)_{j=1} dG(γ)   ...   ∫_γ s_func(kJ,γ)_{j=1} dG(γ)\n",
    "            # ...                                 ...\n",
    "            ∫_γ s_func(k1,γ)_{j=J} dG(γ)   ...   ∫_γ s_func(kJ,γ)_{j=J} dG(γ)\n",
    "        \"\"\"\n",
    "\n",
    "        # We will use this function both for s_func = sij as well as its derivatives\n",
    "        G, t, λ, V, sij = self.G, self.t, self.λ, self.V, self.sij    # Unpack primitives\n",
    "        g = lambda x: G.pdf(x)      # Using the pdf for the integral\n",
    "\n",
    "\n",
    "        if method == 'over':    #Integral where k_j is marginally higher than k_i\n",
    "                s_gamma = lambda x: getattr(sij(k0,x,k0+1e-8,V,t,λ), func)()   \n",
    "        elif method == 'at':    #Integral where k_j is equal to than k_i\n",
    "                s_gamma = lambda x: getattr(sij(k0,x,k0,V,t,λ), func)() \n",
    "        else:\n",
    "            raise ValueError(\"Invalid method selected. Please choose 'at' or 'over'.\")\n",
    "        \n",
    "        # We restrict possible functions to those with defined modules in our search class\n",
    "        if func not in ['S', 'dS', 'd2S', 'd3S']:\n",
    "            raise ValueError(\"Invalid function selected. Please choose 'S', 'dS', 'd2S' or 'd3S'.\")\n",
    "            \n",
    "        # Evaluate func at each doctor's κj, then take the diagonal, taking doctor j's func for his own kj\n",
    "        # This is a lambda function for a given value of γ\n",
    "        # Output form:\n",
    "        # s_func(k1,γ)_j=1   s_func(k2,γ)_j=1     ...     s_func(kJ,γ)_j=1\n",
    "        # s_func(k1,γ)_j=2   ...                          ...\n",
    "        # ...\n",
    "        # s_func(kJ,γ)_j=J   ...                          s_func(kJ,γ)_j=J\n",
    "\n",
    "        gamma_integrand = lambda x: s_gamma(x) * g(x) # sij(γ) g(γ)\n",
    "\n",
    "        n = 101\n",
    "        x = np.linspace(G.ppf(0),G.ppf(1),n) # n-sized linspace across the domain of G\n",
    "\n",
    "        results = []\n",
    "\n",
    "        # Loop that evaluates sij(γ) g(γ) for 101 values of γ\n",
    "        for i in x:\n",
    "                result = gamma_integrand(i)\n",
    "                results.append(result)\n",
    "\n",
    "        results = np.array(results)\n",
    "\n",
    "        mc_integral = np.sum(results, axis = 0)/n\n",
    "        # By summing column wise divided by n we get a monte-carlo approximation of an integral\n",
    "\n",
    "        # As said before, in the 'at' method we multiply the diagonal by (-1).\n",
    "        if method == 'at':\n",
    "            J = len(k0)\n",
    "            # Create a matrix of ones\n",
    "            signs_matrix = np.ones((J, J))\n",
    "            # Set the diagonal elements to -1\n",
    "            np.fill_diagonal(signs_matrix, -1)\n",
    "            # Replace integral matrix\n",
    "            mc_integral = mc_integral*signs_matrix\n",
    "\n",
    "        return mc_integral\n",
    "    \n",
    "    def dQ(self, k0):\n",
    "        \"\"\"Computed the jacobian of Q over the vector of κ_j's (physician strategies)\"\"\"\n",
    "         \n",
    "        F = self.F     # We retrieve our f pdf\n",
    "        f = lambda x: F.pdf(x)\n",
    "         \n",
    "        # We compute both integrals, left and right respectively\n",
    "        int_over = self.aux_func(k0, func = 'S', method = 'over')\n",
    "        int_at = self.aux_func(k0, func = 'S', method = 'at')\n",
    "\n",
    "        # We take only the diagonal of int_at with a dot-product with the identity matrix.\n",
    "        # We do this because the cross derivatives will otherwise cancel each other out.\n",
    "        J = len(k0)\n",
    "        multiplier = np.eye(J)\n",
    "\n",
    "        k0 = k0.reshape(-1,1)   # Reshaping for broadcasting\n",
    "\n",
    "        return (int_over + multiplier*int_at)*f(k0)\n",
    "    \n",
    "    def dX(self, k0):\n",
    "        \"\"\"Computed the jacobian of X over the vector of κ_j's (physician strategies)\"\"\"\n",
    "         \n",
    "        F = self.F     # We retrieve our f pdf\n",
    "        f = lambda x: F.pdf(x)\n",
    "\n",
    "        # We only need the 'at' integral\n",
    "        int_at = self.aux_func(k0, func = 'S', method = 'at')\n",
    "\n",
    "        # For the cross derivatives, a small raise in κ_l only affects κ_j in terms of X\n",
    "        # (certificates granted) if κ_l was above κ_j, meaning j's new expected clientele\n",
    "        # will get sick leave. For this reason, we compute the following matrix of 1s and 0s\n",
    "        kj_larger = (k0[:, None] <= k0[None, :]).astype(int)\n",
    "        # Output form:\n",
    "        # κ_1 ≤ κ_1     κ_1 ≤ κ_2   ...     κ_1 ≤ κ_J\n",
    "        # κ_2 ≤ κ_2     ...                 ...\n",
    "        # ...\n",
    "        # κ_J ≤ κ_1                         κ_J ≤ κ_J\n",
    "        # This way the diagonal is also preserved.\n",
    "\n",
    "        k0 = k0.reshape(-1,1)   # Reshaping for broadcasting\n",
    "\n",
    "        return kj_larger * int_at * f(k0)\n",
    "\n",
    "    \n",
    "    def FOC(self, k0, dR, dP, s=123):\n",
    "        \"\"\"Out of the previous MC results, it outputs the value of evaluated FOC\"\"\"\n",
    "\n",
    "        Q = self.Qi(k0, s)\n",
    "        X = self.Xi(k0, s)\n",
    "        sij = self.sij\n",
    "        dQ_dk = self.aux_func(sij, k0)\n",
    "\n",
    "        return (dR(Q) - dP(X))*dQ_dk\n",
    "    \n",
    "    def simple_FOC(self, k0, dR, dP, s=123):\n",
    "        \"\"\"Out of the previous MC results, it outputs the value of evaluated FOC\"\"\"\n",
    "\n",
    "        I = self.I\n",
    "\n",
    "        Q = self.Qi(k0, s)\n",
    "        X = self.Xi(k0, s)\n",
    "\n",
    "        return (dR(Q) - dP(X))\n",
    "    \n",
    "    def dFOC_dk(self, k0, dR, dP, d2R, d2P, ds, df, s=123): #For now, we manually input the derivatives and second derivatives of interest\n",
    "\n",
    "        Q = self.Qi(k0, s)\n",
    "        X = self.Xi(k0, s)\n",
    "        sij = self.sij\n",
    "        dQ_dk = self.aux_func(sij, k0)\n",
    "        d2Q_dk = self.aux_func(ds, k0) + self.aux_func(sij, k0) * df(Q) # Double derivative of Q over κ\n",
    "\n",
    "        return (dR(Q) - dP(X))*d2Q_dk + (d2R(Q) - d2P(X))*dQ_dk\n",
    "        \n",
    "\n",
    "\n",
    "\n"
   ]
  },
  {
   "cell_type": "code",
   "execution_count": 119,
   "metadata": {},
   "outputs": [],
   "source": [
    "# Number of doctors and patients\n",
    "I = 10000\n",
    "J = 50\n",
    "\n",
    "b = 5\n",
    "\n",
    "F = expon(scale=1/b)\n",
    "G = uniform(scale = 1)\n",
    "H = uniform(scale = 10)\n",
    "\n",
    "f = lambda x: F.pdf(x)\n",
    "g = lambda x: G.pdf(x)\n",
    "\n",
    "rng = np.random.RandomState(seed=123)         # Set up number generator using seed\n",
    "V = H.rvs(size=J, random_state=rng)     # Create J-size vector of Vj values using H\n",
    "\n",
    "r = 1.5\n",
    "p = 1/100\n",
    "\n",
    "R = lambda x: r * x\n",
    "P = lambda x: p/2 * x**2\n",
    "\n",
    "dR = lambda x: r + x - x\n",
    "dP = lambda x: p * x\n",
    "\n",
    "d2R = lambda x: 0 + x - x\n",
    "d2P = lambda x: p + x - x\n",
    "\n",
    "df = lambda x: -b*f(x)\n",
    "\n",
    "k0 = np.ones(J)*0.5\n",
    "\n",
    "λ = 1\n",
    "t = 0.1\n"
   ]
  },
  {
   "cell_type": "code",
   "execution_count": 615,
   "metadata": {},
   "outputs": [
    {
     "data": {
      "text/plain": [
       "array([[-1.96607103,  0.89172828,  0.29704244,  0.04507232,  0.01099423],\n",
       "       [ 0.        , -0.39190721,  0.14698263,  0.0266442 ,  0.00731736],\n",
       "       [ 0.        ,  0.        , -0.20360698,  0.08177527,  0.03816824],\n",
       "       [ 0.        ,  0.        ,  0.        , -0.05827716,  0.03636286],\n",
       "       [ 0.        ,  0.        ,  0.        ,  0.        , -0.01683644]])"
      ]
     },
     "execution_count": 615,
     "metadata": {},
     "output_type": "execute_result"
    }
   ],
   "source": [
    "LogitModel = SearchEq(I, F, G, t, λ, R, P, Vj, LogitSearch)\n",
    "a = LogitModel.dQ(k0)\n",
    "\n",
    "LogitModel.dX(k0)\n"
   ]
  },
  {
   "cell_type": "code",
   "execution_count": 573,
   "metadata": {},
   "outputs": [
    {
     "data": {
      "text/plain": [
       "array([[-0.3462418 ,  0.76578315,  0.72388444,  0.77601104,  0.68392978],\n",
       "       [ 0.        , -0.03033143,  0.09303563,  0.02912299,  0.01129722],\n",
       "       [ 0.        ,  0.02538912, -0.01028203,  0.01812378,  0.00624436],\n",
       "       [ 0.29946063,  0.06720252,  0.05207652, -0.0365239 ,  0.16018207],\n",
       "       [ 0.35429757,  0.11129378,  0.12072138,  0.14021829, -0.13834658]])"
      ]
     },
     "execution_count": 573,
     "metadata": {},
     "output_type": "execute_result"
    }
   ],
   "source": [
    "k0 = np.array([0.1,0.3,0.5,0.8,1])\n",
    "\n",
    "if method = 'over':\n",
    "        s_gamma = lambda x: sij(k0,x,k0+1e-8,V,t,λ).func()   \n",
    "else:\n",
    "        s_gamma = lambda x: sij(k0,x,k0,V,t,λ).func()\n",
    "       \n",
    "# Evaluate func at each doctor's κj, then take the diagonal, taking doctor j's func for his own kj\n",
    "# This is a lambda function for a given value of γ\n",
    "# Output form:\n",
    "# s(k1,γ)_j=1   s(k2,γ)_j=1     ...     s(kJ,γ)_j=1\n",
    "# s(k1,γ)_j=2   ...                     ...\n",
    "# ...\n",
    "# s(kJ,γ)_j=J   ...                     s(kJ,γ)_j=J\n",
    "\n",
    "gamma_integrand = lambda x: s_gamma(x) * g(x) # sij(γ) g(γ)\n",
    "\n",
    "n = 101\n",
    "x = np.linspace(G.ppf(0),G.ppf(1),n) # n-sized linspace across the domain of G\n",
    "\n",
    "results = []\n",
    "\n",
    "# Loop that evaluates sij(γ) g(γ) for 101 values of γ\n",
    "for i in x:\n",
    "        result = gamma_integrand(i)\n",
    "        results.append(result)\n",
    "\n",
    "results = np.array(results)\n",
    "\n",
    "mc_integral = np.sum(results, axis = 0)/n\n",
    "# By summing column wise divided by n we get a monte-carlo approximation of an integral\n",
    "\n",
    "J = len(k0)\n",
    "# Create a matrix of ones\n",
    "signs_matrix = np.ones((J, J))\n",
    "# Set the diagonal elements to -1\n",
    "np.fill_diagonal(signs_matrix, -1)\n",
    "# Replace integral matrix\n",
    "mc_integral = mc_integral*signs_matrix\n",
    "\n",
    " #######       return mc_integral * f(k0.reshape(1,-1))\n",
    "\n",
    "mc_integral"
   ]
  },
  {
   "cell_type": "code",
   "execution_count": 570,
   "metadata": {},
   "outputs": [
    {
     "data": {
      "text/plain": [
       "array([[-0.78917258,  0.63158672,  0.68045602,  0.63636498,  0.39706902],\n",
       "       [ 0.        , -0.18442552,  0.08745409,  0.0238822 ,  0.00655883],\n",
       "       [ 0.        ,  0.02291134, -0.06501867,  0.01486234,  0.00362528],\n",
       "       [ 0.09657165,  0.06064407,  0.05035066, -0.19924534,  0.09299688],\n",
       "       [ 0.11425576,  0.10043235,  0.11672056,  0.12564514, -0.49974999]])"
      ]
     },
     "execution_count": 570,
     "metadata": {},
     "output_type": "execute_result"
    }
   ],
   "source": [
    "mc_integral"
   ]
  },
  {
   "cell_type": "code",
   "execution_count": 83,
   "metadata": {},
   "outputs": [
    {
     "data": {
      "text/plain": [
       "(1, 10000)"
      ]
     },
     "execution_count": 83,
     "metadata": {},
     "output_type": "execute_result"
    }
   ],
   "source": [
    "rng = np.random.RandomState(123)\n",
    "ki = F.rvs(size=I, random_state=rng).reshape((1,-1))    # Sample of patients out of distribution\n",
    "gammai = G.rvs(size=I, random_state=rng).reshape((1,-1))\n",
    "\n",
    "V =  np.sort(V)\n",
    "Vj = V.reshape((-1,1))      # Reshaping doctor parameters for proper broadcasting\n",
    "kj = k0.reshape((-1,1))\n",
    "Vj = np.sort(Vj)\n",
    "\n",
    "ki.shape"
   ]
  },
  {
   "cell_type": "code",
   "execution_count": 104,
   "metadata": {},
   "outputs": [],
   "source": [
    "def cartesian_product_stack(k1_vals, k2_vals, J):\n",
    "    # Create meshgrid for k1_vals and k2_vals\n",
    "    k1_grid, k2_grid = np.meshgrid(k1_vals, k2_vals, indexing='ij')\n",
    "    \n",
    "    # Stack k2_grid J - 1 times along a new axis\n",
    "    k2_stacked = np.tile(k2_grid[:, :, np.newaxis], (1, 1, J - 1))\n",
    "    \n",
    "    # Combine k1_grid and stacked k2_grid along the last axis\n",
    "    cartesian_grid = np.concatenate((k1_grid[:, :, np.newaxis], k2_stacked), axis=-1)\n",
    "    \n",
    "    return cartesian_grid\n",
    "\n",
    "k1_vals = np.linspace(0,2,100)\n",
    "k2_vals = np.linspace(0,2,100)\n",
    "\n",
    "combination = cartesian_product_stack(k1_vals, k2_vals, J)\n",
    "\n",
    "Qi_combinations = np.apply_along_axis(LogitModel.Qi, axis=-1, arr=combination)\n",
    "Xi_combinations = np.apply_along_axis(LogitModel.Qi, axis=-1, arr=combination)\n",
    "FOC_condition = dR(Qi_combinations) - dP(Xi_combinations)\n",
    "FOC_condition.shape\n"
   ]
  },
  {
   "cell_type": "code",
   "execution_count": 6,
   "metadata": {},
   "outputs": [],
   "source": []
  },
  {
   "cell_type": "code",
   "execution_count": 166,
   "metadata": {},
   "outputs": [
    {
     "ename": "KeyboardInterrupt",
     "evalue": "",
     "output_type": "error",
     "traceback": [
      "\u001b[0;31m---------------------------------------------------------------------------\u001b[0m",
      "\u001b[0;31mKeyboardInterrupt\u001b[0m                         Traceback (most recent call last)",
      "Cell \u001b[0;32mIn[166], line 15\u001b[0m\n\u001b[1;32m     12\u001b[0m func2 \u001b[38;5;241m=\u001b[39m \u001b[38;5;28;01mlambda\u001b[39;00m x: np\u001b[38;5;241m.\u001b[39msum(LogitModel\u001b[38;5;241m.\u001b[39mFOC(x, dR, dP))\n\u001b[1;32m     14\u001b[0m \u001b[38;5;66;03m# Apply the function to each vector\u001b[39;00m\n\u001b[0;32m---> 15\u001b[0m Z \u001b[38;5;241m=\u001b[39m \u001b[43mnp\u001b[49m\u001b[38;5;241;43m.\u001b[39;49m\u001b[43mapply_along_axis\u001b[49m\u001b[43m(\u001b[49m\u001b[43mfunc2\u001b[49m\u001b[43m,\u001b[49m\u001b[43m \u001b[49m\u001b[38;5;241;43m1\u001b[39;49m\u001b[43m,\u001b[49m\u001b[43m \u001b[49m\u001b[43mXY\u001b[49m\u001b[43m)\u001b[49m\u001b[38;5;241m.\u001b[39mreshape(X\u001b[38;5;241m.\u001b[39mshape)\n\u001b[1;32m     17\u001b[0m \u001b[38;5;66;03m# Create the heatmap\u001b[39;00m\n\u001b[1;32m     18\u001b[0m plt\u001b[38;5;241m.\u001b[39mfigure(figsize\u001b[38;5;241m=\u001b[39m(\u001b[38;5;241m8\u001b[39m, \u001b[38;5;241m6\u001b[39m))\n",
      "File \u001b[0;32m/opt/miniconda3/lib/python3.12/site-packages/numpy/lib/_shape_base_impl.py:416\u001b[0m, in \u001b[0;36mapply_along_axis\u001b[0;34m(func1d, axis, arr, *args, **kwargs)\u001b[0m\n\u001b[1;32m    414\u001b[0m buff[ind0] \u001b[38;5;241m=\u001b[39m res\n\u001b[1;32m    415\u001b[0m \u001b[38;5;28;01mfor\u001b[39;00m ind \u001b[38;5;129;01min\u001b[39;00m inds:\n\u001b[0;32m--> 416\u001b[0m     buff[ind] \u001b[38;5;241m=\u001b[39m asanyarray(\u001b[43mfunc1d\u001b[49m\u001b[43m(\u001b[49m\u001b[43minarr_view\u001b[49m\u001b[43m[\u001b[49m\u001b[43mind\u001b[49m\u001b[43m]\u001b[49m\u001b[43m,\u001b[49m\u001b[43m \u001b[49m\u001b[38;5;241;43m*\u001b[39;49m\u001b[43margs\u001b[49m\u001b[43m,\u001b[49m\u001b[43m \u001b[49m\u001b[38;5;241;43m*\u001b[39;49m\u001b[38;5;241;43m*\u001b[39;49m\u001b[43mkwargs\u001b[49m\u001b[43m)\u001b[49m)\n\u001b[1;32m    418\u001b[0m res \u001b[38;5;241m=\u001b[39m transpose(buff, buff_permute)\n\u001b[1;32m    419\u001b[0m \u001b[38;5;28;01mreturn\u001b[39;00m conv\u001b[38;5;241m.\u001b[39mwrap(res)\n",
      "Cell \u001b[0;32mIn[166], line 12\u001b[0m, in \u001b[0;36m<lambda>\u001b[0;34m(x)\u001b[0m\n\u001b[1;32m      9\u001b[0m \u001b[38;5;66;03m# Flatten the grids and stack them as 1x2 vectors\u001b[39;00m\n\u001b[1;32m     10\u001b[0m XY \u001b[38;5;241m=\u001b[39m np\u001b[38;5;241m.\u001b[39mstack([X\u001b[38;5;241m.\u001b[39mravel(), Y\u001b[38;5;241m.\u001b[39mravel()], axis\u001b[38;5;241m=\u001b[39m\u001b[38;5;241m1\u001b[39m)\n\u001b[0;32m---> 12\u001b[0m func2 \u001b[38;5;241m=\u001b[39m \u001b[38;5;28;01mlambda\u001b[39;00m x: np\u001b[38;5;241m.\u001b[39msum(\u001b[43mLogitModel\u001b[49m\u001b[38;5;241;43m.\u001b[39;49m\u001b[43mFOC\u001b[49m\u001b[43m(\u001b[49m\u001b[43mx\u001b[49m\u001b[43m,\u001b[49m\u001b[43m \u001b[49m\u001b[43mdR\u001b[49m\u001b[43m,\u001b[49m\u001b[43m \u001b[49m\u001b[43mdP\u001b[49m\u001b[43m)\u001b[49m)\n\u001b[1;32m     14\u001b[0m \u001b[38;5;66;03m# Apply the function to each vector\u001b[39;00m\n\u001b[1;32m     15\u001b[0m Z \u001b[38;5;241m=\u001b[39m np\u001b[38;5;241m.\u001b[39mapply_along_axis(func2, \u001b[38;5;241m1\u001b[39m, XY)\u001b[38;5;241m.\u001b[39mreshape(X\u001b[38;5;241m.\u001b[39mshape)\n",
      "Cell \u001b[0;32mIn[159], line 88\u001b[0m, in \u001b[0;36mSearchEq.FOC\u001b[0;34m(self, k0, dR, dP, s)\u001b[0m\n\u001b[1;32m     86\u001b[0m X \u001b[38;5;241m=\u001b[39m \u001b[38;5;28mself\u001b[39m\u001b[38;5;241m.\u001b[39mXi(k0, s)\n\u001b[1;32m     87\u001b[0m sij \u001b[38;5;241m=\u001b[39m \u001b[38;5;28mself\u001b[39m\u001b[38;5;241m.\u001b[39msij\n\u001b[0;32m---> 88\u001b[0m dQ_dk \u001b[38;5;241m=\u001b[39m \u001b[38;5;28;43mself\u001b[39;49m\u001b[38;5;241;43m.\u001b[39;49m\u001b[43maux_func\u001b[49m\u001b[43m(\u001b[49m\u001b[43msij\u001b[49m\u001b[43m,\u001b[49m\u001b[43m \u001b[49m\u001b[43mk0\u001b[49m\u001b[43m)\u001b[49m\n\u001b[1;32m     90\u001b[0m \u001b[38;5;28;01mreturn\u001b[39;00m (dR(Q) \u001b[38;5;241m-\u001b[39m dP(X))\u001b[38;5;241m*\u001b[39mdQ_dk\n",
      "Cell \u001b[0;32mIn[159], line 72\u001b[0m, in \u001b[0;36mSearchEq.aux_func\u001b[0;34m(self, func, k0)\u001b[0m\n\u001b[1;32m     70\u001b[0m \u001b[38;5;66;03m# Loop that evaluates sij(γ) g(γ) for 101 values of γ\u001b[39;00m\n\u001b[1;32m     71\u001b[0m \u001b[38;5;28;01mfor\u001b[39;00m i \u001b[38;5;129;01min\u001b[39;00m x:\n\u001b[0;32m---> 72\u001b[0m     result \u001b[38;5;241m=\u001b[39m \u001b[43mgamma_integrand\u001b[49m\u001b[43m(\u001b[49m\u001b[43mi\u001b[49m\u001b[43m)\u001b[49m\n\u001b[1;32m     73\u001b[0m     results\u001b[38;5;241m.\u001b[39mappend(result)\n\u001b[1;32m     75\u001b[0m results \u001b[38;5;241m=\u001b[39m np\u001b[38;5;241m.\u001b[39marray(results)\n",
      "Cell \u001b[0;32mIn[159], line 63\u001b[0m, in \u001b[0;36mSearchEq.aux_func.<locals>.<lambda>\u001b[0;34m(x)\u001b[0m\n\u001b[1;32m     59\u001b[0m s_gamma \u001b[38;5;241m=\u001b[39m \u001b[38;5;28;01mlambda\u001b[39;00m x: np\u001b[38;5;241m.\u001b[39mdiagonal(func(k0\u001b[38;5;241m.\u001b[39mreshape(\u001b[38;5;241m1\u001b[39m,\u001b[38;5;241m-\u001b[39m\u001b[38;5;241m1\u001b[39m),x,V,t,k0,λ)) \n\u001b[1;32m     60\u001b[0m \u001b[38;5;66;03m# Evaluate sij at each doctor's κj, then take the diagonal, taking doctor j's sij for his own kj\u001b[39;00m\n\u001b[1;32m     61\u001b[0m \u001b[38;5;66;03m# This is a lambda function for a given value of γ\u001b[39;00m\n\u001b[0;32m---> 63\u001b[0m gamma_integrand \u001b[38;5;241m=\u001b[39m \u001b[38;5;28;01mlambda\u001b[39;00m x: s_gamma(x) \u001b[38;5;241m*\u001b[39m \u001b[43mg\u001b[49m\u001b[43m(\u001b[49m\u001b[43mx\u001b[49m\u001b[43m)\u001b[49m \u001b[38;5;66;03m# sij(γ) g(γ)\u001b[39;00m\n\u001b[1;32m     65\u001b[0m n \u001b[38;5;241m=\u001b[39m \u001b[38;5;241m101\u001b[39m\n\u001b[1;32m     66\u001b[0m x \u001b[38;5;241m=\u001b[39m np\u001b[38;5;241m.\u001b[39mlinspace(G\u001b[38;5;241m.\u001b[39mppf(\u001b[38;5;241m0\u001b[39m),G\u001b[38;5;241m.\u001b[39mppf(\u001b[38;5;241m1\u001b[39m),n) \u001b[38;5;66;03m# n-sized linspace across the domain of G\u001b[39;00m\n",
      "Cell \u001b[0;32mIn[159], line 57\u001b[0m, in \u001b[0;36mSearchEq.aux_func.<locals>.<lambda>\u001b[0;34m(x)\u001b[0m\n\u001b[1;32m     54\u001b[0m F, G, t, λ, V \u001b[38;5;241m=\u001b[39m \u001b[38;5;28mself\u001b[39m\u001b[38;5;241m.\u001b[39mF, \u001b[38;5;28mself\u001b[39m\u001b[38;5;241m.\u001b[39mG, \u001b[38;5;28mself\u001b[39m\u001b[38;5;241m.\u001b[39mt, \u001b[38;5;28mself\u001b[39m\u001b[38;5;241m.\u001b[39mλ, \u001b[38;5;28mself\u001b[39m\u001b[38;5;241m.\u001b[39mV    \u001b[38;5;66;03m# Unpack parameters\u001b[39;00m\n\u001b[1;32m     56\u001b[0m f \u001b[38;5;241m=\u001b[39m \u001b[38;5;28;01mlambda\u001b[39;00m x: F\u001b[38;5;241m.\u001b[39mpdf(x)  \u001b[38;5;66;03m# Taking pdfs of our κ and γ distributions\u001b[39;00m\n\u001b[0;32m---> 57\u001b[0m g \u001b[38;5;241m=\u001b[39m \u001b[38;5;28;01mlambda\u001b[39;00m x: \u001b[43mG\u001b[49m\u001b[38;5;241;43m.\u001b[39;49m\u001b[43mpdf\u001b[49m\u001b[43m(\u001b[49m\u001b[43mx\u001b[49m\u001b[43m)\u001b[49m\n\u001b[1;32m     59\u001b[0m s_gamma \u001b[38;5;241m=\u001b[39m \u001b[38;5;28;01mlambda\u001b[39;00m x: np\u001b[38;5;241m.\u001b[39mdiagonal(func(k0\u001b[38;5;241m.\u001b[39mreshape(\u001b[38;5;241m1\u001b[39m,\u001b[38;5;241m-\u001b[39m\u001b[38;5;241m1\u001b[39m),x,V,t,k0,λ)) \n\u001b[1;32m     60\u001b[0m \u001b[38;5;66;03m# Evaluate sij at each doctor's κj, then take the diagonal, taking doctor j's sij for his own kj\u001b[39;00m\n\u001b[1;32m     61\u001b[0m \u001b[38;5;66;03m# This is a lambda function for a given value of γ\u001b[39;00m\n",
      "File \u001b[0;32m/opt/miniconda3/lib/python3.12/site-packages/scipy/stats/_distn_infrastructure.py:2033\u001b[0m, in \u001b[0;36mrv_continuous.pdf\u001b[0;34m(self, x, *args, **kwds)\u001b[0m\n\u001b[1;32m   2031\u001b[0m output \u001b[38;5;241m=\u001b[39m zeros(shape(cond), dtyp)\n\u001b[1;32m   2032\u001b[0m putmask(output, (\u001b[38;5;241m1\u001b[39m\u001b[38;5;241m-\u001b[39mcond0)\u001b[38;5;241m+\u001b[39mnp\u001b[38;5;241m.\u001b[39misnan(x), \u001b[38;5;28mself\u001b[39m\u001b[38;5;241m.\u001b[39mbadvalue)\n\u001b[0;32m-> 2033\u001b[0m \u001b[38;5;28;01mif\u001b[39;00m \u001b[43mnp\u001b[49m\u001b[38;5;241;43m.\u001b[39;49m\u001b[43many\u001b[49m\u001b[43m(\u001b[49m\u001b[43mcond\u001b[49m\u001b[43m)\u001b[49m:\n\u001b[1;32m   2034\u001b[0m     goodargs \u001b[38;5;241m=\u001b[39m argsreduce(cond, \u001b[38;5;241m*\u001b[39m((x,)\u001b[38;5;241m+\u001b[39margs\u001b[38;5;241m+\u001b[39m(scale,)))\n\u001b[1;32m   2035\u001b[0m     scale, goodargs \u001b[38;5;241m=\u001b[39m goodargs[\u001b[38;5;241m-\u001b[39m\u001b[38;5;241m1\u001b[39m], goodargs[:\u001b[38;5;241m-\u001b[39m\u001b[38;5;241m1\u001b[39m]\n",
      "File \u001b[0;32m/opt/miniconda3/lib/python3.12/site-packages/numpy/_core/fromnumeric.py:2602\u001b[0m, in \u001b[0;36many\u001b[0;34m(a, axis, out, keepdims, where)\u001b[0m\n\u001b[1;32m   2496\u001b[0m \u001b[38;5;129m@array_function_dispatch\u001b[39m(_any_dispatcher)\n\u001b[1;32m   2497\u001b[0m \u001b[38;5;28;01mdef\u001b[39;00m \u001b[38;5;21many\u001b[39m(a, axis\u001b[38;5;241m=\u001b[39m\u001b[38;5;28;01mNone\u001b[39;00m, out\u001b[38;5;241m=\u001b[39m\u001b[38;5;28;01mNone\u001b[39;00m, keepdims\u001b[38;5;241m=\u001b[39mnp\u001b[38;5;241m.\u001b[39m_NoValue, \u001b[38;5;241m*\u001b[39m, where\u001b[38;5;241m=\u001b[39mnp\u001b[38;5;241m.\u001b[39m_NoValue):\n\u001b[1;32m   2498\u001b[0m \u001b[38;5;250m    \u001b[39m\u001b[38;5;124;03m\"\"\"\u001b[39;00m\n\u001b[1;32m   2499\u001b[0m \u001b[38;5;124;03m    Test whether any array element along a given axis evaluates to True.\u001b[39;00m\n\u001b[1;32m   2500\u001b[0m \n\u001b[0;32m   (...)\u001b[0m\n\u001b[1;32m   2600\u001b[0m \n\u001b[1;32m   2601\u001b[0m \u001b[38;5;124;03m    \"\"\"\u001b[39;00m\n\u001b[0;32m-> 2602\u001b[0m     \u001b[38;5;28;01mreturn\u001b[39;00m \u001b[43m_wrapreduction_any_all\u001b[49m\u001b[43m(\u001b[49m\u001b[43ma\u001b[49m\u001b[43m,\u001b[49m\u001b[43m \u001b[49m\u001b[43mnp\u001b[49m\u001b[38;5;241;43m.\u001b[39;49m\u001b[43mlogical_or\u001b[49m\u001b[43m,\u001b[49m\u001b[43m \u001b[49m\u001b[38;5;124;43m'\u001b[39;49m\u001b[38;5;124;43many\u001b[39;49m\u001b[38;5;124;43m'\u001b[39;49m\u001b[43m,\u001b[49m\u001b[43m \u001b[49m\u001b[43maxis\u001b[49m\u001b[43m,\u001b[49m\u001b[43m \u001b[49m\u001b[43mout\u001b[49m\u001b[43m,\u001b[49m\n\u001b[1;32m   2603\u001b[0m \u001b[43m                                  \u001b[49m\u001b[43mkeepdims\u001b[49m\u001b[38;5;241;43m=\u001b[39;49m\u001b[43mkeepdims\u001b[49m\u001b[43m,\u001b[49m\u001b[43m \u001b[49m\u001b[43mwhere\u001b[49m\u001b[38;5;241;43m=\u001b[39;49m\u001b[43mwhere\u001b[49m\u001b[43m)\u001b[49m\n",
      "File \u001b[0;32m/opt/miniconda3/lib/python3.12/site-packages/numpy/_core/fromnumeric.py:100\u001b[0m, in \u001b[0;36m_wrapreduction_any_all\u001b[0;34m(obj, ufunc, method, axis, out, **kwargs)\u001b[0m\n\u001b[1;32m     98\u001b[0m         \u001b[38;5;28;01mpass\u001b[39;00m\n\u001b[1;32m     99\u001b[0m     \u001b[38;5;28;01melse\u001b[39;00m:\n\u001b[0;32m--> 100\u001b[0m         \u001b[38;5;28;01mreturn\u001b[39;00m \u001b[43mreduction\u001b[49m\u001b[43m(\u001b[49m\u001b[43maxis\u001b[49m\u001b[38;5;241;43m=\u001b[39;49m\u001b[43maxis\u001b[49m\u001b[43m,\u001b[49m\u001b[43m \u001b[49m\u001b[43mout\u001b[49m\u001b[38;5;241;43m=\u001b[39;49m\u001b[43mout\u001b[49m\u001b[43m,\u001b[49m\u001b[43m \u001b[49m\u001b[38;5;241;43m*\u001b[39;49m\u001b[38;5;241;43m*\u001b[39;49m\u001b[43mpasskwargs\u001b[49m\u001b[43m)\u001b[49m\n\u001b[1;32m    102\u001b[0m \u001b[38;5;28;01mreturn\u001b[39;00m ufunc\u001b[38;5;241m.\u001b[39mreduce(obj, axis, \u001b[38;5;28mbool\u001b[39m, out, \u001b[38;5;241m*\u001b[39m\u001b[38;5;241m*\u001b[39mpasskwargs)\n",
      "File \u001b[0;32m/opt/miniconda3/lib/python3.12/site-packages/numpy/_core/_methods.py:65\u001b[0m, in \u001b[0;36m_any\u001b[0;34m(a, axis, dtype, out, keepdims, where)\u001b[0m\n\u001b[1;32m     63\u001b[0m \u001b[38;5;66;03m# Parsing keyword arguments is currently fairly slow, so avoid it for now\u001b[39;00m\n\u001b[1;32m     64\u001b[0m \u001b[38;5;28;01mif\u001b[39;00m where \u001b[38;5;129;01mis\u001b[39;00m \u001b[38;5;28;01mTrue\u001b[39;00m:\n\u001b[0;32m---> 65\u001b[0m     \u001b[38;5;28;01mreturn\u001b[39;00m \u001b[43mumr_any\u001b[49m\u001b[43m(\u001b[49m\u001b[43ma\u001b[49m\u001b[43m,\u001b[49m\u001b[43m \u001b[49m\u001b[43maxis\u001b[49m\u001b[43m,\u001b[49m\u001b[43m \u001b[49m\u001b[43mdtype\u001b[49m\u001b[43m,\u001b[49m\u001b[43m \u001b[49m\u001b[43mout\u001b[49m\u001b[43m,\u001b[49m\u001b[43m \u001b[49m\u001b[43mkeepdims\u001b[49m\u001b[43m)\u001b[49m\n\u001b[1;32m     66\u001b[0m \u001b[38;5;28;01mreturn\u001b[39;00m umr_any(a, axis, dtype, out, keepdims, where\u001b[38;5;241m=\u001b[39mwhere)\n",
      "\u001b[0;31mKeyboardInterrupt\u001b[0m: "
     ]
    }
   ],
   "source": [
    "J = 2\n",
    "V = H.rvs(size=J, random_state=rng)\n",
    "LogitModel = SearchEq(I, F, G, t, λ, R, P, V, logit_search)\n",
    "\n",
    "x = np.linspace(0,2,100)\n",
    "y = np.linspace(0,2,100)\n",
    "X, Y = np.meshgrid(x, y)\n",
    "\n",
    "# Flatten the grids and stack them as 1x2 vectors\n",
    "XY = np.stack([X.ravel(), Y.ravel()], axis=1)\n",
    "\n",
    "func2 = lambda x: np.sum(LogitModel.FOC(x, dR, dP))\n",
    "\n",
    "# Apply the function to each vector\n",
    "Z = np.apply_along_axis(func2, 1, XY).reshape(X.shape)\n",
    "\n",
    "# Create the heatmap\n",
    "plt.figure(figsize=(8, 6))\n",
    "plt.contourf(X, Y, Z, levels=50, cmap='viridis')\n",
    "plt.colorbar(label='Function Value')\n",
    "plt.contour(X, Y, Z, levels=[0], colors='red', linewidths=2)\n",
    "plt.xlabel('x')\n",
    "plt.ylabel('y')\n",
    "plt.title('Heatmap of func([x, y])')\n",
    "plt.show()"
   ]
  },
  {
   "cell_type": "code",
   "execution_count": 8,
   "metadata": {},
   "outputs": [],
   "source": [
    "LogitModel = SearchEq(I, F, G, t, λ, R, P, Vj, logit_search)\n",
    "f = lambda x: LogitModel.simple_FOC(x, dR, dP)\n",
    "Df = lambda x: LogitModel.dFOC_dk(x, dR, dP, d2R, d2P, dlogit_search_dk, df)"
   ]
  },
  {
   "cell_type": "code",
   "execution_count": 67,
   "metadata": {},
   "outputs": [
    {
     "name": "stderr",
     "output_type": "stream",
     "text": [
      "/var/folders/d9/f39ks_q941961hvlpvd2zymc0000gn/T/ipykernel_43707/2999820999.py:33: RuntimeWarning: invalid value encountered in divide\n",
      "  result = np.divide(\n"
     ]
    },
    {
     "name": "stdout",
     "output_type": "stream",
     "text": [
      "Convergence not acheived, max iterations\n"
     ]
    }
   ],
   "source": [
    "k_guess = np.zeros(J)    \n",
    "k, error, Dk, beta = NAG(Df, f, k_guess, tol=1e-7, max_iter=100, alpha = 0.01, beta = 0.99)"
   ]
  },
  {
   "cell_type": "code",
   "execution_count": 68,
   "metadata": {},
   "outputs": [
    {
     "name": "stderr",
     "output_type": "stream",
     "text": [
      "/var/folders/d9/f39ks_q941961hvlpvd2zymc0000gn/T/ipykernel_43707/2999820999.py:33: RuntimeWarning: invalid value encountered in divide\n",
      "  result = np.divide(\n"
     ]
    },
    {
     "data": {
      "text/plain": [
       "array([0., 0., 0., 0., 0., 0., 0., 0., 0., 0., 0., 0., 0., 0., 0., 0., 0.,\n",
       "       0., 0., 0., 0., 0., 0., 0., 0., 0., 0., 0., 0., 0., 0., 0., 0., 0.,\n",
       "       0., 0., 0., 0., 0., 0., 0., 0., 0., 0., 0., 0., 0., 0., 0., 0.])"
      ]
     },
     "execution_count": 68,
     "metadata": {},
     "output_type": "execute_result"
    }
   ],
   "source": [
    "k_newish = -0.05*k\n",
    "kia, error, Dk, beta = NAG(Df, f, k_newish, tol=1e-7, max_iter=100, alpha = 0.01, beta = 0.99)\n",
    "kia"
   ]
  },
  {
   "cell_type": "code",
   "execution_count": 48,
   "metadata": {},
   "outputs": [],
   "source": [
    "g = lambda x: np.sum(x)\n",
    "\n",
    "def hessp(x, p):\n",
    "    epsilon = 1e-5  # Small perturbation for finite differences\n",
    "    grad = Df(x)\n",
    "    return (Df(x + epsilon * p) - grad) / epsilon\n",
    "\n",
    "v = minimize(\n",
    "    g, k, method='trust-ncg', jac=Df, hessp=hessp,\n",
    "    options={\n",
    "        'verbose': 2,\n",
    "        'xtol': 1e-20,  # Set xtol to a very small value so it doesn't trigger termination\n",
    "        'gtol': 1e-6,   # Stop based on the gradient tolerance\n",
    "        'maxiter': 10  # Allow more iterations\n",
    "    }\n",
    ")"
   ]
  },
  {
   "cell_type": "code",
   "execution_count": 64,
   "metadata": {},
   "outputs": [
    {
     "name": "stderr",
     "output_type": "stream",
     "text": [
      "/var/folders/d9/f39ks_q941961hvlpvd2zymc0000gn/T/ipykernel_43707/1157539426.py:19: UserWarning: No artists with labels found to put in legend.  Note that artists whose label start with an underscore are ignored when legend() is called with no argument.\n",
      "  plt.legend()\n"
     ]
    },
    {
     "data": {
      "image/png": "[encoded data removed]",
      "text/plain": [
       "<Figure size 1000x600 with 1 Axes>"
      ]
     },
     "metadata": {},
     "output_type": "display_data"
    }
   ],
   "source": [
    "def stupid(x,a):\n",
    "    x_new = (1+a)*x\n",
    "    FOC = f(x_new)\n",
    "    FOC_abs = np.abs(FOC)\n",
    "    return np.sum(FOC_abs)\n",
    "\n",
    "# Define a range of values for a\n",
    "a_values = np.linspace(-0.2, 0.2, 100)  # Adjust range and number of points as needed\n",
    "\n",
    "# Compute the function values for each a\n",
    "y_values = np.array([stupid(k, a) for a in a_values])\n",
    "\n",
    "# Plot the results\n",
    "plt.figure(figsize=(10, 6))\n",
    "plt.plot(a_values, y_values, color='blue')\n",
    "plt.xlabel('a')\n",
    "plt.ylabel('stupid(x, a)')\n",
    "plt.title('Plot of the Function stupid(x, a)')\n",
    "plt.legend()\n",
    "plt.grid(True)\n",
    "plt.show()"
   ]
  },
  {
   "cell_type": "code",
   "execution_count": 52,
   "metadata": {},
   "outputs": [
    {
     "data": {
      "text/plain": [
       "array([0., 0., 0., 0., 0., 0., 0., 0., 0., 0., 0., 0., 0., 0., 0., 0., 0.,\n",
       "       0., 0., 0., 0., 0., 0., 0., 0., 0., 0., 0., 0., 0., 0., 0., 0., 0.,\n",
       "       0., 0., 0., 0., 0., 0., 0., 0., 0., 0., 0., 0., 0., 0., 0., 0.])"
      ]
     },
     "execution_count": 52,
     "metadata": {},
     "output_type": "execute_result"
    }
   ],
   "source": [
    "k - v.x"
   ]
  },
  {
   "cell_type": "code",
   "execution_count": 17,
   "metadata": {},
   "outputs": [],
   "source": [
    "def compute_hessian(f, k, h=1e-4):\n",
    "    n = len(k)\n",
    "    hessian = np.zeros((n, n))  # Initialize an n x n matrix for the Hessian\n",
    "\n",
    "    for i in range(n):\n",
    "        k_plus_h = np.copy(k)  # Copy the original k\n",
    "        k_plus_h[i] += h  # Perturb the i-th element of k\n",
    "\n",
    "        # Compute the second derivative (finite difference approximation)\n",
    "        second_derivative = (f(k_plus_h) - f(k)) / h\n",
    "        hessian[i, :] = second_derivative\n",
    "    return hessian\n",
    "\n",
    "def newton_method(Df, k_0, tol=1e-7, max_iter=100, h=1e-4):\n",
    "\n",
    "    k = k_0\n",
    "    for i in range(max_iter):\n",
    "        gradient = Df(k)  # Evaluate the gradient\n",
    "        hessian = compute_hessian(Df, k, h=h)  # Evaluate the Hessian matrix\n",
    "        \n",
    "        # Check if the Hessian is invertible\n",
    "        if np.linalg.cond(hessian) > 1e12:\n",
    "            print(\"Hessian is nearly singular.\")\n",
    "            break\n",
    "        \n",
    "        # Newton's update step\n",
    "        delta_k = np.linalg.solve(hessian, gradient)  # Equivalent to H^-1 * grad\n",
    "        k_new = k - delta_k\n",
    "        \n",
    "        # Check for convergence\n",
    "        if np.linalg.norm(delta_k) < tol:\n",
    "            print(f\"Convergence reached in {i+1} iterations.\")\n",
    "            return k_new\n",
    "        \n",
    "        k = k_new\n",
    "        k[k<0] = 0\n",
    "\n",
    "    print(f\"Maximum iterations ({max_iter}) reached without convergence.\")\n",
    "    return k"
   ]
  },
  {
   "cell_type": "code",
   "execution_count": 19,
   "metadata": {},
   "outputs": [
    {
     "data": {
      "text/plain": [
       "(50, 50)"
      ]
     },
     "execution_count": 19,
     "metadata": {},
     "output_type": "execute_result"
    }
   ],
   "source": [
    "compute_hessian(f, k, h=1e-4).shape"
   ]
  },
  {
   "cell_type": "code",
   "execution_count": 1072,
   "metadata": {},
   "outputs": [
    {
     "data": {
      "text/plain": [
       "array([ 0.08592965,  0.03082867, -0.00828313, -0.10436103, -0.11611035,\n",
       "       -0.1930107 , -0.19537101, -0.23559984, -0.30615324, -0.32142829,\n",
       "       -0.36223428, -0.37245747, -0.3843971 , -0.43159816, -0.48003863,\n",
       "       -0.56163982, -0.57632885, -0.02049767, -0.04146855, -0.01625463,\n",
       "       -0.02061216, -0.2505763 , -0.03695426, -0.02114358, -0.02374466,\n",
       "       -0.02559759, -0.02791532, -0.02481907, -0.13764299,  1.49349729,\n",
       "       -0.03538633,  1.49905038, -0.02916782, -0.02529223, -0.02504878,\n",
       "       -0.03719397, -0.01813942, -0.02556895,  1.49821245,  1.09947455,\n",
       "        1.49996119, -0.00723399,  1.49653988, -0.00150912,  1.5       ,\n",
       "        1.5       ,  1.5       ,  1.5       ,  1.5       ,  1.5       ])"
      ]
     },
     "execution_count": 1072,
     "metadata": {},
     "output_type": "execute_result"
    }
   ],
   "source": [
    "f(k_newton)"
   ]
  },
  {
   "cell_type": "code",
   "execution_count": 1059,
   "metadata": {},
   "outputs": [
    {
     "ename": "TypeError",
     "evalue": "'numpy.ndarray' object is not callable",
     "output_type": "error",
     "traceback": [
      "\u001b[0;31m---------------------------------------------------------------------------\u001b[0m",
      "\u001b[0;31mTypeError\u001b[0m                                 Traceback (most recent call last)",
      "Cell \u001b[0;32mIn[1059], line 5\u001b[0m\n\u001b[1;32m      2\u001b[0m k_plus_h[i] \u001b[38;5;241m+\u001b[39m\u001b[38;5;241m=\u001b[39m h  \u001b[38;5;66;03m# Perturb the i-th element of k\u001b[39;00m\n\u001b[1;32m      4\u001b[0m     \u001b[38;5;66;03m# Compute the second derivative (finite difference approximation)\u001b[39;00m\n\u001b[0;32m----> 5\u001b[0m second_derivative \u001b[38;5;241m=\u001b[39m \u001b[43mDk\u001b[49m\u001b[43m(\u001b[49m\u001b[43mk_plus_h\u001b[49m\u001b[43m)\u001b[49m \n",
      "\u001b[0;31mTypeError\u001b[0m: 'numpy.ndarray' object is not callable"
     ]
    }
   ],
   "source": [
    "k_plus_h = np.copy(k)  # Copy the original k\n",
    "k_plus_h[i] += h  # Perturb the i-th element of k\n",
    "\n",
    "    # Compute the second derivative (finite difference approximation)\n",
    "second_derivative = Dk(k) "
   ]
  },
  {
   "cell_type": "code",
   "execution_count": 1019,
   "metadata": {},
   "outputs": [
    {
     "data": {
      "image/png": "[encoded data removed]",
      "text/plain": [
       "<Figure size 640x480 with 1 Axes>"
      ]
     },
     "metadata": {},
     "output_type": "display_data"
    },
    {
     "data": {
      "text/plain": [
       "[np.float64(-0.49492657055904954),\n",
       " np.float64(-0.3795919571640791),\n",
       " np.float64(-0.2709044366983806),\n",
       " np.float64(-0.1716615640281265),\n",
       " np.float64(-0.06383467128998066),\n",
       " np.float64(0.03617366046429682),\n",
       " np.float64(0.1252386576918345),\n",
       " np.float64(0.2203761613720181),\n",
       " np.float64(0.307638548244199),\n",
       " np.float64(0.38895094832007615),\n",
       " np.float64(0.45543897863188),\n",
       " np.float64(0.5334328038881432),\n",
       " np.float64(0.6093095639987297),\n",
       " np.float64(0.6740322988111316),\n",
       " np.float64(0.7333949001108727),\n",
       " np.float64(0.7862175862166774),\n",
       " np.float64(0.8319207720916049),\n",
       " np.float64(0.8866951661766143),\n",
       " np.float64(0.9361957915764358),\n",
       " np.float64(0.9771183425331891),\n",
       " np.float64(1.0216365928169222),\n",
       " np.float64(1.0610039532706157),\n",
       " np.float64(1.0945110517937182),\n",
       " np.float64(1.1225186374798708),\n",
       " np.float64(1.1469609278625756),\n",
       " np.float64(1.1750168536927426),\n",
       " np.float64(1.2026749249757884),\n",
       " np.float64(1.2243762958834399),\n",
       " np.float64(1.2409317043317438),\n",
       " np.float64(1.260422787408315),\n",
       " np.float64(1.2790799819472873),\n",
       " np.float64(1.2953841618282633),\n",
       " np.float64(1.312687340509138),\n",
       " np.float64(1.3294006314176792),\n",
       " np.float64(1.3421134804180312),\n",
       " np.float64(1.358266449433808),\n",
       " np.float64(1.3701762883733593),\n",
       " np.float64(1.381706444999792),\n",
       " np.float64(1.3909205287008586),\n",
       " np.float64(1.39800318913458),\n",
       " np.float64(1.4068186831504976),\n",
       " np.float64(1.413509391952467),\n",
       " np.float64(1.421295835079623),\n",
       " np.float64(1.4286199176589047),\n",
       " np.float64(1.4400315974674784),\n",
       " np.float64(1.4462543957681315),\n",
       " np.float64(1.4491767596102199),\n",
       " np.float64(1.4555712709861033),\n",
       " np.float64(1.4583620932767474),\n",
       " np.float64(1.4624532168810864),\n",
       " np.float64(1.4662268448649034),\n",
       " np.float64(1.469461020466033),\n",
       " np.float64(1.4707885924278474),\n",
       " np.float64(1.4732713311132124),\n",
       " np.float64(1.477695901282774),\n",
       " np.float64(1.4788681191725903),\n",
       " np.float64(1.4819454047303158),\n",
       " np.float64(1.4844528501147358),\n",
       " np.float64(1.4863300246542173),\n",
       " np.float64(1.4874823497889071),\n",
       " np.float64(1.4891725261370907),\n",
       " np.float64(1.4908250153635971),\n",
       " np.float64(1.491804635355384),\n",
       " np.float64(1.4927052908174574),\n",
       " np.float64(1.4939951479525237),\n",
       " np.float64(1.4945166931955722),\n",
       " np.float64(1.4951523938580147),\n",
       " np.float64(1.4956248345405903),\n",
       " np.float64(1.4962746711468278),\n",
       " np.float64(1.4965843156071073),\n",
       " np.float64(1.4971126563724384),\n",
       " np.float64(1.4976854953284897),\n",
       " np.float64(1.4979707963248896),\n",
       " np.float64(1.4979707963248896),\n",
       " np.float64(1.4981461816105115),\n",
       " np.float64(1.4981461816105115),\n",
       " np.float64(1.4982784812273482),\n",
       " np.float64(1.4984004802173445),\n",
       " np.float64(1.4985512203954494),\n",
       " np.float64(1.498694557647347),\n",
       " np.float64(1.4987650188300425),\n",
       " np.float64(1.498882465722178),\n",
       " np.float64(1.498882465722178),\n",
       " np.float64(1.498882465722178),\n",
       " np.float64(1.498882465722178),\n",
       " np.float64(1.49894721863161),\n",
       " np.float64(1.4990700683127842),\n",
       " np.float64(1.4990700683127842),\n",
       " np.float64(1.4990700683127842),\n",
       " np.float64(1.4991807201293728),\n",
       " np.float64(1.4992485861416083),\n",
       " np.float64(1.4992967331619935),\n",
       " np.float64(1.4994565102182706),\n",
       " np.float64(1.499547728325463),\n",
       " np.float64(1.49969066560855),\n",
       " np.float64(1.49969066560855),\n",
       " np.float64(1.49969066560855),\n",
       " np.float64(1.499785531332853),\n",
       " np.float64(1.4998410871021168),\n",
       " np.float64(1.4998410871021168)]"
      ]
     },
     "execution_count": 1019,
     "metadata": {},
     "output_type": "execute_result"
    }
   ],
   "source": [
    "def graph_component_37(f, k_original, i, start, stop, num_points=100):\n",
    "    \"\"\"\n",
    "    Function to graph the effect of changing the 37th component of a vector on the output of a function.\n",
    "\n",
    "    Parameters:\n",
    "    - f: The function to evaluate.\n",
    "    - k_original: The original input vector (must be at least 38 elements long).\n",
    "    - start: The start value for the 37th component.\n",
    "    - stop: The stop value for the 37th component.\n",
    "    - num_points: The number of points in the linspace (default is 100).\n",
    "\n",
    "    Returns:\n",
    "    - A plot of f(k) as the 37th component of k changes.\n",
    "    \"\"\"\n",
    "    if len(k_original) < i + 1:\n",
    "        raise ValueError(\"Input vector must be at least 38 elements long.\")\n",
    "    \n",
    "    # Generate a linspace for the 37th component\n",
    "    linspace_values = np.linspace(start, stop, num_points)\n",
    "    \n",
    "    # Keep the original vector unchanged for components other than the 37th\n",
    "    k_fixed = np.copy(k_original)\n",
    "    \n",
    "    # Store the results of the function evaluations\n",
    "    results = []\n",
    "\n",
    "    # Evaluate the function over the linspace\n",
    "    for value in linspace_values:\n",
    "        k_fixed[i] = value  # Update the 37th component (index 36 for 0-based indexing)\n",
    "        result = f(k_fixed)[i] # Evaluate the function\n",
    "        results.append(result)\n",
    "\n",
    "    # Plot the results\n",
    "    plt.plot(linspace_values, results)\n",
    "    plt.title(\"Function evaluation over varying 37th component\")\n",
    "    plt.xlabel(\"37th component value\")\n",
    "    plt.ylabel(\"f(k)\")\n",
    "    plt.grid(True)\n",
    "    plt.show()\n",
    "    \n",
    "    return results\n",
    "\n",
    "\n",
    "graph_component_37(f, k_original, 37, 0.1, 1.5, num_points=100)"
   ]
  },
  {
   "cell_type": "code",
   "execution_count": 277,
   "metadata": {},
   "outputs": [],
   "source": [
    "def newton(f, Df, x_0, tol=1e-7, max_iter=100_000):     # As seen in QuantEcon\n",
    "    x = x_0\n",
    "\n",
    "    # Implement the zero-finding formula\n",
    "    def q(x):\n",
    "        Df_x = Df(x)  # Compute Df(x) once to avoid redundant calculations\n",
    "        return np.where(Df_x == 0, 0, x - f(x) / Df_x)\n",
    "\n",
    "    error = tol + 1\n",
    "    n = 0\n",
    "    while np.any(error > tol):\n",
    "        n += 1\n",
    "        if(n > max_iter):\n",
    "            print(\"Convergence not acheived, max iterations\")\n",
    "            break\n",
    "        y = q(x)\n",
    "        error = np.abs(x - y)\n",
    "        \n",
    "        x = y\n",
    "        x[x<0] = 0\n",
    "        error = np.where(x == 0, 0, error)\n",
    "        # Corner solutions at 0 not considered in convergence condition\n",
    "        if all(x == 0):\n",
    "            break\n",
    "    return x, error, Df(x)"
   ]
  },
  {
   "cell_type": "code",
   "execution_count": 12,
   "metadata": {},
   "outputs": [],
   "source": [
    "def NAG(Df, f, x_0, tol=1e-7, max_iter=100_000, alpha = 0.001, beta = 0.99):\n",
    "    x = x_0\n",
    "    v = np.zeros(J)\n",
    "\n",
    "    # Implement the zero-finding formula\n",
    "    def q(x, v, alpha, beta):\n",
    "        arg = x - beta*v\n",
    "        v_new = beta*v + alpha*Df(arg)\n",
    "        x_new = x - v_new\n",
    "        return x_new, v_new\n",
    "\n",
    "    error = tol + 1\n",
    "    n = 0\n",
    "    while np.any(error > tol):\n",
    "        n += 1\n",
    "        if(n > max_iter):\n",
    "            print(\"Convergence not acheived, max iterations\")\n",
    "            break\n",
    "        y, v_new = q(x, v, alpha, beta)\n",
    "        error = np.abs(f(y))\n",
    "        \n",
    "        x = y\n",
    "        v = v_new\n",
    "        x[x<0] = 0\n",
    "        error = np.where(x == 0, 0, error)\n",
    "        # Corner solutions at 0 not considered in convergence condition\n",
    "        if all(x == 0):\n",
    "            break\n",
    "    return x, error, Df(x), beta"
   ]
  },
  {
   "cell_type": "code",
   "execution_count": 1027,
   "metadata": {},
   "outputs": [],
   "source": [
    "def newNAG(Df, f, x_0, tol=1e-7, max_iter=100_000, alpha = 0.001, beta = 0.99, decay=0.01):\n",
    "    x = x_0\n",
    "    v = np.zeros(J)\n",
    "\n",
    "    # Implement the zero-finding formula\n",
    "    def q(x, v, alpha, beta):\n",
    "        arg = x - beta*v\n",
    "        v_new = beta*v + alpha*Df(arg)\n",
    "        x_new = x - v_new\n",
    "        return x_new, v_new\n",
    "\n",
    "    error = tol + 1\n",
    "    n = 0\n",
    "    while np.any(error > tol):\n",
    "        n += 1\n",
    "        alpha = alpha / (1 + n*decay)\n",
    "        beta = beta / (1 + n*decay)\n",
    "        if(n > max_iter):\n",
    "            print(\"Convergence not acheived, max iterations\")\n",
    "            break\n",
    "        y, v_new = q(x, v, alpha, beta)\n",
    "        error = np.abs(f(y))\n",
    "        \n",
    "        x = y\n",
    "        v = v_new\n",
    "        x[x<0] = 0\n",
    "        error = np.where(x == 0, 0, error)\n",
    "        # Corner solutions at 0 not considered in convergence condition\n",
    "        if all(x == 0):\n",
    "            break\n",
    "    return x, error, Df(x), beta"
   ]
  },
  {
   "cell_type": "code",
   "execution_count": 1,
   "metadata": {},
   "outputs": [],
   "source": [
    "def GD(Df, x_0, tol=1e-7, max_iter=100_000, alpha=0.01, beta=0.9):\n",
    "    \"\"\"\n",
    "    Gradient Descent with Momentum and Adaptive Learning Rate Handling.\n",
    "    \"\"\"\n",
    "    x = x_0\n",
    "    v = np.zeros_like(x)\n",
    "    \n",
    "    # Update rule with momentum and adaptive learning rate\n",
    "    def q(x, v, alpha, beta):\n",
    "        v_new = beta * v + (1 - beta) * Df(x)\n",
    "        x_new = x - alpha * v_new\n",
    "        return x_new, v_new\n",
    "\n",
    "    error = tol + 1\n",
    "    n = 0\n",
    "    \n",
    "    while np.any(error > tol):\n",
    "        n += 1\n",
    "        if n > max_iter:\n",
    "            print(\"Convergence not achieved, max iterations reached\")\n",
    "            break\n",
    "\n",
    "        # Perform the gradient descent update\n",
    "        y, v_new = q(x, v, alpha, beta)\n",
    "        \n",
    "        # Update x and v\n",
    "        x = y\n",
    "        v = v_new\n",
    "        \n",
    "        # Handle corner solutions (e.g., keeping x non-negative)\n",
    "        x[x < 0] = 0\n",
    "        error = np.where(x == 0, 0, error)\n",
    "        \n",
    "        if np.all(x == 0):\n",
    "            break\n",
    "    \n",
    "    return x, error, Df(x)"
   ]
  },
  {
   "cell_type": "code",
   "execution_count": 190,
   "metadata": {},
   "outputs": [],
   "source": [
    "def by_root(k_0,i,f):\n",
    "    \n",
    "    def subs(x,k_0,i,f):\n",
    "        k_0[i] = x[0]\n",
    "        return f(k_0)[i]\n",
    "    \n",
    "    guess = k_0[i]\n",
    "    function = lambda x: subs(x,k_0,i,f)\n",
    "\n",
    "    return root(function, guess, method='hybr')\n",
    "\n",
    "def bisect(f, x_0, tol=1e-3, max_iter=100_000):\n",
    "    x = x_0\n",
    "    \n",
    "    error = tol + 1\n",
    "    n = 0    \n",
    "    while np.any(error > tol):\n",
    "        n += 1\n",
    "        if(n > max_iter):\n",
    "            print(\"Convergence not acheived, max iterations\")\n",
    "            break\n",
    "        \n",
    "        results = np.zeros_like(x)\n",
    "        for i, x_i in enumerate(x):\n",
    "            if x_i > 0:\n",
    "                result = np.array(by_root(x, i, f).x)\n",
    "                results[i] = result[0]  # Update xi with the found root\n",
    "        x = results\n",
    "\n",
    "        x[x<0] = 0\n",
    "        error = np.abs(f(x))\n",
    "        error = np.where(x == 0, 0, error)\n",
    "        # Corner solutions at 0 not considered in convergence condition\n",
    "    return x, error, Df(x)"
   ]
  },
  {
   "cell_type": "code",
   "execution_count": 1010,
   "metadata": {},
   "outputs": [
    {
     "data": {
      "text/plain": [
       "array([ 950.74936584,  995.56606892, 1026.29342594, 1104.40989416,\n",
       "       1113.83785849, 1175.44309396, 1177.46202758, 1209.9791021 ,\n",
       "       1264.47107605, 1276.51342616, 1307.12602139, 1315.44753239,\n",
       "       1325.14420488, 1360.54271197, 1394.78817338, 1453.58126334,\n",
       "       1465.44384284, 1500.41742818, 1518.19747723, 1524.11302268,\n",
       "       1525.29579634, 1535.27601281, 1541.60576723, 1552.6272642 ,\n",
       "       1654.54472033, 1659.78856514, 1687.5212487 , 1709.36298055,\n",
       "       1757.75827404, 1792.14795673, 1792.99148407, 1851.75342801,\n",
       "       2053.52318989, 2060.5297897 , 2102.61207088, 2130.08296393,\n",
       "       2143.72414392, 2364.56450902, 2421.31772405, 2540.14851073,\n",
       "       2556.37160346, 2567.42334199, 2593.34228367, 2644.46248765,\n",
       "       3464.33976135, 3626.74322876, 3916.21454302, 4577.87709215,\n",
       "       5178.81003996, 5267.71220027])"
      ]
     },
     "execution_count": 1010,
     "metadata": {},
     "output_type": "execute_result"
    }
   ],
   "source": [
    "LogitModel.Qi(np.zeros(J))"
   ]
  },
  {
   "cell_type": "code",
   "execution_count": 210,
   "metadata": {},
   "outputs": [],
   "source": [
    "# Function to adaptively reduce learning rate as iterations increase\n",
    "def adaptive_alpha(alpha, decay_rate, iteration):\n",
    "    return alpha / (1 + decay_rate * iteration)\n",
    "\n",
    "# Function to reduce momentum near the solution\n",
    "def adaptive_beta(beta, error, threshold=0.1):\n",
    "    if error < threshold:\n",
    "        return beta * 0.9  # Reduce momentum\n",
    "    return beta\n",
    "\n",
    "# Function to clip the gradient to avoid large updates\n",
    "def gradient_clipping(gradient, clip_value=1.0):\n",
    "    norm = np.linalg.norm(gradient)\n",
    "    if norm > clip_value:\n",
    "        return gradient * (clip_value / norm)\n",
    "    return gradient\n",
    "\n",
    "# NAG implementation with adaptive alpha, beta, and gradient clipping\n",
    "def NAG2(Df, f, x_0, tol=1e-7, max_iter=100_000, alpha=0.01, beta=0.9, decay_rate=0.001, clip_value=1.0, threshold=0.01):\n",
    "    x = np.array(x_0)  # Ensure x is a NumPy array\n",
    "    v = np.zeros_like(x)  # Initialize momentum vector\n",
    "    n = 0\n",
    "    error = np.inf  # Initialize error to start the loop\n",
    "\n",
    "    while np.linalg.norm(error) > tol:\n",
    "        n += 1\n",
    "        if n > max_iter:\n",
    "            print(\"Max iterations reached\")\n",
    "            break\n",
    "\n",
    "        # Update learning rate and momentum adaptively\n",
    "        alpha = adaptive_alpha(alpha, decay_rate, n)\n",
    "        beta = adaptive_beta(beta, np.linalg.norm(f(x)), threshold)\n",
    "\n",
    "        # Compute the gradient and apply clipping\n",
    "        gradient = Df(x)\n",
    "        clipped_gradient = gradient_clipping(gradient, clip_value)\n",
    "\n",
    "\n",
    "        v_new = beta * v + (1 - beta) * clipped_gradient\n",
    "        x_new = x - alpha * v_new\n",
    "\n",
    "        # Compute error\n",
    "        error = np.abs(f(x_new))\n",
    "        \n",
    "        # Update variables for next iteration\n",
    "        x, v = x_new, v_new\n",
    "\n",
    "        x[x<0] = 0\n",
    "        error = np.where(x == 0, 0, error)\n",
    "        \n",
    "        # Print intermediate error every 100 iterations\n",
    "        if n % 100 == 0:\n",
    "            print(f\"Iteration {n}, error: {np.linalg.norm(error)}\")\n",
    "\n",
    "    return x, error, Df(x), beta"
   ]
  },
  {
   "cell_type": "code",
   "execution_count": 1029,
   "metadata": {},
   "outputs": [
    {
     "name": "stdout",
     "output_type": "stream",
     "text": [
      "Convergence not acheived, max iterations\n"
     ]
    },
    {
     "data": {
      "text/plain": [
       "array([0.        , 0.        , 0.        , 0.        , 0.        ,\n",
       "       0.        , 0.        , 0.        , 0.        , 0.        ,\n",
       "       0.        , 0.        , 0.        , 0.        , 0.        ,\n",
       "       0.        , 0.        , 0.02551845, 0.02705973, 0.0275226 ,\n",
       "       0.02765293, 0.02870436, 0.02927973, 0.03046342, 0.04051723,\n",
       "       0.04099094, 0.0437351 , 0.04651853, 0.05171759, 0.05569925,\n",
       "       0.05573529, 0.06313752, 0.08929772, 0.09009525, 0.09613794,\n",
       "       0.10004211, 0.10206899, 0.1336918 , 0.14092338, 0.15729605,\n",
       "       0.15980151, 0.16160153, 0.16538248, 0.17249563, 0.28885378,\n",
       "       1.95740036, 3.42985216, 5.43754722, 7.00427274, 7.24031166])"
      ]
     },
     "execution_count": 1029,
     "metadata": {},
     "output_type": "execute_result"
    }
   ],
   "source": [
    "k_guess = np.zeros(J)    \n",
    "k, error, Dk, beta = NAG(Df, f, k_guess, tol=1e-7, max_iter=1000, alpha = 0.01, beta = 0.99)\n",
    "k\n"
   ]
  },
  {
   "cell_type": "code",
   "execution_count": 1037,
   "metadata": {},
   "outputs": [
    {
     "data": {
      "text/plain": [
       "array([ 1.15907775e-01,  6.28059965e-02,  2.52377005e-02, -6.64413818e-02,\n",
       "       -7.76232026e-02, -1.50713660e-01, -1.52943882e-01, -1.91057417e-01,\n",
       "       -2.57926882e-01, -2.72374572e-01, -3.11067493e-01, -3.20694552e-01,\n",
       "       -3.31950251e-01, -3.76680606e-01, -4.22656169e-01, -4.99952052e-01,\n",
       "       -5.13739868e-01, -1.30903978e-03, -1.41004010e-03, -1.22946065e-03,\n",
       "       -1.32377974e-03, -1.33539750e-03, -1.19275799e-03, -1.42465950e-03,\n",
       "       -1.25757025e-03, -1.31936235e-03, -1.39507728e-03, -1.31987442e-03,\n",
       "       -1.24674310e-03, -1.46231115e-03, -1.36834625e-03, -1.21779116e-03,\n",
       "       -1.35266832e-03, -1.32990576e-03, -1.41693736e-03, -1.28795439e-03,\n",
       "       -1.15390676e-03, -1.47299367e-03, -1.32028622e-03, -1.30181017e-03,\n",
       "       -1.22838049e-03, -1.17302427e-03, -1.37610102e-03, -1.46492312e-03,\n",
       "       -1.51198005e-03,  1.50000000e+00,  1.50000000e+00,  1.50000000e+00,\n",
       "        1.50000000e+00,  1.50000000e+00])"
      ]
     },
     "execution_count": 1037,
     "metadata": {},
     "output_type": "execute_result"
    }
   ],
   "source": [
    "f(k)"
   ]
  },
  {
   "cell_type": "code",
   "execution_count": 1025,
   "metadata": {},
   "outputs": [
    {
     "name": "stdout",
     "output_type": "stream",
     "text": [
      "Convergence not acheived, max iterations\n"
     ]
    },
    {
     "data": {
      "text/plain": [
       "(array([ 0.        ,  0.        ,  0.        ,  0.        ,  0.        ,\n",
       "         0.        ,  0.        ,  0.        ,  0.        ,  0.        ,\n",
       "         0.        ,  0.        ,  0.        ,  0.        ,  0.        ,\n",
       "         0.        ,  0.        ,  0.02567303,  0.02715764,  0.02766431,\n",
       "         0.02789611,  0.0288201 ,  0.02943088,  0.03050195,  0.04062462,\n",
       "         0.04116021,  0.04392777,  0.04671745,  0.0518236 ,  0.05583719,\n",
       "         0.05588468,  0.06321354,  0.08939889,  0.0902919 ,  0.09628422,\n",
       "         0.10023126,  0.10221161,  0.13388146,  0.14129402,  0.15750367,\n",
       "         0.15993559,  0.16177883,  0.16558815,  0.17272593,  0.28910796,\n",
       "         0.30410758,  5.42110021,  9.42595194, 12.56787015, 13.02195668]),\n",
       " array([0.00000000e+00, 0.00000000e+00, 0.00000000e+00, 0.00000000e+00,\n",
       "        0.00000000e+00, 0.00000000e+00, 0.00000000e+00, 0.00000000e+00,\n",
       "        0.00000000e+00, 0.00000000e+00, 0.00000000e+00, 0.00000000e+00,\n",
       "        0.00000000e+00, 0.00000000e+00, 0.00000000e+00, 0.00000000e+00,\n",
       "        0.00000000e+00, 4.47830140e-03, 4.66697617e-03, 4.68210580e-03,\n",
       "        5.29259519e-03, 4.66354465e-03, 4.84832004e-03, 5.24849500e-03,\n",
       "        6.46544641e-03, 6.28314769e-03, 6.54627619e-03, 6.94575795e-03,\n",
       "        7.42496933e-03, 8.02911217e-03, 7.69417601e-03, 9.09172124e-03,\n",
       "        1.19896777e-02, 1.19424445e-02, 1.25951433e-02, 1.31586458e-02,\n",
       "        1.34495339e-02, 1.72254018e-02, 1.85101344e-02, 2.12872432e-02,\n",
       "        2.11949949e-02, 2.14707562e-02, 2.20276602e-02, 2.31392719e-02,\n",
       "        4.28297393e-02, 7.07142787e-05, 1.50000000e+00, 1.50000000e+00,\n",
       "        1.50000000e+00, 1.50000000e+00]),\n",
       " array([ 7.88851373e-02,  4.34914853e-02,  1.84622166e-02, -4.25675887e-02,\n",
       "        -5.00077082e-02, -9.86219906e-02, -1.00104252e-01, -1.25439448e-01,\n",
       "        -1.69877778e-01, -1.79474366e-01, -2.05179693e-01, -2.11569578e-01,\n",
       "        -2.19040939e-01, -2.48741543e-01, -2.79272358e-01, -3.30571746e-01,\n",
       "        -3.39709852e-01,  3.79844897e-03,  3.89150144e-03,  3.88918311e-03,\n",
       "         4.27724841e-03,  3.85107554e-03,  3.95629794e-03,  4.19214781e-03,\n",
       "         4.73726418e-03,  4.61702341e-03,  4.72352458e-03,  4.90618747e-03,\n",
       "         5.09558849e-03,  5.36924557e-03,  5.17672821e-03,  5.83077579e-03,\n",
       "         6.89943499e-03,  6.85954063e-03,  7.08416354e-03,  7.29619236e-03,\n",
       "         7.40490710e-03,  8.66884737e-03,  9.15079180e-03,  1.01551278e-02,\n",
       "         1.00707364e-02,  1.01579276e-02,  1.03392949e-02,  1.07146071e-02,\n",
       "         1.69030435e-02,  4.85106559e-04,  3.41326878e-13,  2.33511956e-21,\n",
       "         1.01593901e-26,  1.92802725e-27]))"
      ]
     },
     "execution_count": 1025,
     "metadata": {},
     "output_type": "execute_result"
    }
   ],
   "source": [
    "bisect(f, k, tol=1e-3, max_iter=1)"
   ]
  },
  {
   "cell_type": "code",
   "execution_count": 342,
   "metadata": {},
   "outputs": [
    {
     "data": {
      "text/plain": [
       "array([0.        , 0.        , 0.        , 0.        , 0.        ,\n",
       "       0.        , 0.        , 0.        , 0.        , 0.        ,\n",
       "       0.        , 0.        , 0.        , 0.        , 0.        ,\n",
       "       0.        , 0.        , 0.        , 0.        , 0.        ,\n",
       "       0.        , 0.        , 0.        , 0.        , 0.        ,\n",
       "       0.        , 0.        , 0.        , 0.        , 0.        ,\n",
       "       0.        , 0.        , 0.        , 0.        , 0.        ,\n",
       "       0.        , 0.        , 0.00378263, 0.00295602, 0.0032324 ,\n",
       "       0.00472959, 0.00724275, 0.00817818, 0.00847869, 0.01623935,\n",
       "       0.01811605, 0.01828636, 0.01923438, 0.02018042, 0.0206577 ])"
      ]
     },
     "execution_count": 342,
     "metadata": {},
     "output_type": "execute_result"
    }
   ],
   "source": [
    "def gradient(Df, x_0, tol=1e-7, max_iter=10000, alpha=0.01):\n",
    "    x = np.array(x_0)\n",
    "    n = 0\n",
    "    error = np.inf\n",
    "\n",
    "    while np.any(error) > tol and n < max_iter:\n",
    "        n += 1\n",
    "        gradient = Df(x)\n",
    "        x = x - alpha * gradient\n",
    "        error = np.abs(Df(x))\n",
    "        x[x<0] = 0\n",
    "        error = np.where(x == 0, 0, error)\n",
    "\n",
    "    return x, error, gradient\n",
    "\n",
    "\n",
    "k_dot, error, Dk = gradient(Df, k, tol=1e-7, max_iter=1000, alpha=0.1)\n",
    "k_dot"
   ]
  },
  {
   "cell_type": "code",
   "execution_count": 378,
   "metadata": {},
   "outputs": [
    {
     "data": {
      "text/plain": [
       "array([0.        , 0.        , 0.        , 0.        , 0.        ,\n",
       "       0.        , 0.        , 0.        , 0.        , 0.        ,\n",
       "       0.        , 0.        , 0.        , 0.        , 0.        ,\n",
       "       0.        , 0.        , 0.        , 0.        , 0.        ,\n",
       "       0.        , 0.        , 0.        , 0.        , 0.        ,\n",
       "       0.        , 0.        , 0.        , 0.        , 0.        ,\n",
       "       0.        , 0.        , 0.        , 0.        , 0.        ,\n",
       "       0.        , 0.        , 0.04685613, 0.02742549, 0.04704346,\n",
       "       0.04074569, 0.02861755, 0.02677616, 0.04029885, 0.05625736,\n",
       "       0.02999037, 0.02861179, 0.04065334, 0.06000673, 0.03781208])"
      ]
     },
     "execution_count": 378,
     "metadata": {},
     "output_type": "execute_result"
    }
   ],
   "source": [
    "def objective(k):\n",
    "    FOCs = f(k)\n",
    "    return np.max(np.abs(FOCs))\n",
    "\n",
    "\n",
    "bounds = [(0, None) for _ in range(J)]\n",
    "man = minimize(objective, k, method='TNC', jac = Df, bounds=bounds, tol=1e-3)\n",
    "a = man.x\n",
    "a"
   ]
  },
  {
   "cell_type": "code",
   "execution_count": 545,
   "metadata": {},
   "outputs": [
    {
     "data": {
      "text/plain": [
       "array([ 0.29638794,  0.2544035 ,  0.22766318,  0.20878345,  0.20653771,\n",
       "        0.1922668 ,  0.19180918,  0.18458746,  0.14954899,  0.14702888,\n",
       "        0.14083118,  0.13914563,  0.13723888,  0.13041385,  0.12409042,\n",
       "        0.11369947,  0.0834175 ,  0.07752436,  0.07460424,  0.07364185,\n",
       "        0.07345766,  0.07186141,  0.07085586,  0.06912792,  0.05397909,\n",
       "        0.05322146,  0.04937475,  0.04642108,  0.03999757,  0.03558305,\n",
       "        0.03548177,  0.02831214,  0.00603592,  0.00533025,  0.00114984,\n",
       "       -0.00151368, -0.00281496, -0.09762414, -0.10227298,  0.04328377,\n",
       "        0.04209203,  0.04128519,  0.03944054,  0.03584003,  0.03607208,\n",
       "        0.02898883,  0.01752984,  0.03908028,  0.04444831,  0.04235063])"
      ]
     },
     "execution_count": 545,
     "metadata": {},
     "output_type": "execute_result"
    }
   ],
   "source": [
    "k = k_original\n",
    "n=0\n",
    "i = 3\n",
    "max_iter = 300\n",
    "\n",
    "equality = True\n",
    "while n < max_iter:\n",
    "    n +=1\n",
    "    k_new = np.where(f(k) < 0, k + (1/(10**i)), k)\n",
    "    k_renewed = np.where(f(k_new) > 0, k, k_new)\n",
    "    k_renewed = np.where(k_original == 0, 0, k_renewed)\n",
    "    equality = np.array_equal(np.where(f(k)>0),np.where(f(k_renewed)>0))\n",
    "    if equality:\n",
    "        k = k_renewed\n",
    "    else:\n",
    "        i +=1\n",
    "# Quiero un loop que a fuerza bruta vaya cicleando por los miembros positivos de k_original\n",
    "# sumandoles incrementos de 1/10^i tal que f(k) mantenga sus signos, y cuando termine el ciclo\n",
    "# empieza de nuevo con i + 1 en el primer elemento. Me debería acercar al supremo\n",
    "\n"
   ]
  },
  {
   "cell_type": "code",
   "execution_count": 596,
   "metadata": {},
   "outputs": [
    {
     "data": {
      "text/plain": [
       "array([0., 0., 0., 0., 0., 0., 0., 0., 0., 0., 0., 0., 0., 0., 0., 0., 0.,\n",
       "       0., 0., 0., 0., 0., 0., 0., 0., 0., 0., 0., 0., 0., 0., 0., 0., 0.,\n",
       "       0., 0., 0., 0., 0., 0., 0., 0., 0., 0., 0., 0., 0., 0., 0., 0.])"
      ]
     },
     "execution_count": 596,
     "metadata": {},
     "output_type": "execute_result"
    }
   ],
   "source": [
    "k_change = k[k_original>0]\n",
    "\n",
    "k = k_original\n",
    "n=0\n",
    "i = 3\n",
    "max_iter = 25\n",
    "while n < max_iter:\n",
    "    k_renewed = k\n",
    "    j = 0\n",
    "    while j < len(k_change):\n",
    "        n +=1\n",
    "        if n > max_iter:\n",
    "            break\n",
    "        k_renewed[J - j - 1] += 1/(10**i)\n",
    "        equality = np.array_equal(np.where(f(k)>0),np.where(f(k_renewed)>0))\n",
    "        if equality:\n",
    "            k[J - j - 1] = k_renewed[J - j - 1]\n",
    "        else:\n",
    "            j +=1\n",
    "    i += 1\n",
    "\n",
    "k - k_original"
   ]
  },
  {
   "cell_type": "code",
   "execution_count": 601,
   "metadata": {},
   "outputs": [
    {
     "data": {
      "text/plain": [
       "np.True_"
      ]
     },
     "execution_count": 601,
     "metadata": {},
     "output_type": "execute_result"
    }
   ],
   "source": [
    "k_renewed[J - j - 1] += 1/(10**i)\n",
    "np.any(k_original) == np.any(k_renewed)"
   ]
  },
  {
   "cell_type": "code",
   "execution_count": 1023,
   "metadata": {},
   "outputs": [
    {
     "ename": "KeyboardInterrupt",
     "evalue": "",
     "output_type": "error",
     "traceback": [
      "\u001b[0;31m---------------------------------------------------------------------------\u001b[0m",
      "\u001b[0;31mKeyboardInterrupt\u001b[0m                         Traceback (most recent call last)",
      "Cell \u001b[0;32mIn[1023], line 42\u001b[0m\n\u001b[1;32m     37\u001b[0m             i \u001b[38;5;241m=\u001b[39m \u001b[38;5;241m1\u001b[39m\n\u001b[1;32m     40\u001b[0m     \u001b[38;5;28;01mreturn\u001b[39;00m k, equalities, j, i\n\u001b[0;32m---> 42\u001b[0m k_new, equalities, j, i \u001b[38;5;241m=\u001b[39m \u001b[43miterative_update\u001b[49m\u001b[43m(\u001b[49m\u001b[43mf\u001b[49m\u001b[43m,\u001b[49m\u001b[43m \u001b[49m\u001b[43mk\u001b[49m\u001b[43m,\u001b[49m\u001b[43m \u001b[49m\u001b[43mJ\u001b[49m\u001b[43m,\u001b[49m\u001b[43m \u001b[49m\u001b[43mmax_iter\u001b[49m\u001b[38;5;241;43m=\u001b[39;49m\u001b[38;5;241;43m10000\u001b[39;49m\u001b[43m,\u001b[49m\u001b[43m \u001b[49m\u001b[43mi\u001b[49m\u001b[38;5;241;43m=\u001b[39;49m\u001b[38;5;241;43m2\u001b[39;49m\u001b[43m)\u001b[49m\n",
      "Cell \u001b[0;32mIn[1023], line 23\u001b[0m, in \u001b[0;36miterative_update\u001b[0;34m(f, k_original, J, max_iter, i, max)\u001b[0m\n\u001b[1;32m     20\u001b[0m k_renewed[J \u001b[38;5;241m-\u001b[39m j \u001b[38;5;241m-\u001b[39m \u001b[38;5;241m1\u001b[39m] \u001b[38;5;241m+\u001b[39m\u001b[38;5;241m=\u001b[39m step_size\n\u001b[1;32m     22\u001b[0m \u001b[38;5;66;03m# Check if the positive entries in f(k) match after update\u001b[39;00m\n\u001b[0;32m---> 23\u001b[0m equality \u001b[38;5;241m=\u001b[39m (np\u001b[38;5;241m.\u001b[39msign(f(k)) \u001b[38;5;241m==\u001b[39m np\u001b[38;5;241m.\u001b[39msign(\u001b[43mf\u001b[49m\u001b[43m(\u001b[49m\u001b[43mk_renewed\u001b[49m\u001b[43m)\u001b[49m))\u001b[38;5;241m.\u001b[39mall()\n\u001b[1;32m     25\u001b[0m \u001b[38;5;28;01mif\u001b[39;00m equality:\n\u001b[1;32m     26\u001b[0m     b \u001b[38;5;241m=\u001b[39m \u001b[38;5;241m1\u001b[39m\n",
      "Cell \u001b[0;32mIn[1017], line 2\u001b[0m, in \u001b[0;36m<lambda>\u001b[0;34m(x)\u001b[0m\n\u001b[1;32m      1\u001b[0m LogitModel \u001b[38;5;241m=\u001b[39m SearchEq(I, F, G, t, λ, R, P, Vj, logit_search)\n\u001b[0;32m----> 2\u001b[0m f \u001b[38;5;241m=\u001b[39m \u001b[38;5;28;01mlambda\u001b[39;00m x: \u001b[43mLogitModel\u001b[49m\u001b[38;5;241;43m.\u001b[39;49m\u001b[43msimple_FOC\u001b[49m\u001b[43m(\u001b[49m\u001b[43mx\u001b[49m\u001b[43m,\u001b[49m\u001b[43m \u001b[49m\u001b[43mdR\u001b[49m\u001b[43m,\u001b[49m\u001b[43m \u001b[49m\u001b[43mdP\u001b[49m\u001b[43m)\u001b[49m\n\u001b[1;32m      3\u001b[0m Df \u001b[38;5;241m=\u001b[39m \u001b[38;5;28;01mlambda\u001b[39;00m x: LogitModel\u001b[38;5;241m.\u001b[39mdFOC_dk(x, dR, dP, d2R, d2P, dlogit_search_dk, df)\n",
      "Cell \u001b[0;32mIn[915], line 98\u001b[0m, in \u001b[0;36mSearchEq.simple_FOC\u001b[0;34m(self, k0, dR, dP, s)\u001b[0m\n\u001b[1;32m     95\u001b[0m I \u001b[38;5;241m=\u001b[39m \u001b[38;5;28mself\u001b[39m\u001b[38;5;241m.\u001b[39mI\n\u001b[1;32m     97\u001b[0m Q \u001b[38;5;241m=\u001b[39m \u001b[38;5;28mself\u001b[39m\u001b[38;5;241m.\u001b[39mQi(k0, s)\n\u001b[0;32m---> 98\u001b[0m X \u001b[38;5;241m=\u001b[39m \u001b[38;5;28;43mself\u001b[39;49m\u001b[38;5;241;43m.\u001b[39;49m\u001b[43mXi\u001b[49m\u001b[43m(\u001b[49m\u001b[43mk0\u001b[49m\u001b[43m,\u001b[49m\u001b[43m \u001b[49m\u001b[43ms\u001b[49m\u001b[43m)\u001b[49m\n\u001b[1;32m    100\u001b[0m \u001b[38;5;28;01mreturn\u001b[39;00m (dR(Q) \u001b[38;5;241m-\u001b[39m dP(X))\n",
      "Cell \u001b[0;32mIn[915], line 39\u001b[0m, in \u001b[0;36mSearchEq.Xi\u001b[0;34m(self, k0, s)\u001b[0m\n\u001b[1;32m     36\u001b[0m \u001b[38;5;28;01mdef\u001b[39;00m \u001b[38;5;21mXi\u001b[39m(\u001b[38;5;28mself\u001b[39m, k0, s\u001b[38;5;241m=\u001b[39m\u001b[38;5;241m123\u001b[39m):\n\u001b[1;32m     37\u001b[0m \u001b[38;5;250m    \u001b[39m\u001b[38;5;124;03m\"\"\"Vector of expected certificates granted by each doctor j out of an MC simulation of Si\"\"\"\u001b[39;00m\n\u001b[0;32m---> 39\u001b[0m     S \u001b[38;5;241m=\u001b[39m \u001b[38;5;28;43mself\u001b[39;49m\u001b[38;5;241;43m.\u001b[39;49m\u001b[43mSi\u001b[49m\u001b[43m(\u001b[49m\u001b[43mk0\u001b[49m\u001b[43m,\u001b[49m\u001b[43m \u001b[49m\u001b[43ms\u001b[49m\u001b[43m)\u001b[49m\n\u001b[1;32m     40\u001b[0m     F, I \u001b[38;5;241m=\u001b[39m \u001b[38;5;28mself\u001b[39m\u001b[38;5;241m.\u001b[39mF, \u001b[38;5;28mself\u001b[39m\u001b[38;5;241m.\u001b[39mI\n\u001b[1;32m     41\u001b[0m     rng \u001b[38;5;241m=\u001b[39m np\u001b[38;5;241m.\u001b[39mrandom\u001b[38;5;241m.\u001b[39mRandomState(s)\n",
      "Cell \u001b[0;32mIn[915], line 27\u001b[0m, in \u001b[0;36mSearchEq.Si\u001b[0;34m(self, k0, s)\u001b[0m\n\u001b[1;32m     24\u001b[0m Vj \u001b[38;5;241m=\u001b[39m V\u001b[38;5;241m.\u001b[39mreshape((\u001b[38;5;241m-\u001b[39m\u001b[38;5;241m1\u001b[39m,\u001b[38;5;241m1\u001b[39m))      \u001b[38;5;66;03m# Reshaping doctor parameters for proper broadcasting\u001b[39;00m\n\u001b[1;32m     25\u001b[0m kj \u001b[38;5;241m=\u001b[39m k0\u001b[38;5;241m.\u001b[39mreshape((\u001b[38;5;241m-\u001b[39m\u001b[38;5;241m1\u001b[39m,\u001b[38;5;241m1\u001b[39m))\n\u001b[0;32m---> 27\u001b[0m \u001b[38;5;28;01mreturn\u001b[39;00m \u001b[43msij\u001b[49m\u001b[43m(\u001b[49m\u001b[43mki\u001b[49m\u001b[43m,\u001b[49m\u001b[43mgammai\u001b[49m\u001b[43m,\u001b[49m\u001b[43mVj\u001b[49m\u001b[43m,\u001b[49m\u001b[43mt\u001b[49m\u001b[43m,\u001b[49m\u001b[43mkj\u001b[49m\u001b[43m,\u001b[49m\u001b[43mλ\u001b[49m\u001b[43m)\u001b[49m\n",
      "Cell \u001b[0;32mIn[325], line 19\u001b[0m, in \u001b[0;36mlogit_search\u001b[0;34m(ki, gammai, Vj, t, kj, λ)\u001b[0m\n\u001b[1;32m     16\u001b[0m \u001b[38;5;66;03m#It takes the J-sized vectors of all doctors' Vj and κj as arguments\u001b[39;00m\n\u001b[1;32m     18\u001b[0m u \u001b[38;5;241m=\u001b[39m uij(ki,gammai,Vj,t,kj)\n\u001b[0;32m---> 19\u001b[0m ai_total \u001b[38;5;241m=\u001b[39m np\u001b[38;5;241m.\u001b[39msum(\u001b[43maij\u001b[49m\u001b[43m(\u001b[49m\u001b[43mu\u001b[49m\u001b[43m,\u001b[49m\u001b[43mλ\u001b[49m\u001b[43m)\u001b[49m, axis \u001b[38;5;241m=\u001b[39m \u001b[38;5;241m0\u001b[39m)\n\u001b[1;32m     21\u001b[0m \u001b[38;5;28;01mwith\u001b[39;00m np\u001b[38;5;241m.\u001b[39merrstate(divide\u001b[38;5;241m=\u001b[39m\u001b[38;5;124m'\u001b[39m\u001b[38;5;124mignore\u001b[39m\u001b[38;5;124m'\u001b[39m, invalid\u001b[38;5;241m=\u001b[39m\u001b[38;5;124m'\u001b[39m\u001b[38;5;124mignore\u001b[39m\u001b[38;5;124m'\u001b[39m):\n\u001b[1;32m     22\u001b[0m     \u001b[38;5;66;03m# To avoid pesky division by zero warning      \u001b[39;00m\n\u001b[1;32m     23\u001b[0m     \u001b[38;5;28;01mreturn\u001b[39;00m np\u001b[38;5;241m.\u001b[39mwhere(ai_total \u001b[38;5;241m!=\u001b[39m \u001b[38;5;241m0\u001b[39m, aij(u,λ)\u001b[38;5;241m/\u001b[39mai_total, \u001b[38;5;241m0\u001b[39m)\n",
      "Cell \u001b[0;32mIn[325], line 12\u001b[0m, in \u001b[0;36maij\u001b[0;34m(u, λ)\u001b[0m\n\u001b[1;32m      9\u001b[0m \u001b[38;5;28;01mdef\u001b[39;00m \u001b[38;5;21maij\u001b[39m(u,λ):\n\u001b[1;32m     10\u001b[0m \u001b[38;5;250m    \u001b[39m\u001b[38;5;124;03m\"\"\"Intermediate function to calculate sij\"\"\"\u001b[39;00m\n\u001b[0;32m---> 12\u001b[0m     \u001b[38;5;28;01mreturn\u001b[39;00m np\u001b[38;5;241m.\u001b[39mwhere(u \u001b[38;5;241m>\u001b[39m \u001b[38;5;241m0\u001b[39m, \u001b[43mnp\u001b[49m\u001b[38;5;241;43m.\u001b[39;49m\u001b[43mexp\u001b[49m\u001b[43m(\u001b[49m\u001b[43mλ\u001b[49m\u001b[38;5;241;43m*\u001b[39;49m\u001b[43mu\u001b[49m\u001b[43m)\u001b[49m, \u001b[38;5;241m0\u001b[39m)\n",
      "\u001b[0;31mKeyboardInterrupt\u001b[0m: "
     ]
    }
   ],
   "source": [
    "def iterative_update(f, k_original, J, max_iter=10, i=3, max=7):\n",
    "    k = np.array(k_original)\n",
    "    k_change = k[k_original > 0]  # Elements of k to be updated\n",
    "    n = 0\n",
    "    \n",
    "    equalities = []\n",
    "    while n < max_iter:\n",
    "        \n",
    "        k_renewed = np.copy(k)  # Copy of k to work with in each iteration\n",
    "        step_size = 1 / (10 ** i)  # Define the step size\n",
    "\n",
    "        j = 0\n",
    "        while j < len(k_change):\n",
    "\n",
    "            n += 1\n",
    "            if n > max_iter:\n",
    "                break\n",
    "\n",
    "            # Adjust the element of k_renewed by the step size\n",
    "            k_renewed[J - j - 1] += step_size\n",
    "\n",
    "            # Check if the positive entries in f(k) match after update\n",
    "            equality = (np.sign(f(k)) == np.sign(f(k_renewed))).all()\n",
    "\n",
    "            if equality:\n",
    "                b = 1\n",
    "                k[J - j - 1] += step_size  # Update the original k\n",
    "            else:\n",
    "                b = 0\n",
    "                k_renewed[J - j - 1] -= step_size\n",
    "                j += 1  # Move to the next index if no match found\n",
    "            \n",
    "            equalities.append(b)\n",
    "\n",
    "        i += 1  # Increase i for finer steps in the next iteration\n",
    "        if i > max:\n",
    "            i = 1\n",
    "\n",
    "\n",
    "    return k, equalities, j, i\n",
    "\n",
    "k_new, equalities, j, i = iterative_update(f, k, J, max_iter=10000, i=2)"
   ]
  },
  {
   "cell_type": "code",
   "execution_count": 736,
   "metadata": {},
   "outputs": [
    {
     "data": {
      "text/plain": [
       "array([ 2.68088913e-01,  2.26114646e-01,  1.99381718e-01,  1.80520830e-01,\n",
       "        1.78277317e-01,  1.64020419e-01,  1.63563244e-01,  1.56348545e-01,\n",
       "        1.21321386e-01,  1.18803675e-01,  1.12611865e-01,  1.10927916e-01,\n",
       "        1.09022965e-01,  1.02204359e-01,  9.58868602e-02,  8.55055749e-02,\n",
       "        5.52254915e-02,  4.93377060e-02,  4.64202374e-02,  4.54587173e-02,\n",
       "        4.52746950e-02,  4.36798837e-02,  4.26752371e-02,  4.09488591e-02,\n",
       "        2.58135817e-02,  2.50566273e-02,  2.12133282e-02,  1.82622741e-02,\n",
       "        1.18444319e-02,  7.43377944e-03,  7.33259579e-03,  1.69223147e-04,\n",
       "       -2.20877661e-02, -2.27928354e-02, -2.69696704e-02, -2.96309257e-02,\n",
       "       -3.09311032e-02, -1.25723971e-01, -1.30369049e-01, -6.24863923e-02,\n",
       "       -6.36844597e-02, -6.44955777e-02, -6.63500089e-02, -4.65923589e-02,\n",
       "       -8.97142752e-04, -8.00118494e-03, -1.94935596e-02, -4.13574936e-02,\n",
       "       -5.73835843e-02, -5.94998195e-02])"
      ]
     },
     "execution_count": 736,
     "metadata": {},
     "output_type": "execute_result"
    }
   ],
   "source": [
    "f(k_new)"
   ]
  },
  {
   "cell_type": "code",
   "execution_count": 542,
   "metadata": {},
   "outputs": [
    {
     "data": {
      "text/plain": [
       "(array([], dtype=int64),)"
      ]
     },
     "execution_count": 542,
     "metadata": {},
     "output_type": "execute_result"
    }
   ],
   "source": [
    "k = k_original\n",
    "n=0\n",
    "i = 3\n",
    "max_iter = 30\n",
    "\n",
    "equality = True\n",
    "stop_condition = np.zeros(J)\n",
    "while n < max_iter:\n",
    "    n +=1\n",
    "    k_new = np.where(f(k) < 0,\n",
    "                    k + 1/(10**i),\n",
    "                    k\n",
    "                    )\n",
    "    k_renewed = np.where(f(k_new) > 0,\n",
    "                        k,\n",
    "                        k_new)\n",
    "    stop_condition = np.where((f(k_new) > 0) & (f(k) < 0),\n",
    "                            1,\n",
    "                            stop_condition)\n",
    "    k_renewed = np.where(k_original == 0,\n",
    "                         0,\n",
    "                         k_renewed)\n",
    "    equality = np.array_equal(np.where(f(k)>0),np.where(f(k_renewed)>0))\n",
    "    if equality:\n",
    "        k = k_renewed\n",
    "    else:\n",
    "        if np.any(stop_condition[k > 0]) == 1:\n",
    "            i +=1\n"
   ]
  },
  {
   "cell_type": "code",
   "execution_count": 499,
   "metadata": {},
   "outputs": [
    {
     "data": {
      "text/plain": [
       "array([0.        , 0.        , 0.        , 0.        , 0.        ,\n",
       "       0.        , 0.        , 0.        , 0.        , 0.        ,\n",
       "       0.        , 0.        , 0.        , 0.        , 0.        ,\n",
       "       0.        , 0.        , 0.        , 0.        , 0.        ,\n",
       "       0.        , 0.        , 0.        , 0.        , 0.        ,\n",
       "       0.        , 0.        , 0.        , 0.        , 0.        ,\n",
       "       0.        , 0.        , 0.        , 0.        , 0.        ,\n",
       "       0.        , 0.        , 0.        , 0.        , 0.01585329,\n",
       "       0.0161452 , 0.01634267, 0.01658267, 0.01675761, 0.02480734,\n",
       "       0.02593765, 0.02768175, 0.03114876, 0.03347691, 0.03370601])"
      ]
     },
     "execution_count": 499,
     "metadata": {},
     "output_type": "execute_result"
    }
   ],
   "source": [
    "k_new = np.where(f(k) < 0, k + ((-1)**n)*(1/(10**i)), k)\n",
    "k_renewed = np.where(f(k_new) > 0, k, k_new)\n",
    "k_renewed = np.where(k_original == 0, 0, k_renewed)\n",
    "k = k_renewed\n",
    "k"
   ]
  },
  {
   "cell_type": "code",
   "execution_count": 1036,
   "metadata": {},
   "outputs": [
    {
     "data": {
      "image/png": "[encoded data removed]",
      "text/plain": [
       "<Figure size 640x480 with 1 Axes>"
      ]
     },
     "metadata": {},
     "output_type": "display_data"
    },
    {
     "data": {
      "text/plain": [
       "[np.float64(-1.571889929919704),\n",
       " np.float64(-1.4392248841590685),\n",
       " np.float64(-1.310965831065452),\n",
       " np.float64(-1.19175331534883),\n",
       " np.float64(-1.0617172227842544),\n",
       " np.float64(-0.9414182365281558),\n",
       " np.float64(-0.8349246543302931),\n",
       " np.float64(-0.7188826927591463),\n",
       " np.float64(-0.609469893308876),\n",
       " np.float64(-0.5055978148273259),\n",
       " np.float64(-0.41838733005443385),\n",
       " np.float64(-0.3131353700475126),\n",
       " np.float64(-0.20852851858380617),\n",
       " np.float64(-0.11780029752877863),\n",
       " np.float64(-0.033558866471841586),\n",
       " np.float64(0.042068998665926616),\n",
       " np.float64(0.11008463916419764),\n",
       " np.float64(0.1929473261239425),\n",
       " np.float64(0.2686173166596446),\n",
       " np.float64(0.33255186886820853),\n",
       " np.float64(0.4048661779345706),\n",
       " np.float64(0.4696762493226938),\n",
       " np.float64(0.5260747109532099),\n",
       " np.float64(0.5761917193532261),\n",
       " np.float64(0.6193746489983124),\n",
       " np.float64(0.670311059304389),\n",
       " np.float64(0.7230269957937112),\n",
       " np.float64(0.7647127427724475),\n",
       " np.float64(0.7967713449853745),\n",
       " np.float64(0.8354497369417517),\n",
       " np.float64(0.8733216969921821),\n",
       " np.float64(0.9068559371040001),\n",
       " np.float64(0.9438865264505216),\n",
       " np.float64(0.9809534011934083),\n",
       " np.float64(1.0094390086909573),\n",
       " np.float64(1.0464817110780018),\n",
       " np.float64(1.0739019489406163),\n",
       " np.float64(1.1027595487798298),\n",
       " np.float64(1.1257245786134003),\n",
       " np.float64(1.1434296929447911),\n",
       " np.float64(1.1659430234668178),\n",
       " np.float64(1.1847428747524344),\n",
       " np.float64(1.2063082185175258),\n",
       " np.float64(1.2267118372617074),\n",
       " np.float64(1.259903744842774),\n",
       " np.float64(1.2789751194185937),\n",
       " np.float64(1.2876663960562034),\n",
       " np.float64(1.3081759309269132),\n",
       " np.float64(1.3174570959878347),\n",
       " np.float64(1.3305812682220082),\n",
       " np.float64(1.3437193539272754),\n",
       " np.float64(1.354798097232007),\n",
       " np.float64(1.3591748521730043),\n",
       " np.float64(1.3687131467422828),\n",
       " np.float64(1.3860889641910694),\n",
       " np.float64(1.3907729342121236),\n",
       " np.float64(1.4033633745073417),\n",
       " np.float64(1.4135880551548745),\n",
       " np.float64(1.4214906007003323),\n",
       " np.float64(1.4265057700923642),\n",
       " np.float64(1.4343341427915572),\n",
       " np.float64(1.4420092102629656),\n",
       " np.float64(1.4468155389309822),\n",
       " np.float64(1.451013295863702),\n",
       " np.float64(1.4568410353245513),\n",
       " np.float64(1.4596531993361277),\n",
       " np.float64(1.463222078995818),\n",
       " np.float64(1.4659185622315816),\n",
       " np.float64(1.4697137637024047),\n",
       " np.float64(1.4715852736305466),\n",
       " np.float64(1.4747082297484833),\n",
       " np.float64(1.4783643326928444),\n",
       " np.float64(1.4802413033431532),\n",
       " np.float64(1.4802413033431532),\n",
       " np.float64(1.4813503296893893),\n",
       " np.float64(1.4813503296893893),\n",
       " np.float64(1.482315040158629),\n",
       " np.float64(1.483241454575046),\n",
       " np.float64(1.4843282141389886),\n",
       " np.float64(1.4853971225330211),\n",
       " np.float64(1.4860449454601576),\n",
       " np.float64(1.4870197811962078),\n",
       " np.float64(1.4870197811962078),\n",
       " np.float64(1.4870197811962078),\n",
       " np.float64(1.4870197811962078),\n",
       " np.float64(1.4876850200645704),\n",
       " np.float64(1.488767981593112),\n",
       " np.float64(1.488767981593112),\n",
       " np.float64(1.488767981593112),\n",
       " np.float64(1.4898417403104982),\n",
       " np.float64(1.4906017167840668),\n",
       " np.float64(1.4911897507331424),\n",
       " np.float64(1.4929875320069521),\n",
       " np.float64(1.493987559619798),\n",
       " np.float64(1.4956657752798646),\n",
       " np.float64(1.4956657752798646),\n",
       " np.float64(1.4956657752798646),\n",
       " np.float64(1.4967876686205692),\n",
       " np.float64(1.4975417186781919),\n",
       " np.float64(1.4975417186781919)]"
      ]
     },
     "execution_count": 1036,
     "metadata": {},
     "output_type": "execute_result"
    }
   ],
   "source": [
    "def graph_component_37(f, k_original, i, start, stop, num_points=100):\n",
    "    \"\"\"\n",
    "    Function to graph the effect of changing the 37th component of a vector on the output of a function.\n",
    "\n",
    "    Parameters:\n",
    "    - f: The function to evaluate.\n",
    "    - k_original: The original input vector (must be at least 38 elements long).\n",
    "    - start: The start value for the 37th component.\n",
    "    - stop: The stop value for the 37th component.\n",
    "    - num_points: The number of points in the linspace (default is 100).\n",
    "\n",
    "    Returns:\n",
    "    - A plot of f(k) as the 37th component of k changes.\n",
    "    \"\"\"\n",
    "    if len(k_original) < i + 1:\n",
    "        raise ValueError(\"Input vector must be at least 38 elements long.\")\n",
    "    \n",
    "    # Generate a linspace for the 37th component\n",
    "    linspace_values = np.linspace(start, stop, num_points)\n",
    "    \n",
    "    # Keep the original vector unchanged for components other than the 37th\n",
    "    k_fixed = np.copy(k_original)\n",
    "    \n",
    "    # Store the results of the function evaluations\n",
    "    results = []\n",
    "\n",
    "    # Evaluate the function over the linspace\n",
    "    for value in linspace_values:\n",
    "        k_fixed[i] = value  # Update the 37th component (index 36 for 0-based indexing)\n",
    "        result = f(k_fixed)[i] # Evaluate the function\n",
    "        results.append(result)\n",
    "\n",
    "    # Plot the results\n",
    "    plt.plot(linspace_values, results)\n",
    "    plt.title(\"Function evaluation over varying 37th component\")\n",
    "    plt.xlabel(\"37th component value\")\n",
    "    plt.ylabel(\"f(k)\")\n",
    "    plt.grid(True)\n",
    "    plt.show()\n",
    "    \n",
    "    return results\n",
    "\n",
    "\n",
    "graph_component_37(f, k, 45, 0.1, 1.5, num_points=100)"
   ]
  }
 ],
 "metadata": {
  "kernelspec": {
   "display_name": "base",
   "language": "python",
   "name": "python3"
  },
  "language_info": {
   "codemirror_mode": {
    "name": "ipython",
    "version": 3
   },
   "file_extension": ".py",
   "mimetype": "text/x-python",
   "name": "python",
   "nbconvert_exporter": "python",
   "pygments_lexer": "ipython3",
   "version": "3.12.2"
  }
 },
 "nbformat": 4,
 "nbformat_minor": 2
}
