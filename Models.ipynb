{
 "cells": [
  {
   "cell_type": "code",
   "execution_count": 1,
   "metadata": {},
   "outputs": [],
   "source": [
    "# Import necessary libraries\n",
    "import matplotlib.pyplot as plt\n",
    "import numpy as np\n",
    "from scipy.stats import expon\n",
    "from scipy.stats import uniform\n",
    "from scipy.integrate import quad"
   ]
  },
  {
   "cell_type": "code",
   "execution_count": 2,
   "metadata": {},
   "outputs": [],
   "source": [
    "# \"IMPLICIT\" SEARCH FUNCTION\n",
    "###########################################################################\n",
    "\n",
    "def uij(ki,gammai,Vj,t,kj):\n",
    "    \"\"\"Utility patient i receives from doctor j\"\"\"\n",
    "\n",
    "    return Vj * ki - t + np.where(ki >= kj, gammai, 0)\n",
    "        \n",
    "def aij(u,λ):\n",
    "    \"\"\"Intermediate function to calculate sij\"\"\"\n",
    "\n",
    "    return np.where(u > 0, np.exp(λ*u), 0)\n",
    "                \n",
    "def logit_search(ki,gammai,Vj,t,kj,λ):    \n",
    "    \"\"\"Probability that patient i visits doctor j\"\"\"\n",
    "    #It takes the J-sized vectors of all doctors' Vj and κj as arguments\n",
    "\n",
    "    u = uij(ki,gammai,Vj,t,kj)\n",
    "    ai_total = np.sum(aij(u,λ), axis = 0)\n",
    "\n",
    "    with np.errstate(divide='ignore', invalid='ignore'):\n",
    "        # To avoid pesky division by zero warning      \n",
    "        return np.where(ai_total != 0, aij(u,λ)/ai_total, 0)\n",
    "\n",
    "\n",
    "# Some auxiliary functions to set up chain rule derivatives\n",
    "\n",
    "def dlogit_search_dk(ki,gammai,Vj,t,kj,λ):\n",
    "    \"\"\"Derivative d sij / d k\"\"\"\n",
    "\n",
    "    u = uij(ki,gammai,Vj,t,kj)\n",
    "\n",
    "    if np.sum(aij(u,λ)) == 0:\n",
    "        return 0\n",
    "    \n",
    "    return np.divide(\n",
    "        Vj * aij(u,λ) * np.sum(aij(u,λ))- aij(u,λ) * np.sum(Vj * aij(u,λ)),\n",
    "        (np.sum(aij(u,λ)))**2\n",
    "        )\n"
   ]
  },
  {
   "cell_type": "markdown",
   "metadata": {},
   "source": [
    "The function 'sij' gives us each patient's Si vector of strategies, and if broadcast correctly it can output all patients' strategies in a single array (given numerable patients in a MC simulation), where each column is each patient’s Si, each row could be added up to a doctor's Qi.\n",
    "\n",
    "We keep it as a callable function for cases where we want the sij of a particular set of patient x doctor parameters, namely when calculating the derivative of our FOC."
   ]
  },
  {
   "cell_type": "code",
   "execution_count": 3,
   "metadata": {},
   "outputs": [],
   "source": [
    "class SearchEq:\n",
    "    \n",
    "    def __init__(self,  I,  # Number of patients in the whole market\n",
    "                        F,  # Distribution of κi\n",
    "                        G,  # Distribution of γi\n",
    "                        t,  # Cost of visit\n",
    "                        λ,  # Logit parameter\n",
    "                        R,  # Revenue function Rj\n",
    "                        P,  # Punishment function Pj\n",
    "                        V,  # Given vector of Vj\n",
    "                        sij): # Search function\n",
    "       \n",
    "        self.I, self.F, self.G, self.t, self.λ, self.R, self.P, self.V, self.sij = I, F, G, t, λ, R, P, V, sij     # Save parameters\n",
    "    \n",
    "    def Si(self, k0, s=123):\n",
    "        \"\"\"MC simulation of the set of patient strategies out of a given set κ0 of doctor thresholds, seed s\"\"\"\n",
    "\n",
    "        I, F, G, t, λ, V, sij = self.I, self.F, self.G, self.t, self.λ, self.V, self.sij    # Unpack parameters\n",
    "        \n",
    "        rng = np.random.RandomState(s)\n",
    "        ki = F.rvs(size=I, random_state=rng).reshape((1,-1))    # Sample of patients out of distribution\n",
    "        gammai = G.rvs(size=I, random_state=rng).reshape((1,-1))\n",
    "        \n",
    "        Vj = V.reshape((-1,1))      # Reshaping doctor parameters for proper broadcasting\n",
    "        kj = k0.reshape((-1,1))\n",
    "\n",
    "        return sij(ki,gammai,Vj,t,kj,λ)\n",
    "\n",
    "    def Qi(self, k0, s=123):\n",
    "        \"\"\"Vector of expected patient demand by each doctor j out of an MC simulation of Si\"\"\"\n",
    "\n",
    "        S = self.Si(k0, s)\n",
    "\n",
    "        return np.sum(S, axis = 1)\n",
    "    \n",
    "    def Xi(self, k0, s=123):\n",
    "        \"\"\"Vector of expected certificates granted by each doctor j out of an MC simulation of Si\"\"\"\n",
    "\n",
    "        S = self.Si(k0, s)\n",
    "        F, I = self.F, self.I\n",
    "        rng = np.random.RandomState(s)\n",
    "        ki = F.rvs(size=I, random_state=rng).reshape((1,-1))\n",
    "        # We recreate the ki vector with the same seed, so it's the same\n",
    "        \n",
    "        ki_greater = np.array(ki.reshape((1,-1)) >= k0.reshape((-1,1))).astype(int) \n",
    "\n",
    "        return np.sum(S*ki_greater, axis = 1)\n",
    "    \n",
    "    def aux_func(self, func, k0):\n",
    "        \"\"\"Vector of int func(k0,gamma) dG(gamma) f(k0)\"\"\"\n",
    "\n",
    "        # We will use this function both for func = sij as well as func = ds_dk\n",
    "\n",
    "        F, G, t, λ, V = self.F, self.G, self.t, self.λ, self.V    # Unpack parameters\n",
    "\n",
    "        f = lambda x: F.pdf(x)  # Taking pdfs of our κ and γ distributions\n",
    "        g = lambda x: G.pdf(x)\n",
    "\n",
    "        s_gamma = lambda x: np.diagonal(func(k0.reshape(1,-1),x,V,t,k0,λ)) \n",
    "        # Evaluate sij at each doctor's κj, then take the diagonal, taking doctor j's sij for his own kj\n",
    "        # This is a lambda function for a given value of γ\n",
    "\n",
    "        gamma_integrand = lambda x: s_gamma(x) * g(x) # sij(γ) g(γ)\n",
    "\n",
    "        n = 101\n",
    "        x = np.linspace(G.ppf(0),G.ppf(1),n) # n-sized linspace across the domain of G\n",
    "\n",
    "        results = []\n",
    "\n",
    "        # Loop that evaluates sij(γ) g(γ) for 101 values of γ\n",
    "        for i in x:\n",
    "            result = gamma_integrand(i)\n",
    "            results.append(result)\n",
    "\n",
    "        results = np.array(results)\n",
    "\n",
    "        mc_integral = np.sum(results, axis = 0)/n\n",
    "        # By summing column wise divided by n we get a monte-carlo approximation of an integral\n",
    "\n",
    "        return - mc_integral * f(k0.reshape(-1,))\n",
    "    \n",
    "    def FOC(self, k0, dR, dP, s=123):\n",
    "        \"\"\"Out of the previous MC results, it outputs the value of evaluated FOC\"\"\"\n",
    "\n",
    "        Q = self.Qi(k0, s)\n",
    "        X = self.Xi(k0, s)\n",
    "        sij = self.sij\n",
    "        dQ_dk = self.aux_func(sij, k0)\n",
    "\n",
    "        return (dR(Q) - dP(X))*dQ_dk\n",
    "    \n",
    "    def dFOC_dk(self, k0, dR, dP, d2R, d2P, ds, df, s=123): #For now, we manually input the derivatives and second derivatives of interest\n",
    "\n",
    "        Q = self.Qi(k0, s)\n",
    "        X = self.Xi(k0, s)\n",
    "        sij = self.sij\n",
    "        dQ_dk = self.aux_func(sij, k0)\n",
    "        d2Q_dk = self.aux_func(ds, k0) + self.aux_func(sij, k0) * df(Q) # Double derivative of Q over κ\n",
    "\n",
    "        return (dR(Q) - dP(X))*d2Q_dk + (d2R(Q) - d2P(X))*dQ_dk\n",
    "        \n",
    "\n",
    "\n",
    "\n"
   ]
  },
  {
   "cell_type": "code",
   "execution_count": 4,
   "metadata": {},
   "outputs": [],
   "source": [
    "# Number of doctors and patients\n",
    "I = 100\n",
    "J = 50\n",
    "\n",
    "b = 5\n",
    "\n",
    "F = expon(scale=1/b)\n",
    "G = uniform\n",
    "H = uniform(scale = 1)\n",
    "\n",
    "f = lambda x: F.pdf(x)\n",
    "g = lambda x: G.pdf(x)\n",
    "\n",
    "rng = np.random.RandomState(seed=123)         # Set up number generator using seed\n",
    "V = H.rvs(size=J, random_state=rng)     # Create J-size vector of Vj values using H\n",
    "\n",
    "r = 2\n",
    "p = 1\n",
    "\n",
    "R = lambda x: r * x\n",
    "P = lambda x: p/2 * x**2\n",
    "\n",
    "dR = lambda x: r + x - x\n",
    "dP = lambda x: p * x\n",
    "\n",
    "d2R = lambda x: 0 + x - x\n",
    "d2P = lambda x: p + x - x\n",
    "\n",
    "df = lambda x: -b*f(x)\n",
    "\n",
    "k0 = np.ones(J)*0.5\n",
    "\n",
    "λ = 1\n",
    "t = 0.1"
   ]
  },
  {
   "cell_type": "code",
   "execution_count": 5,
   "metadata": {},
   "outputs": [],
   "source": [
    "rng = np.random.RandomState(123)\n",
    "ki = F.rvs(size=I, random_state=rng).reshape((1,-1))    # Sample of patients out of distribution\n",
    "gammai = G.rvs(size=I, random_state=rng).reshape((1,-1))\n",
    "\n",
    "V =  np.sort(V)\n",
    "Vj = V.reshape((-1,1))      # Reshaping doctor parameters for proper broadcasting\n",
    "kj = k0.reshape((-1,1))\n",
    "Vj = np.sort(Vj)"
   ]
  },
  {
   "cell_type": "code",
   "execution_count": 6,
   "metadata": {},
   "outputs": [],
   "source": [
    "J = 2\n",
    "V = H.rvs(size=J, random_state=rng)\n",
    "LogitModel = SearchEq(I, F, G, t, λ, R, P, V, logit_search)"
   ]
  },
  {
   "cell_type": "code",
   "execution_count": 7,
   "metadata": {},
   "outputs": [
    {
     "ename": "KeyboardInterrupt",
     "evalue": "",
     "output_type": "error",
     "traceback": [
      "\u001b[0;31m---------------------------------------------------------------------------\u001b[0m",
      "\u001b[0;31mKeyboardInterrupt\u001b[0m                         Traceback (most recent call last)",
      "Cell \u001b[0;32mIn[7], line 11\u001b[0m\n\u001b[1;32m      8\u001b[0m func \u001b[38;5;241m=\u001b[39m \u001b[38;5;28;01mlambda\u001b[39;00m x: LogitModel\u001b[38;5;241m.\u001b[39mFOC(x, dR, dP)[\u001b[38;5;241m0\u001b[39m]\n\u001b[1;32m     10\u001b[0m \u001b[38;5;66;03m# Apply the function to each vector\u001b[39;00m\n\u001b[0;32m---> 11\u001b[0m Z \u001b[38;5;241m=\u001b[39m \u001b[43mnp\u001b[49m\u001b[38;5;241;43m.\u001b[39;49m\u001b[43mapply_along_axis\u001b[49m\u001b[43m(\u001b[49m\u001b[43mfunc\u001b[49m\u001b[43m,\u001b[49m\u001b[43m \u001b[49m\u001b[38;5;241;43m1\u001b[39;49m\u001b[43m,\u001b[49m\u001b[43m \u001b[49m\u001b[43mXY\u001b[49m\u001b[43m)\u001b[49m\u001b[38;5;241m.\u001b[39mreshape(X\u001b[38;5;241m.\u001b[39mshape)\n\u001b[1;32m     13\u001b[0m \u001b[38;5;66;03m# Create the heatmap\u001b[39;00m\n\u001b[1;32m     14\u001b[0m plt\u001b[38;5;241m.\u001b[39mfigure(figsize\u001b[38;5;241m=\u001b[39m(\u001b[38;5;241m8\u001b[39m, \u001b[38;5;241m6\u001b[39m))\n",
      "File \u001b[0;32m/opt/miniconda3/lib/python3.12/site-packages/numpy/lib/_shape_base_impl.py:416\u001b[0m, in \u001b[0;36mapply_along_axis\u001b[0;34m(func1d, axis, arr, *args, **kwargs)\u001b[0m\n\u001b[1;32m    414\u001b[0m buff[ind0] \u001b[38;5;241m=\u001b[39m res\n\u001b[1;32m    415\u001b[0m \u001b[38;5;28;01mfor\u001b[39;00m ind \u001b[38;5;129;01min\u001b[39;00m inds:\n\u001b[0;32m--> 416\u001b[0m     buff[ind] \u001b[38;5;241m=\u001b[39m asanyarray(\u001b[43mfunc1d\u001b[49m\u001b[43m(\u001b[49m\u001b[43minarr_view\u001b[49m\u001b[43m[\u001b[49m\u001b[43mind\u001b[49m\u001b[43m]\u001b[49m\u001b[43m,\u001b[49m\u001b[43m \u001b[49m\u001b[38;5;241;43m*\u001b[39;49m\u001b[43margs\u001b[49m\u001b[43m,\u001b[49m\u001b[43m \u001b[49m\u001b[38;5;241;43m*\u001b[39;49m\u001b[38;5;241;43m*\u001b[39;49m\u001b[43mkwargs\u001b[49m\u001b[43m)\u001b[49m)\n\u001b[1;32m    418\u001b[0m res \u001b[38;5;241m=\u001b[39m transpose(buff, buff_permute)\n\u001b[1;32m    419\u001b[0m \u001b[38;5;28;01mreturn\u001b[39;00m conv\u001b[38;5;241m.\u001b[39mwrap(res)\n",
      "Cell \u001b[0;32mIn[7], line 8\u001b[0m, in \u001b[0;36m<lambda>\u001b[0;34m(x)\u001b[0m\n\u001b[1;32m      5\u001b[0m \u001b[38;5;66;03m# Flatten the grids and stack them as 1x2 vectors\u001b[39;00m\n\u001b[1;32m      6\u001b[0m XY \u001b[38;5;241m=\u001b[39m np\u001b[38;5;241m.\u001b[39mstack([X\u001b[38;5;241m.\u001b[39mravel(), Y\u001b[38;5;241m.\u001b[39mravel()], axis\u001b[38;5;241m=\u001b[39m\u001b[38;5;241m1\u001b[39m)\n\u001b[0;32m----> 8\u001b[0m func \u001b[38;5;241m=\u001b[39m \u001b[38;5;28;01mlambda\u001b[39;00m x: \u001b[43mLogitModel\u001b[49m\u001b[38;5;241;43m.\u001b[39;49m\u001b[43mFOC\u001b[49m\u001b[43m(\u001b[49m\u001b[43mx\u001b[49m\u001b[43m,\u001b[49m\u001b[43m \u001b[49m\u001b[43mdR\u001b[49m\u001b[43m,\u001b[49m\u001b[43m \u001b[49m\u001b[43mdP\u001b[49m\u001b[43m)\u001b[49m[\u001b[38;5;241m0\u001b[39m]\n\u001b[1;32m     10\u001b[0m \u001b[38;5;66;03m# Apply the function to each vector\u001b[39;00m\n\u001b[1;32m     11\u001b[0m Z \u001b[38;5;241m=\u001b[39m np\u001b[38;5;241m.\u001b[39mapply_along_axis(func, \u001b[38;5;241m1\u001b[39m, XY)\u001b[38;5;241m.\u001b[39mreshape(X\u001b[38;5;241m.\u001b[39mshape)\n",
      "Cell \u001b[0;32mIn[3], line 88\u001b[0m, in \u001b[0;36mSearchEq.FOC\u001b[0;34m(self, k0, dR, dP, s)\u001b[0m\n\u001b[1;32m     86\u001b[0m X \u001b[38;5;241m=\u001b[39m \u001b[38;5;28mself\u001b[39m\u001b[38;5;241m.\u001b[39mXi(k0, s)\n\u001b[1;32m     87\u001b[0m sij \u001b[38;5;241m=\u001b[39m \u001b[38;5;28mself\u001b[39m\u001b[38;5;241m.\u001b[39msij\n\u001b[0;32m---> 88\u001b[0m dQ_dk \u001b[38;5;241m=\u001b[39m \u001b[38;5;28;43mself\u001b[39;49m\u001b[38;5;241;43m.\u001b[39;49m\u001b[43maux_func\u001b[49m\u001b[43m(\u001b[49m\u001b[43msij\u001b[49m\u001b[43m,\u001b[49m\u001b[43m \u001b[49m\u001b[43mk0\u001b[49m\u001b[43m)\u001b[49m\n\u001b[1;32m     90\u001b[0m \u001b[38;5;28;01mreturn\u001b[39;00m (dR(Q) \u001b[38;5;241m-\u001b[39m dP(X))\u001b[38;5;241m*\u001b[39mdQ_dk\n",
      "Cell \u001b[0;32mIn[3], line 72\u001b[0m, in \u001b[0;36mSearchEq.aux_func\u001b[0;34m(self, func, k0)\u001b[0m\n\u001b[1;32m     70\u001b[0m \u001b[38;5;66;03m# Loop that evaluates sij(γ) g(γ) for 101 values of γ\u001b[39;00m\n\u001b[1;32m     71\u001b[0m \u001b[38;5;28;01mfor\u001b[39;00m i \u001b[38;5;129;01min\u001b[39;00m x:\n\u001b[0;32m---> 72\u001b[0m     result \u001b[38;5;241m=\u001b[39m \u001b[43mgamma_integrand\u001b[49m\u001b[43m(\u001b[49m\u001b[43mi\u001b[49m\u001b[43m)\u001b[49m\n\u001b[1;32m     73\u001b[0m     results\u001b[38;5;241m.\u001b[39mappend(result)\n\u001b[1;32m     75\u001b[0m results \u001b[38;5;241m=\u001b[39m np\u001b[38;5;241m.\u001b[39marray(results)\n",
      "Cell \u001b[0;32mIn[3], line 63\u001b[0m, in \u001b[0;36mSearchEq.aux_func.<locals>.<lambda>\u001b[0;34m(x)\u001b[0m\n\u001b[1;32m     59\u001b[0m s_gamma \u001b[38;5;241m=\u001b[39m \u001b[38;5;28;01mlambda\u001b[39;00m x: np\u001b[38;5;241m.\u001b[39mdiagonal(func(k0\u001b[38;5;241m.\u001b[39mreshape(\u001b[38;5;241m1\u001b[39m,\u001b[38;5;241m-\u001b[39m\u001b[38;5;241m1\u001b[39m),x,V,t,k0,λ)) \n\u001b[1;32m     60\u001b[0m \u001b[38;5;66;03m# Evaluate sij at each doctor's κj, then take the diagonal, taking doctor j's sij for his own kj\u001b[39;00m\n\u001b[1;32m     61\u001b[0m \u001b[38;5;66;03m# This is a lambda function for a given value of γ\u001b[39;00m\n\u001b[0;32m---> 63\u001b[0m gamma_integrand \u001b[38;5;241m=\u001b[39m \u001b[38;5;28;01mlambda\u001b[39;00m x: s_gamma(x) \u001b[38;5;241m*\u001b[39m \u001b[43mg\u001b[49m\u001b[43m(\u001b[49m\u001b[43mx\u001b[49m\u001b[43m)\u001b[49m \u001b[38;5;66;03m# sij(γ) g(γ)\u001b[39;00m\n\u001b[1;32m     65\u001b[0m n \u001b[38;5;241m=\u001b[39m \u001b[38;5;241m101\u001b[39m\n\u001b[1;32m     66\u001b[0m x \u001b[38;5;241m=\u001b[39m np\u001b[38;5;241m.\u001b[39mlinspace(G\u001b[38;5;241m.\u001b[39mppf(\u001b[38;5;241m0\u001b[39m),G\u001b[38;5;241m.\u001b[39mppf(\u001b[38;5;241m1\u001b[39m),n) \u001b[38;5;66;03m# n-sized linspace across the domain of G\u001b[39;00m\n",
      "Cell \u001b[0;32mIn[3], line 57\u001b[0m, in \u001b[0;36mSearchEq.aux_func.<locals>.<lambda>\u001b[0;34m(x)\u001b[0m\n\u001b[1;32m     54\u001b[0m F, G, t, λ, V \u001b[38;5;241m=\u001b[39m \u001b[38;5;28mself\u001b[39m\u001b[38;5;241m.\u001b[39mF, \u001b[38;5;28mself\u001b[39m\u001b[38;5;241m.\u001b[39mG, \u001b[38;5;28mself\u001b[39m\u001b[38;5;241m.\u001b[39mt, \u001b[38;5;28mself\u001b[39m\u001b[38;5;241m.\u001b[39mλ, \u001b[38;5;28mself\u001b[39m\u001b[38;5;241m.\u001b[39mV    \u001b[38;5;66;03m# Unpack parameters\u001b[39;00m\n\u001b[1;32m     56\u001b[0m f \u001b[38;5;241m=\u001b[39m \u001b[38;5;28;01mlambda\u001b[39;00m x: F\u001b[38;5;241m.\u001b[39mpdf(x)  \u001b[38;5;66;03m# Taking pdfs of our κ and γ distributions\u001b[39;00m\n\u001b[0;32m---> 57\u001b[0m g \u001b[38;5;241m=\u001b[39m \u001b[38;5;28;01mlambda\u001b[39;00m x: \u001b[43mG\u001b[49m\u001b[38;5;241;43m.\u001b[39;49m\u001b[43mpdf\u001b[49m\u001b[43m(\u001b[49m\u001b[43mx\u001b[49m\u001b[43m)\u001b[49m\n\u001b[1;32m     59\u001b[0m s_gamma \u001b[38;5;241m=\u001b[39m \u001b[38;5;28;01mlambda\u001b[39;00m x: np\u001b[38;5;241m.\u001b[39mdiagonal(func(k0\u001b[38;5;241m.\u001b[39mreshape(\u001b[38;5;241m1\u001b[39m,\u001b[38;5;241m-\u001b[39m\u001b[38;5;241m1\u001b[39m),x,V,t,k0,λ)) \n\u001b[1;32m     60\u001b[0m \u001b[38;5;66;03m# Evaluate sij at each doctor's κj, then take the diagonal, taking doctor j's sij for his own kj\u001b[39;00m\n\u001b[1;32m     61\u001b[0m \u001b[38;5;66;03m# This is a lambda function for a given value of γ\u001b[39;00m\n",
      "File \u001b[0;32m/opt/miniconda3/lib/python3.12/site-packages/scipy/stats/_distn_infrastructure.py:2029\u001b[0m, in \u001b[0;36mrv_continuous.pdf\u001b[0;34m(self, x, *args, **kwds)\u001b[0m\n\u001b[1;32m   2027\u001b[0m x \u001b[38;5;241m=\u001b[39m np\u001b[38;5;241m.\u001b[39masarray((x \u001b[38;5;241m-\u001b[39m loc)\u001b[38;5;241m/\u001b[39mscale, dtype\u001b[38;5;241m=\u001b[39mdtyp)\n\u001b[1;32m   2028\u001b[0m cond0 \u001b[38;5;241m=\u001b[39m \u001b[38;5;28mself\u001b[39m\u001b[38;5;241m.\u001b[39m_argcheck(\u001b[38;5;241m*\u001b[39margs) \u001b[38;5;241m&\u001b[39m (scale \u001b[38;5;241m>\u001b[39m \u001b[38;5;241m0\u001b[39m)\n\u001b[0;32m-> 2029\u001b[0m cond1 \u001b[38;5;241m=\u001b[39m \u001b[38;5;28;43mself\u001b[39;49m\u001b[38;5;241;43m.\u001b[39;49m\u001b[43m_support_mask\u001b[49m\u001b[43m(\u001b[49m\u001b[43mx\u001b[49m\u001b[43m,\u001b[49m\u001b[43m \u001b[49m\u001b[38;5;241;43m*\u001b[39;49m\u001b[43margs\u001b[49m\u001b[43m)\u001b[49m \u001b[38;5;241m&\u001b[39m (scale \u001b[38;5;241m>\u001b[39m \u001b[38;5;241m0\u001b[39m)\n\u001b[1;32m   2030\u001b[0m cond \u001b[38;5;241m=\u001b[39m cond0 \u001b[38;5;241m&\u001b[39m cond1\n\u001b[1;32m   2031\u001b[0m output \u001b[38;5;241m=\u001b[39m zeros(shape(cond), dtyp)\n",
      "File \u001b[0;32m/opt/miniconda3/lib/python3.12/site-packages/scipy/stats/_distn_infrastructure.py:1018\u001b[0m, in \u001b[0;36mrv_generic._support_mask\u001b[0;34m(self, x, *args)\u001b[0m\n\u001b[1;32m   1016\u001b[0m \u001b[38;5;28;01mdef\u001b[39;00m \u001b[38;5;21m_support_mask\u001b[39m(\u001b[38;5;28mself\u001b[39m, x, \u001b[38;5;241m*\u001b[39margs):\n\u001b[1;32m   1017\u001b[0m     a, b \u001b[38;5;241m=\u001b[39m \u001b[38;5;28mself\u001b[39m\u001b[38;5;241m.\u001b[39m_get_support(\u001b[38;5;241m*\u001b[39margs)\n\u001b[0;32m-> 1018\u001b[0m \u001b[43m    \u001b[49m\u001b[38;5;28;43;01mwith\u001b[39;49;00m\u001b[43m \u001b[49m\u001b[43mnp\u001b[49m\u001b[38;5;241;43m.\u001b[39;49m\u001b[43merrstate\u001b[49m\u001b[43m(\u001b[49m\u001b[43minvalid\u001b[49m\u001b[38;5;241;43m=\u001b[39;49m\u001b[38;5;124;43m'\u001b[39;49m\u001b[38;5;124;43mignore\u001b[39;49m\u001b[38;5;124;43m'\u001b[39;49m\u001b[43m)\u001b[49m\u001b[43m:\u001b[49m\n\u001b[1;32m   1019\u001b[0m \u001b[43m        \u001b[49m\u001b[38;5;28;43;01mreturn\u001b[39;49;00m\u001b[43m \u001b[49m\u001b[43m(\u001b[49m\u001b[43ma\u001b[49m\u001b[43m \u001b[49m\u001b[38;5;241;43m<\u001b[39;49m\u001b[38;5;241;43m=\u001b[39;49m\u001b[43m \u001b[49m\u001b[43mx\u001b[49m\u001b[43m)\u001b[49m\u001b[43m \u001b[49m\u001b[38;5;241;43m&\u001b[39;49m\u001b[43m \u001b[49m\u001b[43m(\u001b[49m\u001b[43mx\u001b[49m\u001b[43m \u001b[49m\u001b[38;5;241;43m<\u001b[39;49m\u001b[38;5;241;43m=\u001b[39;49m\u001b[43m \u001b[49m\u001b[43mb\u001b[49m\u001b[43m)\u001b[49m\n",
      "File \u001b[0;32m/opt/miniconda3/lib/python3.12/site-packages/numpy/_core/_ufunc_config.py:446\u001b[0m, in \u001b[0;36merrstate.__enter__\u001b[0;34m(self)\u001b[0m\n\u001b[1;32m    444\u001b[0m     \u001b[38;5;28;01mraise\u001b[39;00m \u001b[38;5;167;01mTypeError\u001b[39;00m(\u001b[38;5;124m\"\u001b[39m\u001b[38;5;124mCannot enter `np.errstate` twice.\u001b[39m\u001b[38;5;124m\"\u001b[39m)\n\u001b[1;32m    445\u001b[0m \u001b[38;5;28;01mif\u001b[39;00m \u001b[38;5;28mself\u001b[39m\u001b[38;5;241m.\u001b[39m_call \u001b[38;5;129;01mis\u001b[39;00m _Unspecified:\n\u001b[0;32m--> 446\u001b[0m     extobj \u001b[38;5;241m=\u001b[39m \u001b[43m_make_extobj\u001b[49m\u001b[43m(\u001b[49m\n\u001b[1;32m    447\u001b[0m \u001b[43m            \u001b[49m\u001b[38;5;28;43mall\u001b[39;49m\u001b[38;5;241;43m=\u001b[39;49m\u001b[38;5;28;43mself\u001b[39;49m\u001b[38;5;241;43m.\u001b[39;49m\u001b[43m_all\u001b[49m\u001b[43m,\u001b[49m\u001b[43m \u001b[49m\u001b[43mdivide\u001b[49m\u001b[38;5;241;43m=\u001b[39;49m\u001b[38;5;28;43mself\u001b[39;49m\u001b[38;5;241;43m.\u001b[39;49m\u001b[43m_divide\u001b[49m\u001b[43m,\u001b[49m\u001b[43m \u001b[49m\u001b[43mover\u001b[49m\u001b[38;5;241;43m=\u001b[39;49m\u001b[38;5;28;43mself\u001b[39;49m\u001b[38;5;241;43m.\u001b[39;49m\u001b[43m_over\u001b[49m\u001b[43m,\u001b[49m\n\u001b[1;32m    448\u001b[0m \u001b[43m            \u001b[49m\u001b[43munder\u001b[49m\u001b[38;5;241;43m=\u001b[39;49m\u001b[38;5;28;43mself\u001b[39;49m\u001b[38;5;241;43m.\u001b[39;49m\u001b[43m_under\u001b[49m\u001b[43m,\u001b[49m\u001b[43m \u001b[49m\u001b[43minvalid\u001b[49m\u001b[38;5;241;43m=\u001b[39;49m\u001b[38;5;28;43mself\u001b[39;49m\u001b[38;5;241;43m.\u001b[39;49m\u001b[43m_invalid\u001b[49m\u001b[43m)\u001b[49m\n\u001b[1;32m    449\u001b[0m \u001b[38;5;28;01melse\u001b[39;00m:\n\u001b[1;32m    450\u001b[0m     extobj \u001b[38;5;241m=\u001b[39m _make_extobj(\n\u001b[1;32m    451\u001b[0m             call\u001b[38;5;241m=\u001b[39m\u001b[38;5;28mself\u001b[39m\u001b[38;5;241m.\u001b[39m_call,\n\u001b[1;32m    452\u001b[0m             \u001b[38;5;28mall\u001b[39m\u001b[38;5;241m=\u001b[39m\u001b[38;5;28mself\u001b[39m\u001b[38;5;241m.\u001b[39m_all, divide\u001b[38;5;241m=\u001b[39m\u001b[38;5;28mself\u001b[39m\u001b[38;5;241m.\u001b[39m_divide, over\u001b[38;5;241m=\u001b[39m\u001b[38;5;28mself\u001b[39m\u001b[38;5;241m.\u001b[39m_over,\n\u001b[1;32m    453\u001b[0m             under\u001b[38;5;241m=\u001b[39m\u001b[38;5;28mself\u001b[39m\u001b[38;5;241m.\u001b[39m_under, invalid\u001b[38;5;241m=\u001b[39m\u001b[38;5;28mself\u001b[39m\u001b[38;5;241m.\u001b[39m_invalid)\n",
      "\u001b[0;31mKeyboardInterrupt\u001b[0m: "
     ]
    }
   ],
   "source": [
    "x = np.linspace(0,2,100)\n",
    "y = np.linspace(0,2,100)\n",
    "X, Y = np.meshgrid(x, y)\n",
    "\n",
    "# Flatten the grids and stack them as 1x2 vectors\n",
    "XY = np.stack([X.ravel(), Y.ravel()], axis=1)\n",
    "\n",
    "func = lambda x: LogitModel.FOC(x, dR, dP)[0]\n",
    "\n",
    "# Apply the function to each vector\n",
    "Z = np.apply_along_axis(func, 1, XY).reshape(X.shape)\n",
    "\n",
    "# Create the heatmap\n",
    "plt.figure(figsize=(8, 6))\n",
    "plt.contourf(X, Y, Z, levels=50, cmap='viridis')\n",
    "plt.colorbar(label='Function Value')\n",
    "plt.contour(X, Y, Z, levels=[0], colors='red', linewidths=2)\n",
    "plt.xlabel('x')\n",
    "plt.ylabel('y')\n",
    "plt.title('Heatmap of func([x, y])')\n",
    "plt.show()\n"
   ]
  },
  {
   "cell_type": "code",
   "execution_count": null,
   "metadata": {},
   "outputs": [
    {
     "data": {
      "image/png": "[encoded data removed]",
      "text/plain": [
       "<Figure size 800x600 with 2 Axes>"
      ]
     },
     "metadata": {},
     "output_type": "display_data"
    }
   ],
   "source": [
    "x = np.linspace(0,2,100)\n",
    "y = np.linspace(0,2,100)\n",
    "X, Y = np.meshgrid(x, y)\n",
    "\n",
    "# Flatten the grids and stack them as 1x2 vectors\n",
    "XY = np.stack([X.ravel(), Y.ravel()], axis=1)\n",
    "\n",
    "func2 = lambda x: np.sum(LogitModel.FOC(x, dR, dP))\n",
    "\n",
    "# Apply the function to each vector\n",
    "Z = np.apply_along_axis(func2, 1, XY).reshape(X.shape)\n",
    "\n",
    "# Create the heatmap\n",
    "plt.figure(figsize=(8, 6))\n",
    "plt.contourf(X, Y, Z, levels=50, cmap='viridis')\n",
    "plt.colorbar(label='Function Value')\n",
    "plt.contour(X, Y, Z, levels=[0], colors='red', linewidths=2)\n",
    "plt.xlabel('x')\n",
    "plt.ylabel('y')\n",
    "plt.title('Heatmap of func([x, y])')\n",
    "plt.show()"
   ]
  },
  {
   "cell_type": "code",
   "execution_count": null,
   "metadata": {},
   "outputs": [
    {
     "data": {
      "text/plain": [
       "array([14.1842916 , 13.06083275, 12.97163631, 12.73993546, 12.71222631,\n",
       "       11.42308408, 11.4172476 ,  8.44315981,  5.53770117,  5.51121995,\n",
       "        5.44644248,  5.42891114,  5.40912331,  5.33868135,  4.16021935,\n",
       "        2.26380686,  2.01066349,  1.76900044,  1.4040796 ,  1.1324181 ,\n",
       "        1.13194778,  1.1278828 ,  1.00984447,  0.90586063,  0.72569406,\n",
       "        0.72468746,  0.71961868,  0.60240016,  0.49405987,  0.45192782,\n",
       "        0.45189493,  0.43474151,  0.39891047,  0.39885077,  0.38936854,\n",
       "        0.38927374,  0.38922794,  0.38442722,  0.38439089,  0.38368112,\n",
       "        0.38367692,  0.3836741 ,  0.38366768,  0.38344326,  0.38323324,\n",
       "        0.38320937,  0.38319198,  0.38317605,  0.38316473,  0.38316322])"
      ]
     },
     "execution_count": 207,
     "metadata": {},
     "output_type": "execute_result"
    }
   ],
   "source": [
    "LogitModel = SearchEq(I, F, G, t, λ, R, P, V, logit_search)"
   ]
  },
  {
   "cell_type": "code",
   "execution_count": null,
   "metadata": {},
   "outputs": [],
   "source": [
    "f = lambda x: LogitModel.FOC(x, dR, dP)\n",
    "Df = lambda x: LogitModel.dFOC_dk(x, dR, dP, d2R, d2P, dlogit_search_dk, df)"
   ]
  },
  {
   "cell_type": "code",
   "execution_count": 8,
   "metadata": {},
   "outputs": [],
   "source": [
    "def newton(f, Df, x_0, tol=1e-7, max_iter=100_000):     # As seen in QuantEcon\n",
    "    x = x_0\n",
    "\n",
    "    # Implement the zero-finding formula\n",
    "    def q(x):\n",
    "        Df_x = Df(x)  # Compute Df(x) once to avoid redundant calculations\n",
    "        return np.where(Df_x == 0, 0, x - f(x) / Df_x)\n",
    "\n",
    "    error = tol + 1\n",
    "    n = 0\n",
    "    while np.any(error > tol):\n",
    "        n += 1\n",
    "        if(n > max_iter):\n",
    "            print(\"Convergence not acheived, max iterations\")\n",
    "            break\n",
    "        y = q(x)\n",
    "        error = np.abs(x - y)\n",
    "        \n",
    "        x = y\n",
    "        x[x<0] = 0\n",
    "        error = np.where(x == 0, 0, error)\n",
    "        # Corner solutions at 0 not considered in convergence condition\n",
    "        if all(x == 0):\n",
    "            break\n",
    "    return x, error, Df(x)"
   ]
  },
  {
   "cell_type": "code",
   "execution_count": null,
   "metadata": {},
   "outputs": [],
   "source": [
    "def NAG(Df, x_0, tol=1e-7, max_iter=100_000, alpha = 0.001, beta = 0.99):\n",
    "    x = x_0\n",
    "    v = np.zeros(J)\n",
    "\n",
    "    # Implement the zero-finding formula\n",
    "    def q(x, v, alpha, beta):\n",
    "        arg = x - beta*v\n",
    "        v_new = beta*v + alpha*Df(arg)\n",
    "        x_new = x - v_new\n",
    "        return x_new, v_new\n",
    "\n",
    "    error = tol + 1\n",
    "    n = 0\n",
    "    while np.any(error > tol):\n",
    "        n += 1\n",
    "        if(n > max_iter):\n",
    "            print(\"Convergence not acheived, max iterations\")\n",
    "            break\n",
    "        y, v_new = q(x, v, alpha, beta)\n",
    "        error = np.abs(f(y))\n",
    "        \n",
    "        x = y\n",
    "        v = v_new\n",
    "        x[x<0] = 0\n",
    "        error = np.where(x == 0, 0, error)\n",
    "        # Corner solutions at 0 not considered in convergence condition\n",
    "        if all(x == 0):\n",
    "            break\n",
    "    return x, error, Df(x)"
   ]
  },
  {
   "cell_type": "code",
   "execution_count": null,
   "metadata": {},
   "outputs": [
    {
     "name": "stdout",
     "output_type": "stream",
     "text": [
      "Convergence not acheived, max iterations\n"
     ]
    },
    {
     "data": {
      "text/plain": [
       "array([0.        , 0.        , 0.        , 0.        , 0.        ,\n",
       "       0.        , 0.        , 0.51800613, 2.77501664, 2.76828235,\n",
       "       2.77232373, 2.77502686, 2.77004623, 2.7650651 , 2.80950507,\n",
       "       2.52020855, 2.45444119, 2.36694513, 2.26362365, 2.15937928,\n",
       "       2.15919542, 2.15760412, 2.12478924, 2.09467149, 1.99347473,\n",
       "       1.99290829, 1.99036286, 1.93390689, 0.        , 0.        ,\n",
       "       0.        , 0.        , 0.        , 0.        , 0.        ,\n",
       "       0.        , 0.        , 0.        , 0.        , 0.        ,\n",
       "       0.        , 0.        , 0.        , 0.        , 0.        ,\n",
       "       0.        , 0.        , 0.        , 0.        , 0.        ])"
      ]
     },
     "execution_count": 218,
     "metadata": {},
     "output_type": "execute_result"
    }
   ],
   "source": [
    "k_guess = 0.2*np.ones(J)\n",
    "k, error, dK = NAG(Df, k_guess, tol=1e-4, max_iter=1000, alpha = 0.01, beta = 0.9)\n",
    "k"
   ]
  },
  {
   "cell_type": "code",
   "execution_count": null,
   "metadata": {},
   "outputs": [
    {
     "data": {
      "text/plain": [
       "array([3.97294235, 3.96293661, 3.39047874, 3.2950096 , 3.24638299,\n",
       "       3.01878836, 2.51371823, 2.50061253, 2.49393067, 2.49101497,\n",
       "       2.48671599, 2.45393044, 2.43764013, 2.21960103, 2.21516495,\n",
       "       2.20611653, 2.19199979, 2.18962695, 1.95526874, 1.93274419,\n",
       "       1.93242801, 1.91869918, 1.89890664, 1.8482619 , 1.83666007,\n",
       "       1.83438397, 1.64364947, 1.56869246, 1.56589564, 1.52881725,\n",
       "       1.5283109 , 1.52566788, 1.51767576, 1.50167114, 1.4128854 ,\n",
       "       1.30535418, 1.28926772, 1.14803294, 1.14349044, 1.13948865,\n",
       "       0.98865461, 0.93899657, 0.87202448, 0.79670043, 0.77617801,\n",
       "       0.56433257, 0.50794503, 0.15028392, 0.1184257 , 0.02359528])"
      ]
     },
     "execution_count": 146,
     "metadata": {},
     "output_type": "execute_result"
    }
   ],
   "source": [
    "LogitModel.Qi(k)"
   ]
  }
 ],
 "metadata": {
  "kernelspec": {
   "display_name": "base",
   "language": "python",
   "name": "python3"
  },
  "language_info": {
   "codemirror_mode": {
    "name": "ipython",
    "version": 3
   },
   "file_extension": ".py",
   "mimetype": "text/x-python",
   "name": "python",
   "nbconvert_exporter": "python",
   "pygments_lexer": "ipython3",
   "version": "3.12.2"
  }
 },
 "nbformat": 4,
 "nbformat_minor": 2
}
