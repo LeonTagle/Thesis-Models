{
 "cells": [
  {
   "cell_type": "code",
   "execution_count": 30,
   "metadata": {},
   "outputs": [],
   "source": [
    "import matplotlib.pyplot as plt\n",
    "import numpy as np\n",
    "from scipy.optimize import fsolve"
   ]
  },
  {
   "cell_type": "code",
   "execution_count": 28,
   "metadata": {},
   "outputs": [],
   "source": [
    "def FOC(kj,ki,gammai,Vj,r,p):\n",
    "\n",
    "    # The 'x' vector to be optimized is the vector of physician strategies, kj\n",
    "\n",
    "    # Patient strategies\n",
    "    Ui_aux = Vj*ki.reshape((-1,1))      # Vj x ki\n",
    "    ki_greater = np.array(ki.reshape((-1,1)) < kj.reshape((1,-1))).astype(int)  # I x J boolean mask of ki > kj\n",
    "    Ui = Ui_aux + ki_greater * gammai.reshape((-1,1))   # Vj x ki + gammai if ki > kj\n",
    "    exp_Ui = np.exp(Ui)     # exp(Ui)\n",
    "    Si = exp_Ui/np.sum(exp_Ui, axis = 1).reshape((-1,1))    # I x J vector of patient strategies (logit)\n",
    "\n",
    "    # Aggregates\n",
    "    Qi = np.sum(Si, axis = 0)\n",
    "    Xi = np.sum(ki_greater * Si, axis = 0)\n",
    "\n",
    "    # FOC\n",
    "    FOC = r - p * Xi\n",
    "\n",
    "    return FOC\n"
   ]
  },
  {
   "cell_type": "code",
   "execution_count": 33,
   "metadata": {},
   "outputs": [
    {
     "name": "stderr",
     "output_type": "stream",
     "text": [
      "/var/folders/d9/f39ks_q941961hvlpvd2zymc0000gn/T/ipykernel_46630/343742714.py:17: RuntimeWarning: The iteration is not making good progress, as measured by the \n",
      "  improvement from the last ten iterations.\n",
      "  solution = fsolve(FOC, x0=kj, args=(ki,gammai,Vj,r,p))\n"
     ]
    },
    {
     "data": {
      "text/plain": [
       "array([0.5, 0.5, 0.5, 0.5, 0.5])"
      ]
     },
     "execution_count": 33,
     "metadata": {},
     "output_type": "execute_result"
    }
   ],
   "source": [
    "# Number of doctors and patients\n",
    "I = 10\n",
    "J = 5\n",
    "\n",
    "# Doctor parameters\n",
    "Vj = np.random.random(J)\n",
    "r = 2\n",
    "p = 10 * np.random.random(J)\n",
    "\n",
    "# Patient parameters\n",
    "ki  = np.random.random(I)\n",
    "gammai  = np.random.random(I)\n",
    "\n",
    "# Doctor strategies guess\n",
    "kj  = 0.5*np.ones(J)\n",
    "\n",
    "solution = fsolve(FOC, x0=kj, args=(ki,gammai,Vj,r,p))\n",
    "solution"
   ]
  }
 ],
 "metadata": {
  "kernelspec": {
   "display_name": "Python 3",
   "language": "python",
   "name": "python3"
  },
  "language_info": {
   "codemirror_mode": {
    "name": "ipython",
    "version": 3
   },
   "file_extension": ".py",
   "mimetype": "text/x-python",
   "name": "python",
   "nbconvert_exporter": "python",
   "pygments_lexer": "ipython3",
   "version": "3.12.2"
  }
 },
 "nbformat": 4,
 "nbformat_minor": 2
}
