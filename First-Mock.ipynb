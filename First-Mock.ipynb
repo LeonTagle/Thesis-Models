{
 "cells": [
  {
   "cell_type": "code",
   "execution_count": 2,
   "metadata": {},
   "outputs": [],
   "source": [
    "# Import necessary libraries\n",
    "import matplotlib.pyplot as plt\n",
    "import numpy as np"
   ]
  },
  {
   "cell_type": "code",
   "execution_count": null,
   "metadata": {},
   "outputs": [],
   "source": [
    "# \"IMPLICIT\" SEARCH FUNCTION\n",
    "####################################################################################################\n",
    "\n",
    "def uij(ki,gammai,Vj,t,kj):\n",
    "    \"\"\"Utility patient i receives from doctor j\"\"\"\n",
    "\n",
    "    # Reshaping parameters to ensure proper broadcasting\n",
    "    ki = np.array(ki).reshape((1,-1))             # 1 x I\n",
    "    gammai = np.array(gammai).reshape((1,-1))     # 1 x I\n",
    "    kj = np.array(kj).reshape((-1,1))             # J x 1\n",
    "    Vj = np.array(Vj).reshape((-1,1))             # J x 1\n",
    "\n",
    "    return Vj * ki - t + np.where(ki >= kj, gammai, 0)\n",
    "        \n",
    "def aij(u,λ):\n",
    "    \"\"\"Intermediate function to calculate sij\"\"\"\n",
    "\n",
    "    return np.where(u > 0, np.exp(λ*u), 0)\n",
    "                \n",
    "def logit_search(ki,gammai,Vj,t,kj,λ):    \n",
    "    \"\"\"Probability that patient i visits doctor j\n",
    "    \n",
    "    Output form:\n",
    "    s_{i=1, j=1     s_i=2_j=1       ...     s_i=I_j=1\n",
    "    s_i=1_j=2     ...                     ...\n",
    "    # ...                                 ...\n",
    "    s_i=1_j=J     ...             ...     s_i=I_j=J\n",
    "    \"\"\"\n",
    "    #It takes the J-sized vectors of all doctors' Vj and κj as arguments\n",
    "\n",
    "    u = uij(ki,gammai,Vj,t,kj)\n",
    "    ai_total = np.sum(aij(u,λ), axis = 0)\n",
    "\n",
    "    with np.errstate(divide='ignore', invalid='ignore'):\n",
    "        # To avoid pesky division by zero warning      \n",
    "        return np.where(ai_total != 0, aij(u,λ)/ai_total, 0)\n",
    "\n",
    "\n",
    "# Some auxiliary functions to set up chain rule derivatives\n",
    "\n",
    "def dlogit_search_dk(ki,gammai,Vj,t,kj,λ):\n",
    "    \"\"\"Derivative d sij / d k\"\"\"\n",
    "\n",
    "    u = uij(ki,gammai,Vj,t,kj)\n",
    "    ai_total = np.sum(aij(u,λ), axis = 0)\n",
    "    result = np.divide(\n",
    "        Vj * aij(u,λ) * np.sum(aij(u,λ))- aij(u,λ) * np.sum(Vj * aij(u,λ)),\n",
    "        (np.sum(aij(u,λ)))**2\n",
    "        )\n",
    "    \n",
    "    return np.where(ai_total != 0, result, 0)\n",
    "\n",
    "dlogit_search_dk(ki,gammai,Vj,t,kj,λ).shape\n"
   ]
  },
  {
   "cell_type": "code",
   "execution_count": 3,
   "metadata": {},
   "outputs": [],
   "source": [
    "def FOC(kj,ki,gammai,Vj,t,r,p):\n",
    "\n",
    "    # The 'x' vector to be optimized is the vector of physician strategies, kj\n",
    "\n",
    "    # Patient strategies\n",
    "    Ui_aux = Vj*ki.reshape((-1,1)) - t     # Vj x ki\n",
    "    ki_greater = np.array(ki.reshape((-1,1)) >= kj.reshape((1,-1))).astype(int)  # I x J boolean mask of ki > kj\n",
    "    Ui = Ui_aux + ki_greater * gammai.reshape((-1,1))   # Vj x ki + gammai if ki > kj\n",
    "    exp_Ui = np.exp(Ui)     # exp(Ui)\n",
    "    αi = np.zeros((I,J))\n",
    "    αi[Ui > 0] = exp_Ui[Ui > 0]\n",
    "    sum_αi = np.sum(αi, axis = 1).reshape((-1,1))\n",
    "    Si = np.divide(αi, sum_αi, where=sum_αi!=0, out=np.zeros_like(αi))   # I x J vector of patient strategies (logit)\n",
    "\n",
    "    # Aggregates\n",
    "    Qi = np.sum(Si, axis = 0)\n",
    "    Xi = np.sum(ki_greater * Si, axis = 0)\n",
    "\n",
    "    return r - p * Xi\n"
   ]
  },
  {
   "cell_type": "code",
   "execution_count": 4,
   "metadata": {},
   "outputs": [],
   "source": [
    "# Number of doctors and patients\n",
    "I = 100\n",
    "J = 50\n",
    "\n",
    "# Doctor parameters\n",
    "Vj = np.random.random(J)\n",
    "r =0.1\n",
    "p = 100000*np.random.random(J)\n",
    "t= 0.2\n",
    "\n",
    "# Patient parameters\n",
    "ki  = np.random.random(I)\n",
    "gammai  = np.random.random(I)\n",
    "\n",
    "# Doctor strategies guess\n",
    "kj  = 0.5*np.ones(J)"
   ]
  },
  {
   "cell_type": "code",
   "execution_count": 5,
   "metadata": {},
   "outputs": [
    {
     "name": "stderr",
     "output_type": "stream",
     "text": [
      "/var/folders/d9/f39ks_q941961hvlpvd2zymc0000gn/T/ipykernel_10543/2419968891.py:7: RuntimeWarning: divide by zero encountered in divide\n",
      "  return np.where(Df_x == 0, 0, x - f(x) / Df_x)\n"
     ]
    }
   ],
   "source": [
    "def newton(f, Df, x_0, tol=1e-7, max_iter=100_000):\n",
    "    x = x_0\n",
    "\n",
    "    # Implement the zero-finding formula\n",
    "    def q(x):\n",
    "        Df_x = Df(x)  # Compute Df(x) once to avoid redundant calculations\n",
    "        return np.where(Df_x == 0, 0, x - f(x) / Df_x)\n",
    "\n",
    "    error = tol + 1\n",
    "    n = 0\n",
    "    while np.any(error > tol):\n",
    "        n += 1\n",
    "        if(n > max_iter):\n",
    "            break\n",
    "        y = q(x)\n",
    "        error = np.where(y == 0, 0, np.abs(x - y))\n",
    "        \n",
    "        x = y\n",
    "        x[x<0] = 0\n",
    "        if all(x == 0):\n",
    "            break\n",
    "    return x, error\n",
    "\n",
    "\n",
    "h = 0.001\n",
    "f = lambda x: FOC(x, ki,gammai,Vj,t,r,p)\n",
    "Df = lambda x: (f(x + h) - f(x))*(1/h)\n",
    "k_guess = 0.5*np.ones(J)\n",
    "\n",
    "a, b = newton(f, Df, k_guess, tol=1e-3, max_iter=1)"
   ]
  },
  {
   "cell_type": "code",
   "execution_count": 6,
   "metadata": {},
   "outputs": [
    {
     "data": {
      "text/plain": [
       "array([0., 0., 0., 0., 0., 0., 0., 0., 0., 0., 0., 0., 0., 0., 0., 0., 0.,\n",
       "       0., 0., 0., 0., 0., 0., 0., 0., 0., 0., 0., 0., 0., 0., 0., 0., 0.,\n",
       "       0., 0., 0., 0., 0., 0., 0., 0., 0., 0., 0., 0., 0., 0., 0., 0.])"
      ]
     },
     "execution_count": 6,
     "metadata": {},
     "output_type": "execute_result"
    }
   ],
   "source": [
    "Df(a)"
   ]
  },
  {
   "cell_type": "code",
   "execution_count": null,
   "metadata": {},
   "outputs": [],
   "source": []
  },
  {
   "cell_type": "code",
   "execution_count": null,
   "metadata": {},
   "outputs": [],
   "source": []
  },
  {
   "cell_type": "code",
   "execution_count": 7,
   "metadata": {},
   "outputs": [
    {
     "data": {
      "text/plain": [
       "array([0., 0., 0., 0., 0., 0., 0., 0., 0., 0., 0., 0., 0., 0., 0., 0., 0.,\n",
       "       0., 0., 0., 0., 0., 0., 0., 0., 0., 0., 0., 0., 0., 0., 0., 0., 0.,\n",
       "       0., 0., 0., 0., 0., 0., 0., 0., 0., 0., 0., 0., 0., 0., 0., 0.])"
      ]
     },
     "execution_count": 7,
     "metadata": {},
     "output_type": "execute_result"
    }
   ],
   "source": [
    "a"
   ]
  },
  {
   "cell_type": "code",
   "execution_count": 23,
   "metadata": {},
   "outputs": [
    {
     "data": {
      "text/plain": [
       "(50, 2)"
      ]
     },
     "execution_count": 23,
     "metadata": {},
     "output_type": "execute_result"
    }
   ],
   "source": [
    "def uij(ki,gammai,Vj,t,kj):\n",
    "            \"Utility patient i receives from doctor j\"\n",
    "\n",
    "            return Vj * ki - t + np.where(ki >= kj, gammai, 0)\n",
    "        \n",
    "def aij(u,λ):\n",
    "            \"Intermediate function to calculate sij\"\n",
    "\n",
    "            return np.where(u > 0, np.exp(λ*u), 0)\n",
    "                \n",
    "def sij(ki,gammai,Vj,t,kj,λ):    #It takes the J-sized vectors of all doctors' Vj and κj as arguments\n",
    "            \"Probability that patient i visits doctor j\"\n",
    "\n",
    "            u = uij(ki,gammai,Vj,t,kj)\n",
    "\n",
    "            return aij(u,λ)/np.sum(aij(u,λ))\n",
    "\n",
    "ki = 0.1*np.ones((1,2))\n",
    "gammai = 0.5\n",
    "λ = 1\n",
    "t = 0\n",
    "Vj = Vj.reshape((-1,1))\n",
    "kj = kj.reshape((-1,1))\n",
    "\n",
    "b = 5\n",
    "\n",
    "F = expon(scale=1/b)\n",
    "G = uniform\n",
    "H = uniform(scale = 2)\n",
    "\n",
    "f = lambda x: F.pdf(x)\n",
    "g = lambda x: G.pdf(x)\n",
    "\n",
    "df = -b * f\n",
    "\n",
    "\n",
    "s_k = lambda x: sij(x,gammai,Vj,t,kj,λ)\n",
    "\n",
    "l = kj.reshape(1,-1)\n",
    "\n",
    "def ds_dk(ki,gammai,Vj,t,kj,λ):\n",
    "    \"\"\"Derivative d sij / d k\"\"\"\n",
    "\n",
    "    u = uij(ki,gammai,Vj,t,kj)\n",
    "\n",
    "    if np.sum(aij(u,λ)) == 0:\n",
    "        return 0\n",
    "\n",
    "    return np.divide(Vj * aij(u,λ) * np.sum(aij(u,λ)) - aij(u,λ) * np.sum(Vj * aij(u,λ)), (np.sum(aij(u,λ)))**2)\n",
    "\n",
    "ds_dk(ki,gammai,Vj,t,kj,λ).shape\n",
    "\n",
    "\n",
    "s_gamma = lambda x: np.diagonal(sij(k0.reshape(1,-1),x,V,t,k0,λ)) \n",
    "        # Evaluate sij at each doctor's κj, then take the diagonal, taking doctor j's sij for his own kj\n",
    "        # This is a lambda function for a given value of γ\n",
    "\n",
    "        gamma_integrand = lambda x: s_gamma(x) * g(x) # sij(γ) g(γ)\n",
    "\n",
    "        n = 101\n",
    "        x = np.linspace(G.ppf(0),G.ppf(1),n) # n-sized linspace across the domain of G\n",
    "\n",
    "        results = []\n",
    "\n",
    "        # Loop that evaluates sij(γ) g(γ) for 101 values of γ\n",
    "        for i in x:\n",
    "            result = gamma_integrand(i)\n",
    "            results.append(result)\n",
    "\n",
    "        results = np.array(results)\n",
    "\n",
    "        mc_integral = np.sum(results, axis = 0)/n\n",
    "\n",
    "\n"
   ]
  },
  {
   "cell_type": "code",
   "execution_count": 14,
   "metadata": {},
   "outputs": [],
   "source": [
    "from scipy.stats import expon\n",
    "from scipy.stats import uniform"
   ]
  },
  {
   "cell_type": "code",
   "execution_count": 16,
   "metadata": {},
   "outputs": [
    {
     "ename": "NameError",
     "evalue": "name 'kj' is not defined",
     "output_type": "error",
     "traceback": [
      "\u001b[0;31m---------------------------------------------------------------------------\u001b[0m",
      "\u001b[0;31mNameError\u001b[0m                                 Traceback (most recent call last)",
      "Cell \u001b[0;32mIn[16], line 27\u001b[0m\n\u001b[1;32m     25\u001b[0m \u001b[38;5;66;03m# Loop that evaluates sij(γ) g(γ) for 101 values of γ\u001b[39;00m\n\u001b[1;32m     26\u001b[0m \u001b[38;5;28;01mfor\u001b[39;00m i \u001b[38;5;129;01min\u001b[39;00m x:\n\u001b[0;32m---> 27\u001b[0m     result \u001b[38;5;241m=\u001b[39m \u001b[43mgamma_integrand\u001b[49m\u001b[43m(\u001b[49m\u001b[43mi\u001b[49m\u001b[43m)\u001b[49m\n\u001b[1;32m     28\u001b[0m     results\u001b[38;5;241m.\u001b[39mappend(result)\n\u001b[1;32m     30\u001b[0m results \u001b[38;5;241m=\u001b[39m np\u001b[38;5;241m.\u001b[39marray(results)\n",
      "Cell \u001b[0;32mIn[16], line 18\u001b[0m, in \u001b[0;36m<lambda>\u001b[0;34m(x)\u001b[0m\n\u001b[1;32m      9\u001b[0m s_gamma \u001b[38;5;241m=\u001b[39m \u001b[38;5;28;01mlambda\u001b[39;00m x: np\u001b[38;5;241m.\u001b[39mdiagonal(kj,x,V,t,kj,λ)\n\u001b[1;32m     10\u001b[0m \u001b[38;5;66;03m# Evaluate sij at each doctor's κj, then take the diagonal, taking doctor j's sij for his own kj\u001b[39;00m\n\u001b[1;32m     11\u001b[0m \u001b[38;5;66;03m# This is a lambda function for a given value of γ\u001b[39;00m\n\u001b[1;32m     12\u001b[0m \u001b[38;5;66;03m# Output form:\u001b[39;00m\n\u001b[0;32m   (...)\u001b[0m\n\u001b[1;32m     15\u001b[0m \u001b[38;5;66;03m# ...\u001b[39;00m\n\u001b[1;32m     16\u001b[0m \u001b[38;5;66;03m# s(kJ,γ)_j=J   ...                     s(kJ,γ)_j=J\u001b[39;00m\n\u001b[0;32m---> 18\u001b[0m gamma_integrand \u001b[38;5;241m=\u001b[39m \u001b[38;5;28;01mlambda\u001b[39;00m x: \u001b[43ms_gamma\u001b[49m\u001b[43m(\u001b[49m\u001b[43mx\u001b[49m\u001b[43m)\u001b[49m \u001b[38;5;241m*\u001b[39m g(x) \u001b[38;5;66;03m# sij(γ) g(γ)\u001b[39;00m\n\u001b[1;32m     20\u001b[0m n \u001b[38;5;241m=\u001b[39m \u001b[38;5;241m101\u001b[39m\n\u001b[1;32m     21\u001b[0m x \u001b[38;5;241m=\u001b[39m np\u001b[38;5;241m.\u001b[39mlinspace(G\u001b[38;5;241m.\u001b[39mppf(\u001b[38;5;241m0\u001b[39m),G\u001b[38;5;241m.\u001b[39mppf(\u001b[38;5;241m1\u001b[39m),n) \u001b[38;5;66;03m# n-sized linspace across the domain of G\u001b[39;00m\n",
      "Cell \u001b[0;32mIn[16], line 9\u001b[0m, in \u001b[0;36m<lambda>\u001b[0;34m(x)\u001b[0m\n\u001b[1;32m      6\u001b[0m f \u001b[38;5;241m=\u001b[39m \u001b[38;5;28;01mlambda\u001b[39;00m x: F\u001b[38;5;241m.\u001b[39mpdf(x)\n\u001b[1;32m      7\u001b[0m g \u001b[38;5;241m=\u001b[39m \u001b[38;5;28;01mlambda\u001b[39;00m x: G\u001b[38;5;241m.\u001b[39mpdf(x)\n\u001b[0;32m----> 9\u001b[0m s_gamma \u001b[38;5;241m=\u001b[39m \u001b[38;5;28;01mlambda\u001b[39;00m x: np\u001b[38;5;241m.\u001b[39mdiagonal(\u001b[43mkj\u001b[49m,x,V,t,kj,λ)\n\u001b[1;32m     10\u001b[0m \u001b[38;5;66;03m# Evaluate sij at each doctor's κj, then take the diagonal, taking doctor j's sij for his own kj\u001b[39;00m\n\u001b[1;32m     11\u001b[0m \u001b[38;5;66;03m# This is a lambda function for a given value of γ\u001b[39;00m\n\u001b[1;32m     12\u001b[0m \u001b[38;5;66;03m# Output form:\u001b[39;00m\n\u001b[0;32m   (...)\u001b[0m\n\u001b[1;32m     15\u001b[0m \u001b[38;5;66;03m# ...\u001b[39;00m\n\u001b[1;32m     16\u001b[0m \u001b[38;5;66;03m# s(kJ,γ)_j=J   ...                     s(kJ,γ)_j=J\u001b[39;00m\n\u001b[1;32m     18\u001b[0m gamma_integrand \u001b[38;5;241m=\u001b[39m \u001b[38;5;28;01mlambda\u001b[39;00m x: s_gamma(x) \u001b[38;5;241m*\u001b[39m g(x) \u001b[38;5;66;03m# sij(γ) g(γ)\u001b[39;00m\n",
      "\u001b[0;31mNameError\u001b[0m: name 'kj' is not defined"
     ]
    }
   ],
   "source": [
    "        b = 1        \n",
    "        F = expon(scale=1/b)\n",
    "        G = uniform(scale = 1)\n",
    "        H = uniform(scale = 10)\n",
    "\n",
    "        f = lambda x: F.pdf(x)\n",
    "        g = lambda x: G.pdf(x)\n",
    "\n",
    "        s_gamma = lambda x: np.diagonal(kj,x,V,t,kj,λ)\n",
    "        # Evaluate sij at each doctor's κj, then take the diagonal, taking doctor j's sij for his own kj\n",
    "        # This is a lambda function for a given value of γ\n",
    "        # Output form:\n",
    "        # s(k1,γ)_j=1   s(k2,γ)_j=1     ...     s(kJ,γ)_j=1\n",
    "        # s(k1,γ)_j=2   ...                     ...\n",
    "        # ...\n",
    "        # s(kJ,γ)_j=J   ...                     s(kJ,γ)_j=J\n",
    "\n",
    "        gamma_integrand = lambda x: s_gamma(x) * g(x) # sij(γ) g(γ)\n",
    "\n",
    "        n = 101\n",
    "        x = np.linspace(G.ppf(0),G.ppf(1),n) # n-sized linspace across the domain of G\n",
    "\n",
    "        results = []\n",
    "\n",
    "        # Loop that evaluates sij(γ) g(γ) for 101 values of γ\n",
    "        for i in x:\n",
    "            result = gamma_integrand(i)\n",
    "            results.append(result)\n",
    "\n",
    "        results = np.array(results)\n",
    "\n",
    "        mc_integral = np.sum(results, axis = 0)/n\n",
    "        # By summing column wise divided by n we get a monte-carlo approximation of an integral\n",
    "\n",
    "        J = len(k0)\n",
    "        # Create a matrix of ones\n",
    "        signs_matrix = np.ones((J, J))\n",
    "        # Set the diagonal elements to -1\n",
    "        np.fill_diagonal(signs_matrix, -1)\n",
    "        # Replace integral matrix\n",
    "        mc_integral = mc_integral*signs_matrix\n",
    "\n",
    "        mc_integral * f(k0.reshape(1,-1))"
   ]
  },
  {
   "cell_type": "markdown",
   "metadata": {},
   "source": []
  },
  {
   "cell_type": "code",
   "execution_count": 8,
   "metadata": {},
   "outputs": [
    {
     "data": {
      "text/plain": [
       "array([0.        , 0.55555556, 1.11111111, 1.66666667, 2.22222222,\n",
       "       2.77777778, 3.33333333, 3.88888889, 4.44444444, 5.        ])"
      ]
     },
     "execution_count": 8,
     "metadata": {},
     "output_type": "execute_result"
    }
   ],
   "source": [
    "def R(r,x):\n",
    "    return r*x\n",
    "\n",
    "r = 1\n",
    "x = np.linspace(0,5,10)\n",
    "\n",
    "R(r,x)"
   ]
  }
 ],
 "metadata": {
  "kernelspec": {
   "display_name": "Python 3",
   "language": "python",
   "name": "python3"
  },
  "language_info": {
   "codemirror_mode": {
    "name": "ipython",
    "version": 3
   },
   "file_extension": ".py",
   "mimetype": "text/x-python",
   "name": "python",
   "nbconvert_exporter": "python",
   "pygments_lexer": "ipython3",
   "version": "3.12.2"
  }
 },
 "nbformat": 4,
 "nbformat_minor": 2
}
