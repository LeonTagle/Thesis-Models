{
 "cells": [
  {
   "cell_type": "code",
   "execution_count": 2,
   "metadata": {},
   "outputs": [],
   "source": [
    "# Import necessary libraries\n",
    "import matplotlib.pyplot as plt\n",
    "import numpy as np\n",
    "from scipy.stats import expon\n",
    "from scipy.stats import uniform\n",
    "from scipy.integrate import quad"
   ]
  },
  {
   "cell_type": "code",
   "execution_count": 3,
   "metadata": {},
   "outputs": [],
   "source": [
    "def FOC(kj,ki,gammai,Vj,t,r,p):\n",
    "\n",
    "    # The 'x' vector to be optimized is the vector of physician strategies, kj\n",
    "\n",
    "    # Patient strategies\n",
    "    Ui_aux = Vj*ki.reshape((-1,1)) - t     # Vj x ki\n",
    "    ki_greater = np.array(ki.reshape((-1,1)) >= kj.reshape((1,-1))).astype(int)  # I x J boolean mask of ki > kj\n",
    "    Ui = Ui_aux + ki_greater * gammai.reshape((-1,1))   # Vj x ki + gammai if ki > kj\n",
    "    exp_Ui = np.exp(Ui)     # exp(Ui)\n",
    "    αi = np.zeros((I,J))\n",
    "    αi[Ui > 0] = exp_Ui[Ui > 0]\n",
    "    sum_αi = np.sum(αi, axis = 1).reshape((-1,1))\n",
    "    Si = np.divide(αi, sum_αi, where=sum_αi!=0, out=np.zeros_like(αi))   # I x J vector of patient strategies (logit)\n",
    "\n",
    "    # Aggregates\n",
    "    Qi = np.sum(Si, axis = 0)\n",
    "    Xi = np.sum(ki_greater * Si, axis = 0)\n",
    "\n",
    "    return r - p * Xi\n"
   ]
  },
  {
   "cell_type": "code",
   "execution_count": 4,
   "metadata": {},
   "outputs": [],
   "source": [
    "# Number of doctors and patients\n",
    "I = 100\n",
    "J = 50\n",
    "\n",
    "# Doctor parameters\n",
    "Vj = np.random.random(J)\n",
    "r =0.1\n",
    "p = 100000*np.random.random(J)\n",
    "t= 0.2\n",
    "\n",
    "# Patient parameters\n",
    "ki  = np.random.random(I)\n",
    "gammai  = np.random.random(I)\n",
    "\n",
    "# Doctor strategies guess\n",
    "kj  = 0.5*np.ones(J)"
   ]
  },
  {
   "cell_type": "code",
   "execution_count": 5,
   "metadata": {},
   "outputs": [
    {
     "name": "stderr",
     "output_type": "stream",
     "text": [
      "/var/folders/d9/f39ks_q941961hvlpvd2zymc0000gn/T/ipykernel_10543/2419968891.py:7: RuntimeWarning: divide by zero encountered in divide\n",
      "  return np.where(Df_x == 0, 0, x - f(x) / Df_x)\n"
     ]
    }
   ],
   "source": [
    "def newton(f, Df, x_0, tol=1e-7, max_iter=100_000):\n",
    "    x = x_0\n",
    "\n",
    "    # Implement the zero-finding formula\n",
    "    def q(x):\n",
    "        Df_x = Df(x)  # Compute Df(x) once to avoid redundant calculations\n",
    "        return np.where(Df_x == 0, 0, x - f(x) / Df_x)\n",
    "\n",
    "    error = tol + 1\n",
    "    n = 0\n",
    "    while np.any(error > tol):\n",
    "        n += 1\n",
    "        if(n > max_iter):\n",
    "            break\n",
    "        y = q(x)\n",
    "        error = np.where(y == 0, 0, np.abs(x - y))\n",
    "        \n",
    "        x = y\n",
    "        x[x<0] = 0\n",
    "        if all(x == 0):\n",
    "            break\n",
    "    return x, error\n",
    "\n",
    "\n",
    "h = 0.001\n",
    "f = lambda x: FOC(x, ki,gammai,Vj,t,r,p)\n",
    "Df = lambda x: (f(x + h) - f(x))*(1/h)\n",
    "k_guess = 0.5*np.ones(J)\n",
    "\n",
    "a, b = newton(f, Df, k_guess, tol=1e-3, max_iter=1)"
   ]
  },
  {
   "cell_type": "code",
   "execution_count": 6,
   "metadata": {},
   "outputs": [
    {
     "data": {
      "text/plain": [
       "array([0., 0., 0., 0., 0., 0., 0., 0., 0., 0., 0., 0., 0., 0., 0., 0., 0.,\n",
       "       0., 0., 0., 0., 0., 0., 0., 0., 0., 0., 0., 0., 0., 0., 0., 0., 0.,\n",
       "       0., 0., 0., 0., 0., 0., 0., 0., 0., 0., 0., 0., 0., 0., 0., 0.])"
      ]
     },
     "execution_count": 6,
     "metadata": {},
     "output_type": "execute_result"
    }
   ],
   "source": [
    "Df(a)"
   ]
  },
  {
   "cell_type": "code",
   "execution_count": null,
   "metadata": {},
   "outputs": [],
   "source": []
  },
  {
   "cell_type": "code",
   "execution_count": null,
   "metadata": {},
   "outputs": [],
   "source": []
  },
  {
   "cell_type": "code",
   "execution_count": 7,
   "metadata": {},
   "outputs": [
    {
     "data": {
      "text/plain": [
       "array([0., 0., 0., 0., 0., 0., 0., 0., 0., 0., 0., 0., 0., 0., 0., 0., 0.,\n",
       "       0., 0., 0., 0., 0., 0., 0., 0., 0., 0., 0., 0., 0., 0., 0., 0., 0.,\n",
       "       0., 0., 0., 0., 0., 0., 0., 0., 0., 0., 0., 0., 0., 0., 0., 0.])"
      ]
     },
     "execution_count": 7,
     "metadata": {},
     "output_type": "execute_result"
    }
   ],
   "source": [
    "a"
   ]
  },
  {
   "cell_type": "code",
   "execution_count": 23,
   "metadata": {},
   "outputs": [
    {
     "data": {
      "text/plain": [
       "(50, 2)"
      ]
     },
     "execution_count": 23,
     "metadata": {},
     "output_type": "execute_result"
    }
   ],
   "source": [
    "def uij(ki,gammai,Vj,t,kj):\n",
    "            \"Utility patient i receives from doctor j\"\n",
    "\n",
    "            return Vj * ki - t + np.where(ki >= kj, gammai, 0)\n",
    "        \n",
    "def aij(u,λ):\n",
    "            \"Intermediate function to calculate sij\"\n",
    "\n",
    "            return np.where(u > 0, np.exp(λ*u), 0)\n",
    "                \n",
    "def sij(ki,gammai,Vj,t,kj,λ):    #It takes the J-sized vectors of all doctors' Vj and κj as arguments\n",
    "            \"Probability that patient i visits doctor j\"\n",
    "\n",
    "            u = uij(ki,gammai,Vj,t,kj)\n",
    "\n",
    "            return aij(u,λ)/np.sum(aij(u,λ))\n",
    "\n",
    "ki = 0.1*np.ones((1,2))\n",
    "gammai = 0.5\n",
    "λ = 1\n",
    "t = 0\n",
    "Vj = Vj.reshape((-1,1))\n",
    "kj = kj.reshape((-1,1))\n",
    "\n",
    "b = 5\n",
    "\n",
    "F = expon(scale=1/b)\n",
    "G = uniform\n",
    "H = uniform(scale = 2)\n",
    "\n",
    "f = lambda x: F.pdf(x)\n",
    "g = lambda x: G.pdf(x)\n",
    "\n",
    "df = -b * f\n",
    "\n",
    "\n",
    "s_k = lambda x: sij(x,gammai,Vj,t,kj,λ)\n",
    "\n",
    "l = kj.reshape(1,-1)\n",
    "\n",
    "def ds_dk(ki,gammai,Vj,t,kj,λ):\n",
    "    \"\"\"Derivative d sij / d k\"\"\"\n",
    "\n",
    "    u = uij(ki,gammai,Vj,t,kj)\n",
    "\n",
    "    if np.sum(aij(u,λ)) == 0:\n",
    "        return 0\n",
    "\n",
    "    return np.divide(Vj * aij(u,λ) * np.sum(aij(u,λ)) - aij(u,λ) * np.sum(Vj * aij(u,λ)), (np.sum(aij(u,λ)))**2)\n",
    "\n",
    "ds_dk(ki,gammai,Vj,t,kj,λ).shape\n",
    "\n",
    "\n",
    "s_gamma = lambda x: np.diagonal(sij(k0.reshape(1,-1),x,V,t,k0,λ)) \n",
    "        # Evaluate sij at each doctor's κj, then take the diagonal, taking doctor j's sij for his own kj\n",
    "        # This is a lambda function for a given value of γ\n",
    "\n",
    "        gamma_integrand = lambda x: s_gamma(x) * g(x) # sij(γ) g(γ)\n",
    "\n",
    "        n = 101\n",
    "        x = np.linspace(G.ppf(0),G.ppf(1),n) # n-sized linspace across the domain of G\n",
    "\n",
    "        results = []\n",
    "\n",
    "        # Loop that evaluates sij(γ) g(γ) for 101 values of γ\n",
    "        for i in x:\n",
    "            result = gamma_integrand(i)\n",
    "            results.append(result)\n",
    "\n",
    "        results = np.array(results)\n",
    "\n",
    "        mc_integral = np.sum(results, axis = 0)/n\n",
    "\n",
    "\n",
    "d2Q_dk = aux_func(self, ds_sk, k0) + aux_func(self, self.sij, k0) * df\n",
    "\n",
    "\n"
   ]
  }
 ],
 "metadata": {
  "kernelspec": {
   "display_name": "Python 3",
   "language": "python",
   "name": "python3"
  },
  "language_info": {
   "codemirror_mode": {
    "name": "ipython",
    "version": 3
   },
   "file_extension": ".py",
   "mimetype": "text/x-python",
   "name": "python",
   "nbconvert_exporter": "python",
   "pygments_lexer": "ipython3",
   "version": "3.12.2"
  }
 },
 "nbformat": 4,
 "nbformat_minor": 2
}
